{
  "nbformat": 4,
  "nbformat_minor": 0,
  "metadata": {
    "colab": {
      "provenance": [],
      "gpuType": "A100"
    },
    "kernelspec": {
      "name": "python3",
      "display_name": "Python 3"
    },
    "language_info": {
      "name": "python"
    },
    "accelerator": "GPU"
  },
  "cells": [
    {
      "cell_type": "markdown",
      "source": [
        "❗이 튜토리얼은 Ultralytics의 [YOLO11 tutorial colab notebook](https://colab.research.google.com/github/ultralytics/ultralytics/blob/main/examples/tutorial.ipynb)을 참고하여 작성되었습니다."
      ],
      "metadata": {
        "id": "vFKBA7lqQu0m"
      }
    },
    {
      "cell_type": "markdown",
      "source": [
        "# Setup"
      ],
      "metadata": {
        "id": "Z5vsPaHtRVY5"
      }
    },
    {
      "cell_type": "markdown",
      "source": [
        "**라이브러리 설치**\n",
        "\n",
        "우선 YOLO 11을 사용하기 위해 Ultralytics의 라이브러리를 설치합니다."
      ],
      "metadata": {
        "id": "JhAMo7sNRYgM"
      }
    },
    {
      "cell_type": "code",
      "source": [
        "# 1분 이상 소요\n",
        "%pip install ultralytics"
      ],
      "metadata": {
        "id": "AcW7LS1NRjyb"
      },
      "execution_count": null,
      "outputs": []
    },
    {
      "cell_type": "markdown",
      "source": [
        "**설치 확인**\n",
        "\n",
        "다음 문구가 출력되면 성공입니다.\n",
        "\n",
        "```\n",
        "Ultralytics 8.3.160 🚀 Python-3.11.13 torch-2.6.0+cu124 CPU (Intel Xeon 2.20GHz)\n",
        "Setup complete ✅ (2 CPUs, 12.7 GB RAM, 41.8/107.7 GB disk)\n",
        "```"
      ],
      "metadata": {
        "id": "6dWTzTsURnbg"
      }
    },
    {
      "cell_type": "code",
      "source": [
        "import ultralytics\n",
        "ultralytics.checks()"
      ],
      "metadata": {
        "id": "W4twitjzRo6x"
      },
      "execution_count": null,
      "outputs": []
    },
    {
      "cell_type": "markdown",
      "source": [
        "# Ultralytics 사용법\n",
        "\n"
      ],
      "metadata": {
        "id": "Kp1Ctt3abf9-"
      }
    },
    {
      "cell_type": "markdown",
      "source": [
        "\n",
        "Ultralytics 라이브러리는 **Python**과 **CLI(Command line)** 두 가지 방법으로 이용할 수 있습니다.\n"
      ],
      "metadata": {
        "id": "d064m05Ybq7I"
      }
    },
    {
      "cell_type": "markdown",
      "source": [
        "**Python 사용 예**\n",
        "\n",
        "```\n",
        "from ultralytics import YOLO\n",
        "\n",
        "# 1) 모델 로드\n",
        "model = YOLO('yolov8n.pt')  \n",
        "\n",
        "# 2) 학습\n",
        "model.train(\n",
        "    data='data.yaml',     # 데이터 YAML 파일\n",
        "    epochs=50,            # 반복 횟수\n",
        "    imgsz=640,            # 입력 이미지 크기\n",
        "    batch=16,             # 배치 크기\n",
        "    lr0=1e-3,             # 초기 학습률\n",
        "    project='runs/train', # 결과 저장 폴더\n",
        "    name='exp1'           # 실험 이름\n",
        ")\n",
        "\n",
        "# 3) 추론\n",
        "model('img_path')\n",
        "\n",
        "# 4) 평가\n",
        "model.val()\n",
        "\n",
        "```\n",
        "\n",
        "장점: Python 코드 안에서 모든 설정을 제어할 수 있으며 실험 파이프라인에 유연하게 통합 가능\n",
        "\n",
        "참고([링크](https://docs.ultralytics.com/ko/usage/python/))"
      ],
      "metadata": {
        "id": "0VgTonRbUtpv"
      }
    },
    {
      "cell_type": "markdown",
      "source": [
        "**CLI(Command-Line) 사용 예**\n",
        "\n",
        "터미널 혹은 Colab 셀에서 바로 실행합니다.\n",
        "```\n",
        "yolo TASK MODE ARGS\n",
        "```\n",
        "\n",
        "\n",
        "* TASK (선택 사항)은 다음 중 하나입니다. [detect, segment, classify, pose, obb]. 명시적으로 전달되지 않은 경우 YOLO TASK 를 모델 유형에서 선택합니다.\n",
        "* MODE (필수)는 다음 중 하나입니다. [train, val, predict, export, track, benchmark]\n",
        "* ARGS (선택 사항) 사용자 지정 arg=value 같은 imgsz=320 기본값을 재정의할 수 있습니다. 사용 가능한 전체 목록은 ARGS를 참조하세요. 구성 페이지와 defaults.yaml.\n",
        "\n",
        "학습\n",
        "```\n",
        "yolo detect train data=data.yaml model=yolov8n.pt epochs=50 imgsz=640 batch=16 lr0=1e-3 project=runs/train name=exp1\n",
        "```\n",
        "\n",
        "예측\n",
        "```\n",
        "yolo predict model=yolo11n.pt source='https://youtu.be/LNwODJXcvt4' imgsz=320\n",
        "```\n",
        "* `source`는 예측 대상으로 이미지(한 장), 디렉토리, 링크, 비디오 등 다양한 유형이 될 수 있습니다.\n",
        "\n",
        "평가\n",
        "```\n",
        "yolo val model=yolo11n.pt data=data.yaml batch=1 imgsz=640\n",
        "```\n",
        "\n",
        "장점: 명령 한 줄로 실행 — 사용이 간단하며 빠르게 설정하고 결과를 확인하기에 편리\n",
        "\n",
        "단점: 복잡한 로직이나 세세한 설정과 실험 관리에 제약이\n",
        "\n",
        "참고([링크](https://docs.ultralytics.com/ko/usage/cli/))"
      ],
      "metadata": {
        "id": "RGiMG1C2U9AV"
      }
    },
    {
      "cell_type": "markdown",
      "source": [
        "이 노트북에서는 CLI 방식으로 실험해보고, 마지막에 Python API를 활용해보겠습니다."
      ],
      "metadata": {
        "id": "e8ANZUyqVpBt"
      }
    },
    {
      "cell_type": "markdown",
      "source": [
        "# 데이터셋 업로드\n",
        "\n",
        "`데이터셋_구축.ipynb`에서 구축한 데이터셋을 업로드합니다."
      ],
      "metadata": {
        "id": "QgnAl-s-7YPq"
      }
    },
    {
      "cell_type": "code",
      "source": [
        "from google.colab import files\n",
        "\n",
        "uploaded = files.upload()\n",
        "\n",
        "for fn in uploaded.keys():\n",
        "  print('User uploaded file \"{name}\" with length {length} bytes'.format(\n",
        "      name=fn, length=len(uploaded[fn])))"
      ],
      "metadata": {
        "id": "WHRgSTvD-HPJ"
      },
      "execution_count": null,
      "outputs": []
    },
    {
      "cell_type": "code",
      "source": [
        "!ls # 출력: PigDataset.zip"
      ],
      "metadata": {
        "id": "9JgIH5rK-wyT"
      },
      "execution_count": null,
      "outputs": []
    },
    {
      "cell_type": "code",
      "source": [
        "!unzip -qq PigDataset.zip"
      ],
      "metadata": {
        "id": "5PP8rU11-PFn"
      },
      "execution_count": null,
      "outputs": []
    },
    {
      "cell_type": "code",
      "source": [
        "!ls PigDataset # pig.yaml  train  val"
      ],
      "metadata": {
        "id": "AT5dBejWTJYh"
      },
      "execution_count": null,
      "outputs": []
    },
    {
      "cell_type": "markdown",
      "source": [
        "# 학습"
      ],
      "metadata": {
        "id": "90GfSwk1TP6g"
      }
    },
    {
      "cell_type": "markdown",
      "source": [
        "Ultralytics에서 제공하는 사전 학습 모델을 이용합니다. (참고: https://docs.ultralytics.com/ko/models/yolo11/)\n",
        "\n",
        "모델과 간단한 하이퍼파라미터를 선택해 학습니다.\n"
      ],
      "metadata": {
        "id": "Cj25UdHGThzY"
      }
    },
    {
      "cell_type": "code",
      "source": [
        "# 텐서보드 설정 - 텐서보드는 모델의 학습 과정(loss curve 등)을 모니터링할 수 있는 도구입니다.\n",
        "!yolo settings tensorboard=True\n",
        "%load_ext tensorboard"
      ],
      "metadata": {
        "id": "U3Q9Rw4dEi4p"
      },
      "execution_count": null,
      "outputs": []
    },
    {
      "cell_type": "markdown",
      "source": [
        "학습\n",
        "\n",
        "* Ultralytics의 YOLOv5 이상 버전부터는 학습 파이프라인에 Mosaic 증강이 기본으로 포함되어 있어, 별도로 증강을 설정할 필요가 없습니다.\n",
        "\n",
        "* Mosaic 증강에 대한 자세한 내용은 [링크](https://docs.ultralytics.com/guides/yolo-data-augmentation/)를 참고하세요.\n",
        "* `patience` 옵션을 추가해 일정 구간 학습이 이루어지지 않으면 **early stopping**을 합니다."
      ],
      "metadata": {
        "id": "hbIVbdRHWQE9"
      }
    },
    {
      "cell_type": "code",
      "source": [
        "!yolo train model=yolo11s.pt data=PigDataset/pig.yaml epochs=100 imgsz=640 patience=20"
      ],
      "metadata": {
        "id": "nNmJjuZFRfK5"
      },
      "execution_count": null,
      "outputs": []
    },
    {
      "cell_type": "markdown",
      "source": [
        "텐서보드로 학습 과정 및 결과를 확인합니다.\n",
        "\n",
        "* `train` 탭의  loss 곡선과 `val` 탭의 loss 곡선을 비교하세요.\n",
        "* `metrics` 탭의 AP 성능 변화를 확인하세요.\n",
        "\n",
        "학습이 잘 되었나요?"
      ],
      "metadata": {
        "id": "v_WJLdiyXn1M"
      }
    },
    {
      "cell_type": "code",
      "source": [
        "%tensorboard --logdir ."
      ],
      "metadata": {
        "id": "ZfJcquRsEX3e"
      },
      "execution_count": null,
      "outputs": []
    },
    {
      "cell_type": "markdown",
      "source": [
        "실험 결과는 별도로 설정하지 않았다면 `runs/detect/` 디렉토리에 저장됩니다.\n",
        "\n",
        "다시 학습을 하면 'train'부터 순서대로 'train2', 'train3', .. 순으로 자동으로 번호가 지정됩니다.\n",
        "\n",
        "이후의 코드에서는 반드시 실험 모델 경로를 확인하고 코드를 수정해주세요.\n",
        "\n",
        "`!ls runs/detect` 명령어 혹은 파일 탭(왼쪽 메뉴 맨 아래)에서 저장된 train 폴더 목록을 확인하는 것을 추천합니다."
      ],
      "metadata": {
        "id": "cA6w_6T4YOFs"
      }
    },
    {
      "cell_type": "code",
      "source": [
        "!ls runs/detect"
      ],
      "metadata": {
        "id": "BnQiJAP9WlSo"
      },
      "execution_count": null,
      "outputs": []
    },
    {
      "cell_type": "markdown",
      "source": [
        "YOLO의 실험은 다양한 분석 결과를 함께 저장해줍니다.\n",
        "\n",
        "왼쪽  탭의 맨 아래쪽 파일 탭을 눌러 저장된 실험 결과를 확인하세요.\n",
        "\n",
        "설정 정보, 학습 결과, 학습 곡선, confusion matrix, 배치 이미지 등을 확인할 수 있습니다.\n",
        "\n",
        "학습한 모델은 `weights` 디렉토리에 저장되어 있습니다.\n",
        "\n",
        "실험결과를 모두 저장하고 싶다면 `runs` 디렉토리를 압축한 후, 다운로드 합니다. (*데이터셋_구축.ipynb* 참고)\n",
        "\n",
        "***세션이 종료되면 실험 결과는 사라지니, 필요하다면 반드시 다운로드하세요***"
      ],
      "metadata": {
        "id": "x_ABY19vY2ba"
      }
    },
    {
      "cell_type": "code",
      "source": [
        "# 실험 디렉토리 확인\n",
        "!ls runs/detect/train"
      ],
      "metadata": {
        "id": "xjNFvS1sY0c9"
      },
      "execution_count": null,
      "outputs": []
    },
    {
      "cell_type": "code",
      "source": [
        "# 학습 모델 확인\n",
        "!ls runs/detect/train/weights"
      ],
      "metadata": {
        "id": "xoHnsAvJWpbW"
      },
      "execution_count": null,
      "outputs": []
    },
    {
      "cell_type": "markdown",
      "source": [
        "# 추론"
      ],
      "metadata": {
        "id": "AdZorfz0T180"
      }
    },
    {
      "cell_type": "markdown",
      "source": [
        "학습한 모델을 이용해 예측합니다.\n",
        "\n",
        "검증 이미지를 모두 예측해보겠습니다.\n",
        "\n",
        "```\n",
        "!yolo predict model=runs/detect/train/weights/best.pt source=PigDataset/val/images\n",
        "```\n",
        "\n",
        "\n",
        "`weights`에저장된 `best.pt`와 `last.pt` 중, `best.pt` 사용을 추천합니다."
      ],
      "metadata": {
        "id": "3mJRoHI8ZxQP"
      }
    },
    {
      "cell_type": "markdown",
      "source": [
        "예: `runs/detect/train/weights/best.pt`\n",
        "\n",
        "*세션에서 학습을 여러 번 진행했을 경우 반드시 실험 디렉토리를 확인하세요*"
      ],
      "metadata": {
        "id": "dfq7x8UOMqUR"
      }
    },
    {
      "cell_type": "code",
      "source": [
        "!yolo predict model=runs/detect/train/weights/best.pt source=PigDataset/val/images"
      ],
      "metadata": {
        "id": "M3RSnwWsT2v5"
      },
      "execution_count": null,
      "outputs": []
    },
    {
      "cell_type": "markdown",
      "source": [
        "위 코드 실행 시 이미지 별 검출 객체 수, 실행 시간, 예측 결과 저장 경로 등을 확인할 수 있습니다.\n",
        "\n",
        "* `Results saved to runs/detect/predict`: 저장 경로를 알려줍니다."
      ],
      "metadata": {
        "id": "vdO0SfmncrDn"
      }
    },
    {
      "cell_type": "code",
      "source": [
        "!ls runs/detect"
      ],
      "metadata": {
        "id": "szcgX66IWxVH"
      },
      "execution_count": null,
      "outputs": []
    },
    {
      "cell_type": "code",
      "source": [
        "!ls runs/detect/predict"
      ],
      "metadata": {
        "id": "1avzRhOJdUZf"
      },
      "execution_count": null,
      "outputs": []
    },
    {
      "cell_type": "markdown",
      "source": [
        "예측 결과를 압축 후 다운로드 하여 로컬에서 확인해봅시다."
      ],
      "metadata": {
        "id": "vAxQDnrJdTkz"
      }
    },
    {
      "cell_type": "code",
      "source": [
        "!zip -r predict.zip runs/detect/predict"
      ],
      "metadata": {
        "id": "HtN-mKVoW2x0"
      },
      "execution_count": null,
      "outputs": []
    },
    {
      "cell_type": "code",
      "source": [
        "files.download('predict.zip')"
      ],
      "metadata": {
        "id": "o6QyjYvMW9eZ"
      },
      "execution_count": null,
      "outputs": []
    },
    {
      "cell_type": "markdown",
      "source": [
        "# 평가"
      ],
      "metadata": {
        "id": "GcVFRQLqOV98"
      }
    },
    {
      "cell_type": "code",
      "source": [
        "!yolo val model=runs/detect/train/weights/best.pt data=PigDataset/pig.yaml imgsz=640 batch=8 conf=0.3 iou=0.6"
      ],
      "metadata": {
        "id": "M40u7EosNJRX"
      },
      "execution_count": null,
      "outputs": []
    },
    {
      "cell_type": "markdown",
      "source": [
        "# Python\n",
        "\n",
        "커맨드 라인이 아닌 python api를 이용해 파이썬으로 구현합니다."
      ],
      "metadata": {
        "id": "_N0mMGoOYCB3"
      }
    },
    {
      "cell_type": "code",
      "source": [
        "from ultralytics import YOLO\n",
        "\n",
        "model = YOLO('yolo11s.pt')  # pretrained YOLO 모델 로드\n",
        "model.train(data='PigDataset/pig.yaml', epochs=100, imgsz=640, patience=20)  # train\n",
        "# model('/content/PigDataset/val/images/001_W5741__2021-10-08_14_45_07_frame0005.bmp')  # predict (image)\n",
        "# model('./PigDataset/images/val')  # predict (directory)\n"
      ],
      "metadata": {
        "id": "Wg7fsrHIUuKa"
      },
      "execution_count": null,
      "outputs": []
    },
    {
      "cell_type": "code",
      "source": [
        "# 모델 평가(AP 점수)\n",
        "metrics = model.val(plots=True)  # no arguments needed, dataset and settings remembered\n",
        "metrics.box.map  # map50-95\n",
        "metrics.box.map50  # map50\n",
        "metrics.box.map75  # map75\n",
        "metrics.box.maps  # a list contains map50-95 of each category"
      ],
      "metadata": {
        "id": "LPeJ51uGZL9p"
      },
      "execution_count": null,
      "outputs": []
    },
    {
      "cell_type": "code",
      "source": [
        "print(metrics.confusion_matrix.to_df())"
      ],
      "metadata": {
        "id": "5GQTrPpqZfRH"
      },
      "execution_count": null,
      "outputs": []
    },
    {
      "cell_type": "markdown",
      "source": [
        "예측 결과 및 GT 비교\n",
        "* Python으로 구현할 때의 장점"
      ],
      "metadata": {
        "id": "KWkzM85QeJRn"
      }
    },
    {
      "cell_type": "code",
      "source": [
        "def read_yolo_labels(label_path, img_w, img_h):\n",
        "    \"\"\"\n",
        "    YOLO 형식 (cls x_center_norm y_center_norm w_norm h_norm) 라인을 읽어\n",
        "    이미지 픽셀 좌표 (x1,y1,x2,y2)와 클래스 인덱스 리스트로 반환\n",
        "    \"\"\"\n",
        "    boxes, cls_idxs = [], []\n",
        "    with open(label_path, 'r') as f:\n",
        "      if f is None:\n",
        "        return [], []\n",
        "      else:\n",
        "        for line in f:\n",
        "          parts = line.strip().split()\n",
        "\n",
        "          if len(parts) != 5:\n",
        "              continue\n",
        "\n",
        "          cls, xc, yc, w, h = map(float, parts)\n",
        "\n",
        "          # normalized → 절대 좌표\n",
        "          xc *= img_w\n",
        "          yc *= img_h\n",
        "          w  *= img_w\n",
        "          h  *= img_h\n",
        "\n",
        "          x1 = xc - w/2\n",
        "          y1 = yc - h/2\n",
        "          x2 = xc + w/2\n",
        "          y2 = yc + h/2\n",
        "\n",
        "          boxes.append((x1, y1, x2, y2))\n",
        "\n",
        "          cls_idxs.append(int(cls))\n",
        "\n",
        "    return boxes, cls_idxs"
      ],
      "metadata": {
        "id": "2UcQoPl9f5YN"
      },
      "execution_count": null,
      "outputs": []
    },
    {
      "cell_type": "code",
      "source": [
        "from matplotlib import pyplot as plt\n",
        "import glob\n",
        "import cv2\n",
        "import os\n",
        "\n",
        "img_dir = './PigDataset/val/images'\n",
        "img_list = glob.glob(img_dir + '/*.bmp')\n",
        "img_list.sort()\n",
        "\n",
        "label_dir = './PigDataset/val/labels'\n",
        "\n",
        "for img_path in img_list:\n",
        "  img = cv2.imread(img_path)\n",
        "  img = cv2.cvtColor(img, cv2.COLOR_BGR2RGB)\n",
        "  img_h, img_w, _ = img.shape\n",
        "\n",
        "  label_path = os.path.join(label_dir, os.path.basename(img_path).split('.')[0] + '.txt')\n",
        "  gt_boxes, _  = read_yolo_labels(label_path, img_w, img_h)\n",
        "\n",
        "  if gt_boxes == []:\n",
        "    continue\n",
        "\n",
        "  else:\n",
        "    for (x1, y1, x2, y2) in gt_boxes:\n",
        "      cv2.rectangle(img, (int(x1), int(y1)), (int(x2), int(y2)), (0, 255, 0), 2)\n",
        "\n",
        "    preds = model(img, verbose=False) # 이 모델은 바로 직전 python api로 학습한 모델입니다.\n",
        "\n",
        "    for pred in preds:\n",
        "      for box, conf in zip(pred.boxes.xyxy, pred.boxes.conf):\n",
        "        conf = conf.cpu().numpy()\n",
        "        x1, y1, x2, y2 = box\n",
        "        cv2.rectangle(img, (int(x1),int(y1)), (int(x2),int(y2)), (255,0,0), 2)\n",
        "        cv2.putText(img, f'{conf:.3f}', (int(x2), int(y1)-5),\n",
        "                    cv2.FONT_HERSHEY_SIMPLEX, 0.5, (255,0,0), 1, cv2.LINE_AA)\n",
        "\n",
        "  plt.figure(figsize=(10,10))\n",
        "  plt.imshow(img)\n",
        "  plt.axis('off')\n",
        "  plt.show()\n"
      ],
      "metadata": {
        "id": "VonDimxJZbQM"
      },
      "execution_count": null,
      "outputs": []
    },
    {
      "cell_type": "code",
      "source": [],
      "metadata": {
        "id": "KfZBmXVmeJQV"
      },
      "execution_count": null,
      "outputs": []
    }
  ]
}