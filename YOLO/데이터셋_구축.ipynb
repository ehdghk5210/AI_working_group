{
  "cells": [
    {
      "cell_type": "markdown",
      "metadata": {
        "id": "5xbfGgl1DmIz"
      },
      "source": [
        "# 데이터셋 구축\n",
        "\n",
        "데이터를 정제하고, YOLO 데이터셋 구조로 재구성합니다.\n",
        "\n",
        "**YOLO 데이터셋 구조**\n",
        "\n",
        "```\n",
        "root/\n",
        "├── train/\n",
        "│   ├── images/\n",
        "│   └── labels/\n",
        "└── val/\n",
        "    ├── images/\n",
        "    └── labels/\n",
        "```\n",
        "\n",
        "혹은\n",
        "\n",
        "\n",
        "```\n",
        "root/\n",
        "├── images/\n",
        "│   ├── train/\n",
        "│   └── val/\n",
        "└── labels/\n",
        "    ├── train/\n",
        "    └── val/\n",
        "```\n"
      ]
    },
    {
      "cell_type": "markdown",
      "metadata": {
        "id": "7c6D7hauy3dE"
      },
      "source": [
        "## 01. 파일 업로드\n",
        "\n",
        "`files.upload`\n",
        "\n",
        "`양돈과_초음파`의 내용물을 압축해서 올려주세요.\n",
        "(불러온 파일은 세션이 종료되면 사라집니다.)"
      ]
    },
    {
      "cell_type": "code",
      "execution_count": null,
      "metadata": {
        "colab": {
          "base_uri": "https://localhost:8080/",
          "height": 93
        },
        "id": "vJwgJNuRy0l5",
        "outputId": "2624026a-542e-4f1a-ccd7-dc75b3b3d90a"
      },
      "outputs": [],
      "source": [
        "from google.colab import files\n",
        "\n",
        "uploaded = files.upload()\n",
        "\n",
        "for fn in uploaded.keys():\n",
        "  print('User uploaded file \"{name}\" with length {length} bytes'.format(\n",
        "      name=fn, length=len(uploaded[fn])))"
      ]
    },
    {
      "cell_type": "markdown",
      "metadata": {
        "id": "CEoLg18hz6rv"
      },
      "source": [
        "업로드 확인"
      ]
    },
    {
      "cell_type": "code",
      "execution_count": null,
      "metadata": {
        "colab": {
          "base_uri": "https://localhost:8080/"
        },
        "id": "6UfTrY3JzuhL",
        "outputId": "7b849d9f-cb3e-45fa-c34e-2febbdde6d91"
      },
      "outputs": [],
      "source": [
        "!ls # 출력: sample_data  양돈과_초음파.zip"
      ]
    },
    {
      "cell_type": "markdown",
      "metadata": {
        "id": "eF53cWn7zmgk"
      },
      "source": [
        "압축 풀기"
      ]
    },
    {
      "cell_type": "code",
      "execution_count": null,
      "metadata": {
        "id": "5-m5E5sgzRpK"
      },
      "outputs": [],
      "source": [
        "!unzip -qq '양돈과_초음파.zip' -d ./dataset"
      ]
    },
    {
      "cell_type": "code",
      "execution_count": null,
      "metadata": {
        "colab": {
          "base_uri": "https://localhost:8080/"
        },
        "id": "9XkdrblO0Izw",
        "outputId": "d9ba48ec-c237-4daf-b443-dd7faaa5d970"
      },
      "outputs": [],
      "source": [
        "!ls # 출력: dataset  sample_data  양돈과_초음파.zip"
      ]
    },
    {
      "cell_type": "code",
      "execution_count": 6,
      "metadata": {
        "colab": {
          "base_uri": "https://localhost:8080/"
        },
        "id": "wvrQSiQU0KhK",
        "outputId": "11fcca26-7bd9-432c-afac-cb47e31d6a1b"
      },
      "outputs": [
        {
          "name": "stdout",
          "output_type": "stream",
          "text": [
            "19_1  21_1  23_1  25_1\n"
          ]
        }
      ],
      "source": [
        "!ls dataset/ # 출력: 19_1  21_1  23_1  25_1"
      ]
    },
    {
      "cell_type": "markdown",
      "metadata": {
        "id": "rTFdatLl493R"
      },
      "source": [
        "## 02. 데이터 정제"
      ]
    },
    {
      "cell_type": "markdown",
      "metadata": {
        "id": "PxqgC2dRGduX"
      },
      "source": [
        "레이블 파일이 존재하지 않거나, 파일은 있지만 비어있는 경우를 제외합니다."
      ]
    },
    {
      "cell_type": "code",
      "execution_count": null,
      "metadata": {
        "colab": {
          "base_uri": "https://localhost:8080/"
        },
        "id": "q_C9TPx60MRz",
        "outputId": "1fb5aaad-6176-41ae-ff17-0c40ce70c416"
      },
      "outputs": [
        {
          "name": "stdout",
          "output_type": "stream",
          "text": [
            "총 이미지 수:  189\n",
            "./dataset/21_1/001_W5741__2021-10-08_14_45_07_frame0012.txt is None\n",
            "./dataset/21_1/001_W5741__2021-10-08_14_45_07_frame0022.txt is None\n",
            "./dataset/21_1/001_W5741__2021-10-08_14_45_07_frame0029.txt is None\n",
            "./dataset/21_1/001_W5741__2021-10-08_14_45_07_frame0011.txt is None\n",
            "./dataset/21_1/001_W5741__2021-10-08_14_45_07_frame0017.txt is None\n",
            "./dataset/21_1/001_W5741__2021-10-08_14_45_07_frame0036.txt is None\n",
            "./dataset/21_1/001_W5741__2021-10-08_14_45_07_frame0021.txt is None\n",
            "./dataset/21_1/001_W5741__2021-10-08_14_45_07_frame0033.txt is None\n",
            "./dataset/21_1/001_W5741__2021-10-08_14_45_07_frame0014.txt is None\n",
            "./dataset/21_1/001_W5741__2021-10-08_14_45_07_frame0040.txt is None\n",
            "./dataset/21_1/001_W5741__2021-10-08_14_45_07_frame0019.txt is None\n",
            "./dataset/21_1/001_W5741__2021-10-08_14_45_07_frame0020.txt is None\n",
            "./dataset/21_1/001_W5741__2021-10-08_14_45_07_frame0041.txt is None\n"
          ]
        }
      ],
      "source": [
        "import os\n",
        "import glob\n",
        "\n",
        "#  1) glob으로 모든 BMP 파일 찾기\n",
        "# 예시 패턴: '/content/양돈과_초음파/*/*.bmp'\n",
        "pattern = os.path.join('./dataset', '*', '*.bmp')\n",
        "all_bmp_paths = glob.glob(pattern)\n",
        "\n",
        "print('총 이미지 수: ', len(all_bmp_paths))\n",
        "\n",
        "#  2) 레이블(.txt) 파일이 있는 경우만 남기기\n",
        "img_files = []  # 정제된 이미지 경로를 담는 리스트\n",
        "for bmp_path in all_bmp_paths:\n",
        "    # 이미지 파일 경로에서 확장자만 .txt로 바꿔서 레이블 경로 생성\n",
        "    txt_path = bmp_path[:-4] + '.txt'\n",
        "    # 레이블 파일이 존재할 때만\n",
        "    if os.path.exists(txt_path):\n",
        "        # 레이블 파일이 비어있다면 알리고 넘어감\n",
        "        if os.path.getsize(txt_path) == 0:\n",
        "            print(f\"{txt_path} is None\")\n",
        "            continue\n",
        "        img_files.append(bmp_path)\n",
        "# img_files에는 .bmp/.txt 쌍만 남김"
      ]
    },
    {
      "cell_type": "code",
      "execution_count": 8,
      "metadata": {
        "colab": {
          "base_uri": "https://localhost:8080/"
        },
        "id": "v10f-B-n4wVM",
        "outputId": "8e739d22-aa9f-48b9-e521-549b825692e0"
      },
      "outputs": [
        {
          "data": {
            "text/plain": [
              "119"
            ]
          },
          "execution_count": 8,
          "metadata": {},
          "output_type": "execute_result"
        }
      ],
      "source": [
        "# 정제한 데이터 수 확인\n",
        "len(img_files)"
      ]
    },
    {
      "cell_type": "markdown",
      "metadata": {
        "id": "xrwtS6-T5ULY"
      },
      "source": [
        "## 03. train/val 스플릿\n",
        "\n",
        "일정 비율(9:1)로 학습 데이터셋과 검증 데이터셋으로 나눠줍니다.\n",
        "\n",
        "데이터 수(이미지 및 오브젝트)가 매우 적기 때문에 test 셋은 제외합니다.\n",
        "\n",
        "테스트 셋까지 포함할 경우에는 8:1:1 비율을 추천합니다.\n",
        "\n",
        "(더 안정적인 평가를 위해서는 k-fold도 추천합니다.)\n",
        "\n",
        "\n",
        "`scikit-learn` 라이브러리의 `train_test_split`을 이용합니다.\n",
        "\n",
        "```\n",
        "train_test_split(데이터셋 리스트, test_size=테스트셋 비율, shuffle=셔플여부)\n",
        "```"
      ]
    },
    {
      "cell_type": "code",
      "execution_count": 9,
      "metadata": {
        "id": "X7NxaaHH52Ix"
      },
      "outputs": [],
      "source": [
        "from sklearn.model_selection import train_test_split\n",
        "\n",
        "x_train, x_val = train_test_split(img_files, test_size=0.1, shuffle=True, random_state=2000) # random_state는 랜덤 시드를 고정해주는 옵션으로, 제외해도 됩니다."
      ]
    },
    {
      "cell_type": "code",
      "execution_count": 10,
      "metadata": {
        "colab": {
          "base_uri": "https://localhost:8080/"
        },
        "id": "L8IatGAX6OfG",
        "outputId": "3cb0ca3f-2042-410b-efe6-5d40f0a98d57"
      },
      "outputs": [
        {
          "data": {
            "text/plain": [
              "(107, 12)"
            ]
          },
          "execution_count": 10,
          "metadata": {},
          "output_type": "execute_result"
        }
      ],
      "source": [
        "len(x_train), len(x_val)"
      ]
    },
    {
      "cell_type": "markdown",
      "metadata": {
        "id": "kC1YfmDU6bot"
      },
      "source": [
        "## 04. 구축 및 저장\n",
        "\n",
        "데이터셋을 YOLO 구조에 맞게 저장합니다."
      ]
    },
    {
      "cell_type": "code",
      "execution_count": 11,
      "metadata": {
        "id": "hZSLpDQ-7lgN"
      },
      "outputs": [],
      "source": [
        "# 1) 저장 경로 설정\n",
        "train_img_dir = './PigDataset/train/images'\n",
        "train_label_dir = './PigDataset/train/labels'\n",
        "val_img_dir = './PigDataset/val/images'\n",
        "val_label_dir = './PigDataset/val/labels'"
      ]
    },
    {
      "cell_type": "code",
      "execution_count": 12,
      "metadata": {
        "id": "zEbaQO627r_A"
      },
      "outputs": [],
      "source": [
        "# 2) 디렉토리 생성\n",
        "os.makedirs(train_img_dir, exist_ok=True)\n",
        "os.makedirs(train_label_dir, exist_ok=True)\n",
        "os.makedirs(val_img_dir, exist_ok=True)\n",
        "os.makedirs(val_label_dir, exist_ok=True)"
      ]
    },
    {
      "cell_type": "code",
      "execution_count": 13,
      "metadata": {
        "id": "5WC0gZpR61w6"
      },
      "outputs": [],
      "source": [
        "# 3) 파일 복사 - shutil 라이브러리 이용\n",
        "import shutil"
      ]
    },
    {
      "cell_type": "code",
      "execution_count": 14,
      "metadata": {
        "colab": {
          "base_uri": "https://localhost:8080/",
          "height": 35
        },
        "id": "DXvSoxWb73uK",
        "outputId": "68f7fb19-c7b2-44a5-8984-f5840c2ab86a"
      },
      "outputs": [
        {
          "data": {
            "application/vnd.google.colaboratory.intrinsic+json": {
              "type": "string"
            },
            "text/plain": [
              "'./dataset/23_1/001_W5741__2021-10-10_09_19_35_frame0008.bmp'"
            ]
          },
          "execution_count": 14,
          "metadata": {},
          "output_type": "execute_result"
        }
      ],
      "source": [
        "x_train[0]"
      ]
    },
    {
      "cell_type": "code",
      "execution_count": 15,
      "metadata": {
        "id": "dgnpgSm17zLE"
      },
      "outputs": [],
      "source": [
        "# train set\n",
        "for img_path in x_train:\n",
        "    shutil.copy(img_path, train_img_dir)   # image\n",
        "    txt_path = img_path[:-4] + '.txt'\n",
        "    shutil.copy(txt_path, train_label_dir) # label"
      ]
    },
    {
      "cell_type": "code",
      "execution_count": 16,
      "metadata": {
        "id": "D90Wt5HF7-YI"
      },
      "outputs": [],
      "source": [
        "# validation set\n",
        "for img_path in x_val:\n",
        "    shutil.copy(img_path, val_img_dir)   # image\n",
        "    txt_path = img_path[:-4] + '.txt'\n",
        "    shutil.copy(txt_path, val_label_dir) # label"
      ]
    },
    {
      "cell_type": "code",
      "execution_count": 17,
      "metadata": {
        "colab": {
          "base_uri": "https://localhost:8080/"
        },
        "id": "hvXgRE598Fc-",
        "outputId": "e24b7b3e-7030-40ac-8cd8-37e6041b0e92"
      },
      "outputs": [
        {
          "name": "stdout",
          "output_type": "stream",
          "text": [
            "train  val\n"
          ]
        }
      ],
      "source": [
        "# 확인\n",
        "!ls PigDataset/"
      ]
    },
    {
      "cell_type": "markdown",
      "metadata": {
        "id": "wO8HddnHKSeN"
      },
      "source": [
        "옵션) 리눅스 `tree` 패키지를 이용해 생성한 데이터셋 디렉토리 구조를 확인합니다.\n",
        "\n",
        "```\n",
        "PigDataset/\n",
        "├── train\n",
        "│   ├── images\n",
        "│   └── labels\n",
        "└── val\n",
        "    ├── images\n",
        "    └── labels\n",
        "2\n",
        "```"
      ]
    },
    {
      "cell_type": "code",
      "execution_count": 18,
      "metadata": {
        "colab": {
          "base_uri": "https://localhost:8080/"
        },
        "id": "nNfWlFBb8HAK",
        "outputId": "22c18790-ccbc-4d28-e10c-521c60bfa4ff"
      },
      "outputs": [
        {
          "name": "stdout",
          "output_type": "stream",
          "text": [
            "Reading package lists... Done\n",
            "Building dependency tree... Done\n",
            "Reading state information... Done\n",
            "The following NEW packages will be installed:\n",
            "  tree\n",
            "0 upgraded, 1 newly installed, 0 to remove and 35 not upgraded.\n",
            "Need to get 47.9 kB of archives.\n",
            "After this operation, 116 kB of additional disk space will be used.\n",
            "Get:1 http://archive.ubuntu.com/ubuntu jammy/universe amd64 tree amd64 2.0.2-1 [47.9 kB]\n",
            "Fetched 47.9 kB in 0s (96.6 kB/s)\n",
            "Selecting previously unselected package tree.\n",
            "(Reading database ... 126308 files and directories currently installed.)\n",
            "Preparing to unpack .../tree_2.0.2-1_amd64.deb ...\n",
            "Unpacking tree (2.0.2-1) ...\n",
            "Setting up tree (2.0.2-1) ...\n",
            "Processing triggers for man-db (2.10.2-1) ...\n"
          ]
        }
      ],
      "source": [
        "# 설치\n",
        "!apt install tree"
      ]
    },
    {
      "cell_type": "code",
      "execution_count": 19,
      "metadata": {
        "colab": {
          "base_uri": "https://localhost:8080/"
        },
        "id": "6LLcD77E8Swr",
        "outputId": "a1642e13-0229-497a-906c-e7ca8005f6a8"
      },
      "outputs": [
        {
          "name": "stdout",
          "output_type": "stream",
          "text": [
            "\u001b[01;34mPigDataset/\u001b[0m\n",
            "├── \u001b[01;34mtrain\u001b[0m\n",
            "│   ├── \u001b[01;34mimages\u001b[0m\n",
            "│   └── \u001b[01;34mlabels\u001b[0m\n",
            "└── \u001b[01;34mval\u001b[0m\n",
            "    ├── \u001b[01;34mimages\u001b[0m\n",
            "    └── \u001b[01;34mlabels\u001b[0m\n",
            "2\n"
          ]
        }
      ],
      "source": [
        "!tree PigDataset/ -d 2"
      ]
    },
    {
      "cell_type": "code",
      "execution_count": 20,
      "metadata": {
        "colab": {
          "base_uri": "https://localhost:8080/"
        },
        "id": "kR79lnSX8MFV",
        "outputId": "5cfddd2d-512a-4498-b1f8-1cbf2c2ef49c"
      },
      "outputs": [
        {
          "name": "stdout",
          "output_type": "stream",
          "text": [
            "\u001b[01;34mPigDataset/train/\u001b[0m\n",
            "├── \u001b[01;34mimages\u001b[0m\n",
            "│   ├── \u001b[01;35m001_W5741__2021-10-08_14_45_07_frame0000.bmp\u001b[0m\n",
            "│   ├── \u001b[01;35m001_W5741__2021-10-08_14_45_07_frame0001.bmp\u001b[0m\n",
            "│   ├── \u001b[01;35m001_W5741__2021-10-08_14_45_07_frame0002.bmp\u001b[0m\n",
            "│   ├── \u001b[01;35m001_W5741__2021-10-08_14_45_07_frame0003.bmp\u001b[0m\n",
            "│   ├── \u001b[01;35m001_W5741__2021-10-08_14_45_07_frame0004.bmp\u001b[0m\n",
            "│   ├── \u001b[01;35m001_W5741__2021-10-08_14_45_07_frame0005.bmp\u001b[0m\n",
            "│   ├── \u001b[01;35m001_W5741__2021-10-08_14_45_07_frame0006.bmp\u001b[0m\n",
            "│   ├── \u001b[01;35m001_W5741__2021-10-08_14_45_07_frame0007.bmp\u001b[0m\n",
            "│   ├── \u001b[01;35m001_W5741__2021-10-08_14_45_07_frame0009.bmp\u001b[0m\n",
            "│   ├── \u001b[01;35m001_W5741__2021-10-08_14_45_07_frame0010.bmp\u001b[0m\n",
            "│   ├── \u001b[01;35m001_W5741__2021-10-08_14_45_07_frame0013.bmp\u001b[0m\n",
            "│   ├── \u001b[01;35m001_W5741__2021-10-08_14_45_07_frame0015.bmp\u001b[0m\n",
            "│   ├── \u001b[01;35m001_W5741__2021-10-08_14_45_07_frame0016.bmp\u001b[0m\n",
            "│   ├── \u001b[01;35m001_W5741__2021-10-08_14_45_07_frame0018.bmp\u001b[0m\n",
            "│   ├── \u001b[01;35m001_W5741__2021-10-08_14_45_07_frame0023.bmp\u001b[0m\n",
            "│   ├── \u001b[01;35m001_W5741__2021-10-08_14_45_07_frame0024.bmp\u001b[0m\n",
            "│   ├── \u001b[01;35m001_W5741__2021-10-08_14_45_07_frame0025.bmp\u001b[0m\n",
            "│   ├── \u001b[01;35m001_W5741__2021-10-08_14_45_07_frame0026.bmp\u001b[0m\n",
            "│   ├── \u001b[01;35m001_W5741__2021-10-08_14_45_07_frame0027.bmp\u001b[0m\n",
            "│   ├── \u001b[01;35m001_W5741__2021-10-08_14_45_07_frame0028.bmp\u001b[0m\n",
            "│   ├── \u001b[01;35m001_W5741__2021-10-08_14_45_07_frame0030.bmp\u001b[0m\n",
            "│   ├── \u001b[01;35m001_W5741__2021-10-08_14_45_07_frame0031.bmp\u001b[0m\n",
            "│   ├── \u001b[01;35m001_W5741__2021-10-08_14_45_07_frame0032.bmp\u001b[0m\n",
            "│   ├── \u001b[01;35m001_W5741__2021-10-08_14_45_07_frame0034.bmp\u001b[0m\n",
            "│   ├── \u001b[01;35m001_W5741__2021-10-08_14_45_07_frame0035.bmp\u001b[0m\n",
            "│   ├── \u001b[01;35m001_W5741__2021-10-08_14_45_07_frame0037.bmp\u001b[0m\n",
            "│   ├── \u001b[01;35m001_W5741__2021-10-08_14_45_07_frame0038.bmp\u001b[0m\n",
            "│   ├── \u001b[01;35m001_W5741__2021-10-08_14_45_07_frame0039.bmp\u001b[0m\n",
            "│   ├── \u001b[01;35m001_W5741__2021-10-10_09_19_35_frame0001.bmp\u001b[0m\n",
            "│   ├── \u001b[01;35m001_W5741__2021-10-10_09_19_35_frame0002.bmp\u001b[0m\n",
            "│   ├── \u001b[01;35m001_W5741__2021-10-10_09_19_35_frame0003.bmp\u001b[0m\n",
            "│   ├── \u001b[01;35m001_W5741__2021-10-10_09_19_35_frame0004.bmp\u001b[0m\n",
            "│   ├── \u001b[01;35m001_W5741__2021-10-10_09_19_35_frame0005.bmp\u001b[0m\n",
            "│   ├── \u001b[01;35m001_W5741__2021-10-10_09_19_35_frame0006.bmp\u001b[0m\n",
            "│   ├── \u001b[01;35m001_W5741__2021-10-10_09_19_35_frame0007.bmp\u001b[0m\n",
            "│   ├── \u001b[01;35m001_W5741__2021-10-10_09_19_35_frame0008.bmp\u001b[0m\n",
            "│   ├── \u001b[01;35m001_W5741__2021-10-10_09_19_35_frame0009.bmp\u001b[0m\n",
            "│   ├── \u001b[01;35m001_W5741__2021-10-10_09_19_35_frame0010.bmp\u001b[0m\n",
            "│   ├── \u001b[01;35m001_W5741__2021-10-10_09_19_35_frame0011.bmp\u001b[0m\n",
            "│   ├── \u001b[01;35m001_W5741__2021-10-10_09_19_35_frame0012.bmp\u001b[0m\n",
            "│   ├── \u001b[01;35m001_W5741__2021-10-10_09_19_35_frame0013.bmp\u001b[0m\n",
            "│   ├── \u001b[01;35m001_W5741__2021-10-10_09_19_35_frame0014.bmp\u001b[0m\n",
            "│   ├── \u001b[01;35m001_W5741__2021-10-10_09_19_35_frame0015.bmp\u001b[0m\n",
            "│   ├── \u001b[01;35m001_W5741__2021-10-10_09_19_35_frame0016.bmp\u001b[0m\n",
            "│   ├── \u001b[01;35m001_W5741__2021-10-10_09_19_35_frame0017.bmp\u001b[0m\n",
            "│   ├── \u001b[01;35m001_W5741__2021-10-10_09_19_35_frame0019.bmp\u001b[0m\n",
            "│   ├── \u001b[01;35m001_W5741__2021-10-10_09_19_35_frame0020.bmp\u001b[0m\n",
            "│   ├── \u001b[01;35m001_W5741__2021-10-10_09_19_35_frame0021.bmp\u001b[0m\n",
            "│   ├── \u001b[01;35m001_W5741__2021-10-10_09_19_35_frame0022.bmp\u001b[0m\n",
            "│   ├── \u001b[01;35m001_W5741__2021-10-10_09_19_35_frame0023.bmp\u001b[0m\n",
            "│   ├── \u001b[01;35m001_W5741__2021-10-10_09_19_35_frame0025.bmp\u001b[0m\n",
            "│   ├── \u001b[01;35m001_W5741__2021-10-10_09_19_35_frame0027.bmp\u001b[0m\n",
            "│   ├── \u001b[01;35m001_W5741__2021-10-10_09_19_35_frame0028.bmp\u001b[0m\n",
            "│   ├── \u001b[01;35m001_W5741__2021-10-10_09_19_35_frame0029.bmp\u001b[0m\n",
            "│   ├── \u001b[01;35m001_W5741__2021-10-10_09_19_35_frame0030.bmp\u001b[0m\n",
            "│   ├── \u001b[01;35m001_W5741__2021-10-10_09_19_35_frame0032.bmp\u001b[0m\n",
            "│   ├── \u001b[01;35m001_W5741__2021-10-10_09_19_35_frame0034.bmp\u001b[0m\n",
            "│   ├── \u001b[01;35m001_W5741__2021-10-10_09_19_35_frame0035.bmp\u001b[0m\n",
            "│   ├── \u001b[01;35m001_W5741__2021-10-10_09_19_35_frame0037.bmp\u001b[0m\n",
            "│   ├── \u001b[01;35m001_W5741__2021-10-10_09_19_35_frame0038.bmp\u001b[0m\n",
            "│   ├── \u001b[01;35m001_W5741__2021-10-10_09_19_35_frame0039.bmp\u001b[0m\n",
            "│   ├── \u001b[01;35m001_W5741__2021-10-10_09_19_35_frame0040.bmp\u001b[0m\n",
            "│   ├── \u001b[01;35m001_W5741__2021-10-10_09_19_35_frame0041.bmp\u001b[0m\n",
            "│   ├── \u001b[01;35m001_W5741__2021-10-12_10_01_06_frame0000.bmp\u001b[0m\n",
            "│   ├── \u001b[01;35m001_W5741__2021-10-12_10_01_06_frame0001.bmp\u001b[0m\n",
            "│   ├── \u001b[01;35m001_W5741__2021-10-12_10_01_06_frame0002.bmp\u001b[0m\n",
            "│   ├── \u001b[01;35m001_W5741__2021-10-12_10_01_06_frame0003.bmp\u001b[0m\n",
            "│   ├── \u001b[01;35m001_W5741__2021-10-12_10_01_06_frame0004.bmp\u001b[0m\n",
            "│   ├── \u001b[01;35m001_W5741__2021-10-12_10_01_06_frame0005.bmp\u001b[0m\n",
            "│   ├── \u001b[01;35m001_W5741__2021-10-12_10_01_06_frame0006.bmp\u001b[0m\n",
            "│   ├── \u001b[01;35m001_W5741__2021-10-12_10_01_06_frame0007.bmp\u001b[0m\n",
            "│   ├── \u001b[01;35m001_W5741__2021-10-12_10_01_06_frame0008.bmp\u001b[0m\n",
            "│   ├── \u001b[01;35m001_W5741__2021-10-12_10_01_06_frame0009.bmp\u001b[0m\n",
            "│   ├── \u001b[01;35m001_W5741__2021-10-12_10_01_06_frame0010.bmp\u001b[0m\n",
            "│   ├── \u001b[01;35m001_W5741__2021-10-12_10_01_06_frame0012.bmp\u001b[0m\n",
            "│   ├── \u001b[01;35m001_W5741__2021-10-12_10_01_06_frame0013.bmp\u001b[0m\n",
            "│   ├── \u001b[01;35m001_W5741__2021-10-12_10_01_06_frame0014.bmp\u001b[0m\n",
            "│   ├── \u001b[01;35m001_W5741__2021-10-12_10_01_06_frame0015.bmp\u001b[0m\n",
            "│   ├── \u001b[01;35m001_W5741__2021-10-12_10_01_06_frame0016.bmp\u001b[0m\n",
            "│   ├── \u001b[01;35m001_W5741__2021-10-12_10_01_06_frame0017.bmp\u001b[0m\n",
            "│   ├── \u001b[01;35m001_W5741__2021-10-12_10_01_06_frame0018.bmp\u001b[0m\n",
            "│   ├── \u001b[01;35m001_W5741__2021-10-12_10_01_06_frame0019.bmp\u001b[0m\n",
            "│   ├── \u001b[01;35m001_W5741__2021-10-12_10_01_06_frame0020.bmp\u001b[0m\n",
            "│   ├── \u001b[01;35m001_W5741__2021-10-12_10_01_06_frame0021.bmp\u001b[0m\n",
            "│   ├── \u001b[01;35m001_W5741__2021-10-12_10_01_06_frame0022.bmp\u001b[0m\n",
            "│   ├── \u001b[01;35m001_W5741__2021-10-12_10_01_06_frame0023.bmp\u001b[0m\n",
            "│   ├── \u001b[01;35m001_W5741__2021-10-12_10_01_06_frame0024.bmp\u001b[0m\n",
            "│   ├── \u001b[01;35m001_W5741__2021-10-12_10_01_06_frame0025.bmp\u001b[0m\n",
            "│   ├── \u001b[01;35m001_W5741__2021-10-12_10_01_06_frame0027.bmp\u001b[0m\n",
            "│   ├── \u001b[01;35m001_W5741__2021-10-12_10_01_06_frame0028.bmp\u001b[0m\n",
            "│   ├── \u001b[01;35m001_W5741__2021-10-12_10_01_06_frame0030.bmp\u001b[0m\n",
            "│   ├── \u001b[01;35m001_W5741__2021-10-12_10_01_06_frame0031.bmp\u001b[0m\n",
            "│   ├── \u001b[01;35m001_W5741__2021-10-12_10_01_06_frame0032.bmp\u001b[0m\n",
            "│   ├── \u001b[01;35m001_W5741__2021-10-12_10_01_06_frame0033.bmp\u001b[0m\n",
            "│   ├── \u001b[01;35m001_W5741__2021-10-12_10_01_06_frame0034.bmp\u001b[0m\n",
            "│   ├── \u001b[01;35m001_W5741__2021-10-12_10_01_06_frame0035.bmp\u001b[0m\n",
            "│   ├── \u001b[01;35m001_W5741__2021-10-12_10_01_06_frame0036.bmp\u001b[0m\n",
            "│   ├── \u001b[01;35m001_W5741__2021-10-12_10_01_06_frame0037.bmp\u001b[0m\n",
            "│   ├── \u001b[01;35m001_W5741__2021-10-12_10_01_06_frame0038.bmp\u001b[0m\n",
            "│   ├── \u001b[01;35m001_W5741__2021-10-12_10_01_06_frame0039.bmp\u001b[0m\n",
            "│   ├── \u001b[01;35m001_W5741__2021-10-12_10_01_06_frame0040.bmp\u001b[0m\n",
            "│   ├── \u001b[01;35m001_W5741__2021-10-12_10_01_06_frame0041.bmp\u001b[0m\n",
            "│   ├── \u001b[01;35m21-2_frame15.bmp\u001b[0m\n",
            "│   ├── \u001b[01;35m21-2_frame17.bmp\u001b[0m\n",
            "│   ├── \u001b[01;35m21-2_frame19.bmp\u001b[0m\n",
            "│   ├── \u001b[01;35m21-2_frame20.bmp\u001b[0m\n",
            "│   └── \u001b[01;35m21-2_frame22.bmp\u001b[0m\n",
            "└── \u001b[01;34mlabels\u001b[0m\n",
            "    ├── \u001b[00m001_W5741__2021-10-08_14_45_07_frame0000.txt\u001b[0m\n",
            "    ├── \u001b[00m001_W5741__2021-10-08_14_45_07_frame0001.txt\u001b[0m\n",
            "    ├── \u001b[00m001_W5741__2021-10-08_14_45_07_frame0002.txt\u001b[0m\n",
            "    ├── \u001b[00m001_W5741__2021-10-08_14_45_07_frame0003.txt\u001b[0m\n",
            "    ├── \u001b[00m001_W5741__2021-10-08_14_45_07_frame0004.txt\u001b[0m\n",
            "    ├── \u001b[00m001_W5741__2021-10-08_14_45_07_frame0005.txt\u001b[0m\n",
            "    ├── \u001b[00m001_W5741__2021-10-08_14_45_07_frame0006.txt\u001b[0m\n",
            "    ├── \u001b[00m001_W5741__2021-10-08_14_45_07_frame0007.txt\u001b[0m\n",
            "    ├── \u001b[00m001_W5741__2021-10-08_14_45_07_frame0009.txt\u001b[0m\n",
            "    ├── \u001b[00m001_W5741__2021-10-08_14_45_07_frame0010.txt\u001b[0m\n",
            "    ├── \u001b[00m001_W5741__2021-10-08_14_45_07_frame0013.txt\u001b[0m\n",
            "    ├── \u001b[00m001_W5741__2021-10-08_14_45_07_frame0015.txt\u001b[0m\n",
            "    ├── \u001b[00m001_W5741__2021-10-08_14_45_07_frame0016.txt\u001b[0m\n",
            "    ├── \u001b[00m001_W5741__2021-10-08_14_45_07_frame0018.txt\u001b[0m\n",
            "    ├── \u001b[00m001_W5741__2021-10-08_14_45_07_frame0023.txt\u001b[0m\n",
            "    ├── \u001b[00m001_W5741__2021-10-08_14_45_07_frame0024.txt\u001b[0m\n",
            "    ├── \u001b[00m001_W5741__2021-10-08_14_45_07_frame0025.txt\u001b[0m\n",
            "    ├── \u001b[00m001_W5741__2021-10-08_14_45_07_frame0026.txt\u001b[0m\n",
            "    ├── \u001b[00m001_W5741__2021-10-08_14_45_07_frame0027.txt\u001b[0m\n",
            "    ├── \u001b[00m001_W5741__2021-10-08_14_45_07_frame0028.txt\u001b[0m\n",
            "    ├── \u001b[00m001_W5741__2021-10-08_14_45_07_frame0030.txt\u001b[0m\n",
            "    ├── \u001b[00m001_W5741__2021-10-08_14_45_07_frame0031.txt\u001b[0m\n",
            "    ├── \u001b[00m001_W5741__2021-10-08_14_45_07_frame0032.txt\u001b[0m\n",
            "    ├── \u001b[00m001_W5741__2021-10-08_14_45_07_frame0034.txt\u001b[0m\n",
            "    ├── \u001b[00m001_W5741__2021-10-08_14_45_07_frame0035.txt\u001b[0m\n",
            "    ├── \u001b[00m001_W5741__2021-10-08_14_45_07_frame0037.txt\u001b[0m\n",
            "    ├── \u001b[00m001_W5741__2021-10-08_14_45_07_frame0038.txt\u001b[0m\n",
            "    ├── \u001b[00m001_W5741__2021-10-08_14_45_07_frame0039.txt\u001b[0m\n",
            "    ├── \u001b[00m001_W5741__2021-10-10_09_19_35_frame0001.txt\u001b[0m\n",
            "    ├── \u001b[00m001_W5741__2021-10-10_09_19_35_frame0002.txt\u001b[0m\n",
            "    ├── \u001b[00m001_W5741__2021-10-10_09_19_35_frame0003.txt\u001b[0m\n",
            "    ├── \u001b[00m001_W5741__2021-10-10_09_19_35_frame0004.txt\u001b[0m\n",
            "    ├── \u001b[00m001_W5741__2021-10-10_09_19_35_frame0005.txt\u001b[0m\n",
            "    ├── \u001b[00m001_W5741__2021-10-10_09_19_35_frame0006.txt\u001b[0m\n",
            "    ├── \u001b[00m001_W5741__2021-10-10_09_19_35_frame0007.txt\u001b[0m\n",
            "    ├── \u001b[00m001_W5741__2021-10-10_09_19_35_frame0008.txt\u001b[0m\n",
            "    ├── \u001b[00m001_W5741__2021-10-10_09_19_35_frame0009.txt\u001b[0m\n",
            "    ├── \u001b[00m001_W5741__2021-10-10_09_19_35_frame0010.txt\u001b[0m\n",
            "    ├── \u001b[00m001_W5741__2021-10-10_09_19_35_frame0011.txt\u001b[0m\n",
            "    ├── \u001b[00m001_W5741__2021-10-10_09_19_35_frame0012.txt\u001b[0m\n",
            "    ├── \u001b[00m001_W5741__2021-10-10_09_19_35_frame0013.txt\u001b[0m\n",
            "    ├── \u001b[00m001_W5741__2021-10-10_09_19_35_frame0014.txt\u001b[0m\n",
            "    ├── \u001b[00m001_W5741__2021-10-10_09_19_35_frame0015.txt\u001b[0m\n",
            "    ├── \u001b[00m001_W5741__2021-10-10_09_19_35_frame0016.txt\u001b[0m\n",
            "    ├── \u001b[00m001_W5741__2021-10-10_09_19_35_frame0017.txt\u001b[0m\n",
            "    ├── \u001b[00m001_W5741__2021-10-10_09_19_35_frame0019.txt\u001b[0m\n",
            "    ├── \u001b[00m001_W5741__2021-10-10_09_19_35_frame0020.txt\u001b[0m\n",
            "    ├── \u001b[00m001_W5741__2021-10-10_09_19_35_frame0021.txt\u001b[0m\n",
            "    ├── \u001b[00m001_W5741__2021-10-10_09_19_35_frame0022.txt\u001b[0m\n",
            "    ├── \u001b[00m001_W5741__2021-10-10_09_19_35_frame0023.txt\u001b[0m\n",
            "    ├── \u001b[00m001_W5741__2021-10-10_09_19_35_frame0025.txt\u001b[0m\n",
            "    ├── \u001b[00m001_W5741__2021-10-10_09_19_35_frame0027.txt\u001b[0m\n",
            "    ├── \u001b[00m001_W5741__2021-10-10_09_19_35_frame0028.txt\u001b[0m\n",
            "    ├── \u001b[00m001_W5741__2021-10-10_09_19_35_frame0029.txt\u001b[0m\n",
            "    ├── \u001b[00m001_W5741__2021-10-10_09_19_35_frame0030.txt\u001b[0m\n",
            "    ├── \u001b[00m001_W5741__2021-10-10_09_19_35_frame0032.txt\u001b[0m\n",
            "    ├── \u001b[00m001_W5741__2021-10-10_09_19_35_frame0034.txt\u001b[0m\n",
            "    ├── \u001b[00m001_W5741__2021-10-10_09_19_35_frame0035.txt\u001b[0m\n",
            "    ├── \u001b[00m001_W5741__2021-10-10_09_19_35_frame0037.txt\u001b[0m\n",
            "    ├── \u001b[00m001_W5741__2021-10-10_09_19_35_frame0038.txt\u001b[0m\n",
            "    ├── \u001b[00m001_W5741__2021-10-10_09_19_35_frame0039.txt\u001b[0m\n",
            "    ├── \u001b[00m001_W5741__2021-10-10_09_19_35_frame0040.txt\u001b[0m\n",
            "    ├── \u001b[00m001_W5741__2021-10-10_09_19_35_frame0041.txt\u001b[0m\n",
            "    ├── \u001b[00m001_W5741__2021-10-12_10_01_06_frame0000.txt\u001b[0m\n",
            "    ├── \u001b[00m001_W5741__2021-10-12_10_01_06_frame0001.txt\u001b[0m\n",
            "    ├── \u001b[00m001_W5741__2021-10-12_10_01_06_frame0002.txt\u001b[0m\n",
            "    ├── \u001b[00m001_W5741__2021-10-12_10_01_06_frame0003.txt\u001b[0m\n",
            "    ├── \u001b[00m001_W5741__2021-10-12_10_01_06_frame0004.txt\u001b[0m\n",
            "    ├── \u001b[00m001_W5741__2021-10-12_10_01_06_frame0005.txt\u001b[0m\n",
            "    ├── \u001b[00m001_W5741__2021-10-12_10_01_06_frame0006.txt\u001b[0m\n",
            "    ├── \u001b[00m001_W5741__2021-10-12_10_01_06_frame0007.txt\u001b[0m\n",
            "    ├── \u001b[00m001_W5741__2021-10-12_10_01_06_frame0008.txt\u001b[0m\n",
            "    ├── \u001b[00m001_W5741__2021-10-12_10_01_06_frame0009.txt\u001b[0m\n",
            "    ├── \u001b[00m001_W5741__2021-10-12_10_01_06_frame0010.txt\u001b[0m\n",
            "    ├── \u001b[00m001_W5741__2021-10-12_10_01_06_frame0012.txt\u001b[0m\n",
            "    ├── \u001b[00m001_W5741__2021-10-12_10_01_06_frame0013.txt\u001b[0m\n",
            "    ├── \u001b[00m001_W5741__2021-10-12_10_01_06_frame0014.txt\u001b[0m\n",
            "    ├── \u001b[00m001_W5741__2021-10-12_10_01_06_frame0015.txt\u001b[0m\n",
            "    ├── \u001b[00m001_W5741__2021-10-12_10_01_06_frame0016.txt\u001b[0m\n",
            "    ├── \u001b[00m001_W5741__2021-10-12_10_01_06_frame0017.txt\u001b[0m\n",
            "    ├── \u001b[00m001_W5741__2021-10-12_10_01_06_frame0018.txt\u001b[0m\n",
            "    ├── \u001b[00m001_W5741__2021-10-12_10_01_06_frame0019.txt\u001b[0m\n",
            "    ├── \u001b[00m001_W5741__2021-10-12_10_01_06_frame0020.txt\u001b[0m\n",
            "    ├── \u001b[00m001_W5741__2021-10-12_10_01_06_frame0021.txt\u001b[0m\n",
            "    ├── \u001b[00m001_W5741__2021-10-12_10_01_06_frame0022.txt\u001b[0m\n",
            "    ├── \u001b[00m001_W5741__2021-10-12_10_01_06_frame0023.txt\u001b[0m\n",
            "    ├── \u001b[00m001_W5741__2021-10-12_10_01_06_frame0024.txt\u001b[0m\n",
            "    ├── \u001b[00m001_W5741__2021-10-12_10_01_06_frame0025.txt\u001b[0m\n",
            "    ├── \u001b[00m001_W5741__2021-10-12_10_01_06_frame0027.txt\u001b[0m\n",
            "    ├── \u001b[00m001_W5741__2021-10-12_10_01_06_frame0028.txt\u001b[0m\n",
            "    ├── \u001b[00m001_W5741__2021-10-12_10_01_06_frame0030.txt\u001b[0m\n",
            "    ├── \u001b[00m001_W5741__2021-10-12_10_01_06_frame0031.txt\u001b[0m\n",
            "    ├── \u001b[00m001_W5741__2021-10-12_10_01_06_frame0032.txt\u001b[0m\n",
            "    ├── \u001b[00m001_W5741__2021-10-12_10_01_06_frame0033.txt\u001b[0m\n",
            "    ├── \u001b[00m001_W5741__2021-10-12_10_01_06_frame0034.txt\u001b[0m\n",
            "    ├── \u001b[00m001_W5741__2021-10-12_10_01_06_frame0035.txt\u001b[0m\n",
            "    ├── \u001b[00m001_W5741__2021-10-12_10_01_06_frame0036.txt\u001b[0m\n",
            "    ├── \u001b[00m001_W5741__2021-10-12_10_01_06_frame0037.txt\u001b[0m\n",
            "    ├── \u001b[00m001_W5741__2021-10-12_10_01_06_frame0038.txt\u001b[0m\n",
            "    ├── \u001b[00m001_W5741__2021-10-12_10_01_06_frame0039.txt\u001b[0m\n",
            "    ├── \u001b[00m001_W5741__2021-10-12_10_01_06_frame0040.txt\u001b[0m\n",
            "    ├── \u001b[00m001_W5741__2021-10-12_10_01_06_frame0041.txt\u001b[0m\n",
            "    ├── \u001b[00m21-2_frame15.txt\u001b[0m\n",
            "    ├── \u001b[00m21-2_frame17.txt\u001b[0m\n",
            "    ├── \u001b[00m21-2_frame19.txt\u001b[0m\n",
            "    ├── \u001b[00m21-2_frame20.txt\u001b[0m\n",
            "    └── \u001b[00m21-2_frame22.txt\u001b[0m\n",
            "\n",
            "2 directories, 214 files\n"
          ]
        }
      ],
      "source": [
        "!tree PigDataset/train/"
      ]
    },
    {
      "cell_type": "code",
      "execution_count": 21,
      "metadata": {
        "colab": {
          "base_uri": "https://localhost:8080/"
        },
        "collapsed": true,
        "id": "fZYvpLZk8P5T",
        "outputId": "b993eb18-98a9-4fd8-a228-ecf566d4d9f8"
      },
      "outputs": [
        {
          "name": "stdout",
          "output_type": "stream",
          "text": [
            "\u001b[01;34mPigDataset/val/\u001b[0m\n",
            "├── \u001b[01;34mimages\u001b[0m\n",
            "│   ├── \u001b[01;35m001_W5741__2021-10-08_14_45_07_frame0008.bmp\u001b[0m\n",
            "│   ├── \u001b[01;35m001_W5741__2021-10-10_09_19_35_frame0000.bmp\u001b[0m\n",
            "│   ├── \u001b[01;35m001_W5741__2021-10-10_09_19_35_frame0018.bmp\u001b[0m\n",
            "│   ├── \u001b[01;35m001_W5741__2021-10-10_09_19_35_frame0024.bmp\u001b[0m\n",
            "│   ├── \u001b[01;35m001_W5741__2021-10-10_09_19_35_frame0026.bmp\u001b[0m\n",
            "│   ├── \u001b[01;35m001_W5741__2021-10-10_09_19_35_frame0031.bmp\u001b[0m\n",
            "│   ├── \u001b[01;35m001_W5741__2021-10-10_09_19_35_frame0033.bmp\u001b[0m\n",
            "│   ├── \u001b[01;35m001_W5741__2021-10-10_09_19_35_frame0036.bmp\u001b[0m\n",
            "│   ├── \u001b[01;35m001_W5741__2021-10-12_10_01_06_frame0011.bmp\u001b[0m\n",
            "│   ├── \u001b[01;35m001_W5741__2021-10-12_10_01_06_frame0026.bmp\u001b[0m\n",
            "│   ├── \u001b[01;35m001_W5741__2021-10-12_10_01_06_frame0029.bmp\u001b[0m\n",
            "│   └── \u001b[01;35m21-2_frame21.bmp\u001b[0m\n",
            "└── \u001b[01;34mlabels\u001b[0m\n",
            "    ├── \u001b[00m001_W5741__2021-10-08_14_45_07_frame0008.txt\u001b[0m\n",
            "    ├── \u001b[00m001_W5741__2021-10-10_09_19_35_frame0000.txt\u001b[0m\n",
            "    ├── \u001b[00m001_W5741__2021-10-10_09_19_35_frame0018.txt\u001b[0m\n",
            "    ├── \u001b[00m001_W5741__2021-10-10_09_19_35_frame0024.txt\u001b[0m\n",
            "    ├── \u001b[00m001_W5741__2021-10-10_09_19_35_frame0026.txt\u001b[0m\n",
            "    ├── \u001b[00m001_W5741__2021-10-10_09_19_35_frame0031.txt\u001b[0m\n",
            "    ├── \u001b[00m001_W5741__2021-10-10_09_19_35_frame0033.txt\u001b[0m\n",
            "    ├── \u001b[00m001_W5741__2021-10-10_09_19_35_frame0036.txt\u001b[0m\n",
            "    ├── \u001b[00m001_W5741__2021-10-12_10_01_06_frame0011.txt\u001b[0m\n",
            "    ├── \u001b[00m001_W5741__2021-10-12_10_01_06_frame0026.txt\u001b[0m\n",
            "    ├── \u001b[00m001_W5741__2021-10-12_10_01_06_frame0029.txt\u001b[0m\n",
            "    └── \u001b[00m21-2_frame21.txt\u001b[0m\n",
            "\n",
            "2 directories, 24 files\n"
          ]
        }
      ],
      "source": [
        "!tree PigDataset/val/"
      ]
    },
    {
      "cell_type": "markdown",
      "metadata": {
        "id": "NJo2TR2ZMKIo"
      },
      "source": [
        "## 05. YAML 파일\n",
        "\n",
        "데이터셋에 대해 **YOLO에서 사용하는 설정 정보(Config) 파일**인 `yaml`파일을 작성합니다.\n",
        "\n",
        "YOLO 데이터셋 설정 파일에서는 데이터셋의 경로와 클래스 정보 등을 저장합니다."
      ]
    },
    {
      "cell_type": "markdown",
      "metadata": {
        "id": "TBUdHKWCPOTI"
      },
      "source": [
        "작성 및 저장"
      ]
    },
    {
      "cell_type": "code",
      "execution_count": 27,
      "metadata": {
        "id": "YCE18IJKNDLq"
      },
      "outputs": [],
      "source": [
        "yaml_content = \"\"\"\n",
        "# Train/val/test sets\n",
        "path:  PigDataset        # 데이터셋 루트 경로\n",
        "train: train/images     # 학습 이미지 경로 ('path'의 상대 경로)\n",
        "val:   val/images       # 검증 이미지 경로 ('path'의 상대 경로)\n",
        "test:                   # 테스트 이미지 경로 (optional)\n",
        "\n",
        "# Classes\n",
        "names:\n",
        "  0: pig\n",
        "\"\"\"\n",
        "\n",
        "with open('PigDataset/pig.yaml', 'w') as f:\n",
        "    f.write(yaml_content)"
      ]
    },
    {
      "cell_type": "markdown",
      "metadata": {
        "id": "J6qSXePOPPqo"
      },
      "source": [
        "확인"
      ]
    },
    {
      "cell_type": "code",
      "execution_count": 28,
      "metadata": {
        "colab": {
          "base_uri": "https://localhost:8080/"
        },
        "id": "IOk6cPMJOzpe",
        "outputId": "50acfa3b-d60b-483a-c339-ab9f76b71dae"
      },
      "outputs": [
        {
          "name": "stdout",
          "output_type": "stream",
          "text": [
            "\n",
            "# Train/val/test sets\n",
            "path:  PigDataset        # 데이터셋 루트 경로\n",
            "train: train/images     # 학습 이미지 경로 ('path'의 상대 경로)\n",
            "val:   val/images       # 검증 이미지 경로 ('path'의 상대 경로)\n",
            "test:                   # 테스트 이미지 경로 (optional)\n",
            "\n",
            "# Classes\n",
            "names:\n",
            "  0: pig\n"
          ]
        }
      ],
      "source": [
        "!cat PigDataset/pig.yaml"
      ]
    },
    {
      "cell_type": "markdown",
      "metadata": {
        "id": "2vwlGk7DLEyy"
      },
      "source": [
        "## 06. 다운로드\n",
        "\n",
        "구축한 데이터셋을 다운로드합니다.**굵은 텍스트**"
      ]
    },
    {
      "cell_type": "markdown",
      "metadata": {
        "id": "GYrnGu2SLMfX"
      },
      "source": [
        "압축"
      ]
    },
    {
      "cell_type": "code",
      "execution_count": 29,
      "metadata": {
        "colab": {
          "base_uri": "https://localhost:8080/"
        },
        "id": "6hSzjZZS84f3",
        "outputId": "9c7d9e7e-deb5-49f3-9e53-72d55a976f80"
      },
      "outputs": [
        {
          "name": "stdout",
          "output_type": "stream",
          "text": [
            "updating: PigDataset/ (stored 0%)\n",
            "updating: PigDataset/data.yaml (deflated 37%)\n",
            "updating: PigDataset/val/ (stored 0%)\n",
            "updating: PigDataset/val/labels/ (stored 0%)\n",
            "updating: PigDataset/val/labels/001_W5741__2021-10-10_09_19_35_frame0018.txt (deflated 26%)\n",
            "updating: PigDataset/val/labels/001_W5741__2021-10-10_09_19_35_frame0036.txt (deflated 39%)\n",
            "updating: PigDataset/val/labels/001_W5741__2021-10-10_09_19_35_frame0024.txt (deflated 29%)\n",
            "updating: PigDataset/val/labels/001_W5741__2021-10-08_14_45_07_frame0008.txt (deflated 38%)\n",
            "updating: PigDataset/val/labels/001_W5741__2021-10-10_09_19_35_frame0000.txt (deflated 43%)\n",
            "updating: PigDataset/val/labels/21-2_frame21.txt (deflated 13%)\n",
            "updating: PigDataset/val/labels/001_W5741__2021-10-10_09_19_35_frame0033.txt (deflated 38%)\n",
            "updating: PigDataset/val/labels/001_W5741__2021-10-12_10_01_06_frame0026.txt (deflated 39%)\n",
            "updating: PigDataset/val/labels/001_W5741__2021-10-10_09_19_35_frame0031.txt (deflated 28%)\n",
            "updating: PigDataset/val/labels/001_W5741__2021-10-12_10_01_06_frame0011.txt (deflated 43%)\n",
            "updating: PigDataset/val/labels/001_W5741__2021-10-12_10_01_06_frame0029.txt (deflated 28%)\n",
            "updating: PigDataset/val/labels/001_W5741__2021-10-10_09_19_35_frame0026.txt (deflated 38%)\n",
            "updating: PigDataset/val/images/ (stored 0%)\n",
            "updating: PigDataset/val/images/001_W5741__2021-10-10_09_19_35_frame0018.bmp (deflated 86%)\n",
            "updating: PigDataset/val/images/001_W5741__2021-10-12_10_01_06_frame0026.bmp (deflated 87%)\n",
            "updating: PigDataset/val/images/001_W5741__2021-10-10_09_19_35_frame0033.bmp (deflated 86%)\n",
            "updating: PigDataset/val/images/001_W5741__2021-10-08_14_45_07_frame0008.bmp (deflated 86%)\n",
            "updating: PigDataset/val/images/001_W5741__2021-10-10_09_19_35_frame0000.bmp (deflated 86%)\n",
            "updating: PigDataset/val/images/001_W5741__2021-10-12_10_01_06_frame0029.bmp (deflated 87%)\n",
            "updating: PigDataset/val/images/001_W5741__2021-10-12_10_01_06_frame0011.bmp (deflated 86%)\n",
            "updating: PigDataset/val/images/001_W5741__2021-10-10_09_19_35_frame0024.bmp (deflated 86%)\n",
            "updating: PigDataset/val/images/21-2_frame21.bmp (deflated 91%)\n",
            "updating: PigDataset/val/images/001_W5741__2021-10-10_09_19_35_frame0031.bmp (deflated 86%)\n",
            "updating: PigDataset/val/images/001_W5741__2021-10-10_09_19_35_frame0026.bmp (deflated 86%)\n",
            "updating: PigDataset/val/images/001_W5741__2021-10-10_09_19_35_frame0036.bmp (deflated 86%)\n",
            "updating: PigDataset/train/ (stored 0%)\n",
            "updating: PigDataset/train/labels/ (stored 0%)\n",
            "updating: PigDataset/train/labels/21-2_frame19.txt (deflated 11%)\n",
            "updating: PigDataset/train/labels/001_W5741__2021-10-08_14_45_07_frame0028.txt (deflated 13%)\n",
            "updating: PigDataset/train/labels/001_W5741__2021-10-08_14_45_07_frame0026.txt (deflated 39%)\n",
            "updating: PigDataset/train/labels/001_W5741__2021-10-10_09_19_35_frame0010.txt (deflated 39%)\n",
            "updating: PigDataset/train/labels/001_W5741__2021-10-12_10_01_06_frame0033.txt (deflated 45%)\n",
            "updating: PigDataset/train/labels/001_W5741__2021-10-08_14_45_07_frame0005.txt (deflated 26%)\n",
            "updating: PigDataset/train/labels/001_W5741__2021-10-12_10_01_06_frame0016.txt (deflated 28%)\n",
            "updating: PigDataset/train/labels/21-2_frame20.txt (deflated 8%)\n",
            "updating: PigDataset/train/labels/001_W5741__2021-10-08_14_45_07_frame0000.txt (deflated 5%)\n",
            "updating: PigDataset/train/labels/001_W5741__2021-10-12_10_01_06_frame0017.txt (deflated 28%)\n",
            "updating: PigDataset/train/labels/001_W5741__2021-10-08_14_45_07_frame0035.txt (deflated 8%)\n",
            "updating: PigDataset/train/labels/001_W5741__2021-10-12_10_01_06_frame0036.txt (deflated 38%)\n",
            "updating: PigDataset/train/labels/001_W5741__2021-10-12_10_01_06_frame0002.txt (deflated 37%)\n",
            "updating: PigDataset/train/labels/001_W5741__2021-10-08_14_45_07_frame0038.txt (deflated 11%)\n",
            "updating: PigDataset/train/labels/001_W5741__2021-10-08_14_45_07_frame0015.txt (deflated 11%)\n",
            "updating: PigDataset/train/labels/001_W5741__2021-10-12_10_01_06_frame0040.txt (deflated 39%)\n",
            "updating: PigDataset/train/labels/001_W5741__2021-10-10_09_19_35_frame0025.txt (deflated 37%)\n",
            "updating: PigDataset/train/labels/001_W5741__2021-10-12_10_01_06_frame0038.txt (deflated 48%)\n",
            "updating: PigDataset/train/labels/001_W5741__2021-10-10_09_19_35_frame0030.txt (deflated 5%)\n",
            "updating: PigDataset/train/labels/001_W5741__2021-10-12_10_01_06_frame0030.txt (deflated 40%)\n",
            "updating: PigDataset/train/labels/001_W5741__2021-10-12_10_01_06_frame0024.txt (deflated 43%)\n",
            "updating: PigDataset/train/labels/001_W5741__2021-10-10_09_19_35_frame0029.txt (deflated 38%)\n",
            "updating: PigDataset/train/labels/001_W5741__2021-10-08_14_45_07_frame0001.txt (deflated 28%)\n",
            "updating: PigDataset/train/labels/001_W5741__2021-10-10_09_19_35_frame0023.txt (deflated 29%)\n",
            "updating: PigDataset/train/labels/001_W5741__2021-10-12_10_01_06_frame0014.txt (deflated 28%)\n",
            "updating: PigDataset/train/labels/001_W5741__2021-10-08_14_45_07_frame0027.txt (deflated 39%)\n",
            "updating: PigDataset/train/labels/001_W5741__2021-10-12_10_01_06_frame0007.txt (deflated 44%)\n",
            "updating: PigDataset/train/labels/001_W5741__2021-10-10_09_19_35_frame0004.txt (deflated 29%)\n",
            "updating: PigDataset/train/labels/001_W5741__2021-10-10_09_19_35_frame0035.txt (deflated 39%)\n",
            "updating: PigDataset/train/labels/001_W5741__2021-10-12_10_01_06_frame0025.txt (deflated 26%)\n",
            "updating: PigDataset/train/labels/001_W5741__2021-10-12_10_01_06_frame0005.txt (deflated 29%)\n",
            "updating: PigDataset/train/labels/001_W5741__2021-10-12_10_01_06_frame0021.txt (deflated 43%)\n",
            "updating: PigDataset/train/labels/001_W5741__2021-10-12_10_01_06_frame0018.txt (deflated 29%)\n",
            "updating: PigDataset/train/labels/001_W5741__2021-10-10_09_19_35_frame0038.txt (deflated 43%)\n",
            "updating: PigDataset/train/labels/001_W5741__2021-10-08_14_45_07_frame0009.txt (deflated 5%)\n",
            "updating: PigDataset/train/labels/001_W5741__2021-10-10_09_19_35_frame0011.txt (deflated 26%)\n",
            "updating: PigDataset/train/labels/001_W5741__2021-10-12_10_01_06_frame0035.txt (deflated 30%)\n",
            "updating: PigDataset/train/labels/001_W5741__2021-10-12_10_01_06_frame0039.txt (deflated 43%)\n",
            "updating: PigDataset/train/labels/001_W5741__2021-10-10_09_19_35_frame0008.txt (deflated 8%)\n",
            "updating: PigDataset/train/labels/001_W5741__2021-10-10_09_19_35_frame0012.txt (deflated 28%)\n",
            "updating: PigDataset/train/labels/001_W5741__2021-10-12_10_01_06_frame0027.txt (deflated 44%)\n",
            "updating: PigDataset/train/labels/001_W5741__2021-10-12_10_01_06_frame0028.txt (deflated 28%)\n",
            "updating: PigDataset/train/labels/001_W5741__2021-10-10_09_19_35_frame0019.txt (deflated 26%)\n",
            "updating: PigDataset/train/labels/001_W5741__2021-10-08_14_45_07_frame0023.txt (deflated 38%)\n",
            "updating: PigDataset/train/labels/001_W5741__2021-10-08_14_45_07_frame0039.txt (deflated 8%)\n",
            "updating: PigDataset/train/labels/001_W5741__2021-10-12_10_01_06_frame0004.txt (deflated 38%)\n",
            "updating: PigDataset/train/labels/001_W5741__2021-10-08_14_45_07_frame0016.txt (deflated 8%)\n",
            "updating: PigDataset/train/labels/001_W5741__2021-10-10_09_19_35_frame0041.txt (deflated 38%)\n",
            "updating: PigDataset/train/labels/21-2_frame15.txt (deflated 29%)\n",
            "updating: PigDataset/train/labels/21-2_frame17.txt (deflated 30%)\n",
            "updating: PigDataset/train/labels/001_W5741__2021-10-10_09_19_35_frame0016.txt (deflated 28%)\n",
            "updating: PigDataset/train/labels/001_W5741__2021-10-08_14_45_07_frame0030.txt (deflated 39%)\n",
            "updating: PigDataset/train/labels/001_W5741__2021-10-12_10_01_06_frame0006.txt (deflated 28%)\n",
            "updating: PigDataset/train/labels/001_W5741__2021-10-10_09_19_35_frame0014.txt (deflated 28%)\n",
            "updating: PigDataset/train/labels/001_W5741__2021-10-08_14_45_07_frame0002.txt (deflated 28%)\n",
            "updating: PigDataset/train/labels/001_W5741__2021-10-08_14_45_07_frame0031.txt (deflated 39%)\n",
            "updating: PigDataset/train/labels/001_W5741__2021-10-10_09_19_35_frame0003.txt (deflated 8%)\n",
            "updating: PigDataset/train/labels/001_W5741__2021-10-08_14_45_07_frame0004.txt (deflated 26%)\n",
            "updating: PigDataset/train/labels/001_W5741__2021-10-10_09_19_35_frame0034.txt (deflated 38%)\n",
            "updating: PigDataset/train/labels/001_W5741__2021-10-08_14_45_07_frame0013.txt (deflated 8%)\n",
            "updating: PigDataset/train/labels/001_W5741__2021-10-10_09_19_35_frame0037.txt (deflated 39%)\n",
            "updating: PigDataset/train/labels/001_W5741__2021-10-10_09_19_35_frame0032.txt (deflated 29%)\n",
            "updating: PigDataset/train/labels/001_W5741__2021-10-10_09_19_35_frame0007.txt (deflated 11%)\n",
            "updating: PigDataset/train/labels/001_W5741__2021-10-12_10_01_06_frame0009.txt (deflated 38%)\n",
            "updating: PigDataset/train/labels/001_W5741__2021-10-08_14_45_07_frame0037.txt (deflated 5%)\n",
            "updating: PigDataset/train/labels/001_W5741__2021-10-12_10_01_06_frame0000.txt (deflated 47%)\n",
            "updating: PigDataset/train/labels/001_W5741__2021-10-12_10_01_06_frame0034.txt (deflated 39%)\n",
            "updating: PigDataset/train/labels/001_W5741__2021-10-12_10_01_06_frame0023.txt (deflated 47%)\n",
            "updating: PigDataset/train/labels/001_W5741__2021-10-10_09_19_35_frame0002.txt (deflated 40%)\n",
            "updating: PigDataset/train/labels/001_W5741__2021-10-12_10_01_06_frame0001.txt (deflated 39%)\n",
            "updating: PigDataset/train/labels/001_W5741__2021-10-10_09_19_35_frame0039.txt (deflated 43%)\n",
            "updating: PigDataset/train/labels/001_W5741__2021-10-08_14_45_07_frame0006.txt (deflated 43%)\n",
            "updating: PigDataset/train/labels/001_W5741__2021-10-08_14_45_07_frame0018.txt (deflated 26%)\n",
            "updating: PigDataset/train/labels/001_W5741__2021-10-12_10_01_06_frame0022.txt (deflated 50%)\n",
            "updating: PigDataset/train/labels/001_W5741__2021-10-08_14_45_07_frame0025.txt (deflated 39%)\n",
            "updating: PigDataset/train/labels/001_W5741__2021-10-10_09_19_35_frame0020.txt (deflated 28%)\n",
            "updating: PigDataset/train/labels/001_W5741__2021-10-08_14_45_07_frame0032.txt (deflated 45%)\n",
            "updating: PigDataset/train/labels/001_W5741__2021-10-10_09_19_35_frame0040.txt (deflated 44%)\n",
            "updating: PigDataset/train/labels/21-2_frame22.txt (deflated 32%)\n",
            "updating: PigDataset/train/labels/001_W5741__2021-10-08_14_45_07_frame0024.txt (deflated 38%)\n",
            "updating: PigDataset/train/labels/001_W5741__2021-10-10_09_19_35_frame0001.txt (deflated 43%)\n",
            "updating: PigDataset/train/labels/001_W5741__2021-10-12_10_01_06_frame0019.txt (deflated 39%)\n",
            "updating: PigDataset/train/labels/001_W5741__2021-10-10_09_19_35_frame0028.txt (deflated 26%)\n",
            "updating: PigDataset/train/labels/001_W5741__2021-10-10_09_19_35_frame0021.txt (deflated 29%)\n",
            "updating: PigDataset/train/labels/001_W5741__2021-10-12_10_01_06_frame0020.txt (deflated 26%)\n",
            "updating: PigDataset/train/labels/001_W5741__2021-10-10_09_19_35_frame0015.txt (deflated 26%)\n",
            "updating: PigDataset/train/labels/001_W5741__2021-10-10_09_19_35_frame0005.txt (deflated 45%)\n",
            "updating: PigDataset/train/labels/001_W5741__2021-10-10_09_19_35_frame0013.txt (deflated 28%)\n",
            "updating: PigDataset/train/labels/001_W5741__2021-10-12_10_01_06_frame0037.txt (deflated 21%)\n",
            "updating: PigDataset/train/labels/001_W5741__2021-10-12_10_01_06_frame0041.txt (deflated 46%)\n",
            "updating: PigDataset/train/labels/001_W5741__2021-10-12_10_01_06_frame0010.txt (deflated 48%)\n",
            "updating: PigDataset/train/labels/001_W5741__2021-10-08_14_45_07_frame0007.txt (deflated 29%)\n",
            "updating: PigDataset/train/labels/001_W5741__2021-10-10_09_19_35_frame0017.txt (deflated 26%)\n",
            "updating: PigDataset/train/labels/001_W5741__2021-10-10_09_19_35_frame0022.txt (deflated 30%)\n",
            "updating: PigDataset/train/labels/001_W5741__2021-10-12_10_01_06_frame0008.txt (deflated 48%)\n",
            "updating: PigDataset/train/labels/001_W5741__2021-10-12_10_01_06_frame0003.txt (deflated 30%)\n",
            "updating: PigDataset/train/labels/001_W5741__2021-10-10_09_19_35_frame0009.txt (deflated 38%)\n",
            "updating: PigDataset/train/labels/001_W5741__2021-10-08_14_45_07_frame0034.txt (deflated 11%)\n",
            "updating: PigDataset/train/labels/001_W5741__2021-10-12_10_01_06_frame0015.txt (deflated 38%)\n",
            "updating: PigDataset/train/labels/001_W5741__2021-10-12_10_01_06_frame0013.txt (deflated 29%)\n",
            "updating: PigDataset/train/labels/001_W5741__2021-10-12_10_01_06_frame0032.txt (deflated 28%)\n",
            "updating: PigDataset/train/labels/001_W5741__2021-10-10_09_19_35_frame0027.txt (deflated 28%)\n",
            "updating: PigDataset/train/labels/001_W5741__2021-10-08_14_45_07_frame0003.txt (deflated 26%)\n",
            "updating: PigDataset/train/labels/001_W5741__2021-10-12_10_01_06_frame0012.txt (deflated 45%)\n",
            "updating: PigDataset/train/labels/001_W5741__2021-10-12_10_01_06_frame0031.txt (deflated 37%)\n",
            "updating: PigDataset/train/labels/001_W5741__2021-10-08_14_45_07_frame0010.txt (deflated 37%)\n",
            "updating: PigDataset/train/labels/001_W5741__2021-10-10_09_19_35_frame0006.txt (deflated 8%)\n",
            "updating: PigDataset/train/images/ (stored 0%)\n",
            "updating: PigDataset/train/images/001_W5741__2021-10-08_14_45_07_frame0007.bmp (deflated 86%)\n",
            "updating: PigDataset/train/images/001_W5741__2021-10-10_09_19_35_frame0037.bmp (deflated 86%)\n",
            "updating: PigDataset/train/images/001_W5741__2021-10-08_14_45_07_frame0025.bmp (deflated 86%)\n",
            "updating: PigDataset/train/images/001_W5741__2021-10-10_09_19_35_frame0014.bmp (deflated 86%)\n",
            "updating: PigDataset/train/images/001_W5741__2021-10-12_10_01_06_frame0005.bmp (deflated 87%)\n",
            "updating: PigDataset/train/images/001_W5741__2021-10-08_14_45_07_frame0038.bmp (deflated 86%)\n",
            "updating: PigDataset/train/images/001_W5741__2021-10-10_09_19_35_frame0011.bmp (deflated 86%)\n",
            "updating: PigDataset/train/images/001_W5741__2021-10-12_10_01_06_frame0034.bmp (deflated 86%)\n",
            "updating: PigDataset/train/images/001_W5741__2021-10-10_09_19_35_frame0032.bmp (deflated 86%)\n",
            "updating: PigDataset/train/images/001_W5741__2021-10-08_14_45_07_frame0028.bmp (deflated 86%)\n",
            "updating: PigDataset/train/images/001_W5741__2021-10-12_10_01_06_frame0001.bmp (deflated 86%)\n",
            "updating: PigDataset/train/images/001_W5741__2021-10-12_10_01_06_frame0003.bmp (deflated 86%)\n",
            "updating: PigDataset/train/images/001_W5741__2021-10-08_14_45_07_frame0024.bmp (deflated 86%)\n",
            "updating: PigDataset/train/images/001_W5741__2021-10-10_09_19_35_frame0013.bmp (deflated 86%)\n",
            "updating: PigDataset/train/images/001_W5741__2021-10-10_09_19_35_frame0012.bmp (deflated 86%)\n",
            "updating: PigDataset/train/images/001_W5741__2021-10-08_14_45_07_frame0026.bmp (deflated 86%)\n",
            "updating: PigDataset/train/images/001_W5741__2021-10-08_14_45_07_frame0005.bmp (deflated 86%)\n",
            "updating: PigDataset/train/images/001_W5741__2021-10-08_14_45_07_frame0034.bmp (deflated 86%)\n",
            "updating: PigDataset/train/images/001_W5741__2021-10-10_09_19_35_frame0023.bmp (deflated 86%)\n",
            "updating: PigDataset/train/images/001_W5741__2021-10-12_10_01_06_frame0014.bmp (deflated 86%)\n",
            "updating: PigDataset/train/images/001_W5741__2021-10-12_10_01_06_frame0004.bmp (deflated 87%)\n",
            "updating: PigDataset/train/images/001_W5741__2021-10-10_09_19_35_frame0022.bmp (deflated 86%)\n",
            "updating: PigDataset/train/images/001_W5741__2021-10-12_10_01_06_frame0033.bmp (deflated 86%)\n",
            "updating: PigDataset/train/images/001_W5741__2021-10-10_09_19_35_frame0041.bmp (deflated 86%)\n",
            "updating: PigDataset/train/images/001_W5741__2021-10-08_14_45_07_frame0016.bmp (deflated 86%)\n",
            "updating: PigDataset/train/images/001_W5741__2021-10-12_10_01_06_frame0013.bmp (deflated 86%)\n",
            "updating: PigDataset/train/images/001_W5741__2021-10-12_10_01_06_frame0002.bmp (deflated 86%)\n",
            "updating: PigDataset/train/images/001_W5741__2021-10-08_14_45_07_frame0018.bmp (deflated 86%)\n",
            "updating: PigDataset/train/images/001_W5741__2021-10-12_10_01_06_frame0037.bmp (deflated 86%)\n",
            "updating: PigDataset/train/images/001_W5741__2021-10-10_09_19_35_frame0010.bmp (deflated 86%)\n",
            "updating: PigDataset/train/images/001_W5741__2021-10-10_09_19_35_frame0004.bmp (deflated 87%)\n",
            "updating: PigDataset/train/images/001_W5741__2021-10-10_09_19_35_frame0019.bmp (deflated 86%)\n",
            "updating: PigDataset/train/images/001_W5741__2021-10-12_10_01_06_frame0032.bmp (deflated 86%)\n",
            "updating: PigDataset/train/images/001_W5741__2021-10-08_14_45_07_frame0023.bmp (deflated 86%)\n",
            "updating: PigDataset/train/images/21-2_frame17.bmp (deflated 91%)\n",
            "updating: PigDataset/train/images/001_W5741__2021-10-12_10_01_06_frame0007.bmp (deflated 86%)\n",
            "updating: PigDataset/train/images/001_W5741__2021-10-08_14_45_07_frame0009.bmp (deflated 86%)\n",
            "updating: PigDataset/train/images/001_W5741__2021-10-12_10_01_06_frame0016.bmp (deflated 87%)\n",
            "updating: PigDataset/train/images/001_W5741__2021-10-12_10_01_06_frame0027.bmp (deflated 87%)\n",
            "updating: PigDataset/train/images/001_W5741__2021-10-12_10_01_06_frame0024.bmp (deflated 86%)\n",
            "updating: PigDataset/train/images/001_W5741__2021-10-10_09_19_35_frame0025.bmp (deflated 86%)\n",
            "updating: PigDataset/train/images/001_W5741__2021-10-10_09_19_35_frame0006.bmp (deflated 87%)\n",
            "updating: PigDataset/train/images/001_W5741__2021-10-12_10_01_06_frame0022.bmp (deflated 86%)\n",
            "updating: PigDataset/train/images/001_W5741__2021-10-10_09_19_35_frame0027.bmp (deflated 86%)\n",
            "updating: PigDataset/train/images/001_W5741__2021-10-12_10_01_06_frame0018.bmp (deflated 86%)\n",
            "updating: PigDataset/train/images/21-2_frame20.bmp (deflated 91%)\n",
            "updating: PigDataset/train/images/001_W5741__2021-10-08_14_45_07_frame0031.bmp (deflated 86%)\n",
            "updating: PigDataset/train/images/001_W5741__2021-10-12_10_01_06_frame0028.bmp (deflated 87%)\n",
            "updating: PigDataset/train/images/001_W5741__2021-10-10_09_19_35_frame0038.bmp (deflated 86%)\n",
            "updating: PigDataset/train/images/001_W5741__2021-10-10_09_19_35_frame0009.bmp (deflated 87%)\n",
            "updating: PigDataset/train/images/001_W5741__2021-10-10_09_19_35_frame0021.bmp (deflated 87%)\n",
            "updating: PigDataset/train/images/001_W5741__2021-10-08_14_45_07_frame0035.bmp (deflated 86%)\n",
            "updating: PigDataset/train/images/001_W5741__2021-10-12_10_01_06_frame0038.bmp (deflated 86%)\n",
            "updating: PigDataset/train/images/001_W5741__2021-10-08_14_45_07_frame0002.bmp (deflated 86%)\n",
            "updating: PigDataset/train/images/001_W5741__2021-10-12_10_01_06_frame0035.bmp (deflated 86%)\n",
            "updating: PigDataset/train/images/001_W5741__2021-10-08_14_45_07_frame0013.bmp (deflated 86%)\n",
            "updating: PigDataset/train/images/001_W5741__2021-10-08_14_45_07_frame0027.bmp (deflated 86%)\n",
            "updating: PigDataset/train/images/001_W5741__2021-10-12_10_01_06_frame0020.bmp (deflated 86%)\n",
            "updating: PigDataset/train/images/001_W5741__2021-10-12_10_01_06_frame0023.bmp (deflated 86%)\n",
            "updating: PigDataset/train/images/21-2_frame19.bmp (deflated 91%)\n",
            "updating: PigDataset/train/images/001_W5741__2021-10-08_14_45_07_frame0003.bmp (deflated 86%)\n",
            "updating: PigDataset/train/images/001_W5741__2021-10-10_09_19_35_frame0007.bmp (deflated 87%)\n",
            "updating: PigDataset/train/images/001_W5741__2021-10-10_09_19_35_frame0040.bmp (deflated 86%)\n",
            "updating: PigDataset/train/images/001_W5741__2021-10-12_10_01_06_frame0021.bmp (deflated 86%)\n",
            "updating: PigDataset/train/images/001_W5741__2021-10-12_10_01_06_frame0039.bmp (deflated 87%)\n",
            "updating: PigDataset/train/images/001_W5741__2021-10-10_09_19_35_frame0039.bmp (deflated 86%)\n",
            "updating: PigDataset/train/images/001_W5741__2021-10-08_14_45_07_frame0006.bmp (deflated 86%)\n",
            "updating: PigDataset/train/images/001_W5741__2021-10-10_09_19_35_frame0001.bmp (deflated 86%)\n",
            "updating: PigDataset/train/images/001_W5741__2021-10-10_09_19_35_frame0017.bmp (deflated 86%)\n",
            "updating: PigDataset/train/images/001_W5741__2021-10-10_09_19_35_frame0034.bmp (deflated 86%)\n",
            "updating: PigDataset/train/images/001_W5741__2021-10-12_10_01_06_frame0041.bmp (deflated 86%)\n",
            "updating: PigDataset/train/images/001_W5741__2021-10-12_10_01_06_frame0017.bmp (deflated 87%)\n",
            "updating: PigDataset/train/images/001_W5741__2021-10-12_10_01_06_frame0040.bmp (deflated 86%)\n",
            "updating: PigDataset/train/images/001_W5741__2021-10-12_10_01_06_frame0015.bmp (deflated 86%)\n",
            "updating: PigDataset/train/images/001_W5741__2021-10-10_09_19_35_frame0020.bmp (deflated 86%)\n",
            "updating: PigDataset/train/images/001_W5741__2021-10-10_09_19_35_frame0028.bmp (deflated 86%)\n",
            "updating: PigDataset/train/images/001_W5741__2021-10-12_10_01_06_frame0009.bmp (deflated 87%)\n",
            "updating: PigDataset/train/images/001_W5741__2021-10-10_09_19_35_frame0003.bmp (deflated 87%)\n",
            "updating: PigDataset/train/images/001_W5741__2021-10-10_09_19_35_frame0029.bmp (deflated 86%)\n",
            "updating: PigDataset/train/images/001_W5741__2021-10-12_10_01_06_frame0030.bmp (deflated 86%)\n",
            "updating: PigDataset/train/images/001_W5741__2021-10-12_10_01_06_frame0008.bmp (deflated 86%)\n",
            "updating: PigDataset/train/images/001_W5741__2021-10-08_14_45_07_frame0039.bmp (deflated 86%)\n",
            "updating: PigDataset/train/images/001_W5741__2021-10-08_14_45_07_frame0030.bmp (deflated 86%)\n",
            "updating: PigDataset/train/images/001_W5741__2021-10-12_10_01_06_frame0000.bmp (deflated 86%)\n",
            "updating: PigDataset/train/images/001_W5741__2021-10-10_09_19_35_frame0002.bmp (deflated 86%)\n",
            "updating: PigDataset/train/images/001_W5741__2021-10-10_09_19_35_frame0035.bmp (deflated 86%)\n",
            "updating: PigDataset/train/images/001_W5741__2021-10-12_10_01_06_frame0019.bmp (deflated 86%)\n",
            "updating: PigDataset/train/images/001_W5741__2021-10-12_10_01_06_frame0006.bmp (deflated 87%)\n",
            "updating: PigDataset/train/images/21-2_frame22.bmp (deflated 91%)\n",
            "updating: PigDataset/train/images/001_W5741__2021-10-12_10_01_06_frame0010.bmp (deflated 87%)\n",
            "updating: PigDataset/train/images/001_W5741__2021-10-12_10_01_06_frame0036.bmp (deflated 86%)\n",
            "updating: PigDataset/train/images/001_W5741__2021-10-08_14_45_07_frame0032.bmp (deflated 86%)\n",
            "updating: PigDataset/train/images/001_W5741__2021-10-08_14_45_07_frame0004.bmp (deflated 86%)\n",
            "updating: PigDataset/train/images/001_W5741__2021-10-10_09_19_35_frame0030.bmp (deflated 86%)\n",
            "updating: PigDataset/train/images/001_W5741__2021-10-08_14_45_07_frame0037.bmp (deflated 86%)\n",
            "updating: PigDataset/train/images/001_W5741__2021-10-08_14_45_07_frame0001.bmp (deflated 86%)\n",
            "updating: PigDataset/train/images/001_W5741__2021-10-12_10_01_06_frame0025.bmp (deflated 87%)\n",
            "updating: PigDataset/train/images/001_W5741__2021-10-10_09_19_35_frame0005.bmp (deflated 87%)\n",
            "updating: PigDataset/train/images/21-2_frame15.bmp (deflated 91%)\n",
            "updating: PigDataset/train/images/001_W5741__2021-10-10_09_19_35_frame0008.bmp (deflated 87%)\n",
            "updating: PigDataset/train/images/001_W5741__2021-10-08_14_45_07_frame0000.bmp (deflated 86%)\n",
            "updating: PigDataset/train/images/001_W5741__2021-10-10_09_19_35_frame0016.bmp (deflated 86%)\n",
            "updating: PigDataset/train/images/001_W5741__2021-10-08_14_45_07_frame0010.bmp (deflated 86%)\n",
            "updating: PigDataset/train/images/001_W5741__2021-10-12_10_01_06_frame0031.bmp (deflated 86%)\n",
            "updating: PigDataset/train/images/001_W5741__2021-10-10_09_19_35_frame0015.bmp (deflated 86%)\n",
            "updating: PigDataset/train/images/001_W5741__2021-10-08_14_45_07_frame0015.bmp (deflated 86%)\n",
            "updating: PigDataset/train/images/001_W5741__2021-10-12_10_01_06_frame0012.bmp (deflated 86%)\n",
            "  adding: PigDataset/pig.yaml (deflated 36%)\n"
          ]
        }
      ],
      "source": [
        "!zip PigDataset.zip -r PigDataset"
      ]
    },
    {
      "cell_type": "code",
      "execution_count": null,
      "metadata": {
        "colab": {
          "base_uri": "https://localhost:8080/"
        },
        "id": "1IQkSCuy9fkT",
        "outputId": "eb6aef0e-ef54-4c8e-d9ce-e50b8a309a14"
      },
      "outputs": [],
      "source": [
        "!ls # 출력: dataset  PigDataset  PigDataset.zip  sample_data  양돈과_초음파.zip"
      ]
    },
    {
      "cell_type": "markdown",
      "metadata": {
        "id": "Q5NOf1DjLUnE"
      },
      "source": [
        "다운로드\n",
        "\n",
        "다운로드 후 로컬 디스크에 저장된 파일을 확인하세요."
      ]
    },
    {
      "cell_type": "code",
      "execution_count": 31,
      "metadata": {
        "colab": {
          "base_uri": "https://localhost:8080/",
          "height": 17
        },
        "id": "XQ_kLrGU9kK7",
        "outputId": "3d48cb99-d0ca-466c-85a5-57d4fcf9ac6d"
      },
      "outputs": [
        {
          "data": {
            "application/javascript": "\n    async function download(id, filename, size) {\n      if (!google.colab.kernel.accessAllowed) {\n        return;\n      }\n      const div = document.createElement('div');\n      const label = document.createElement('label');\n      label.textContent = `Downloading \"${filename}\": `;\n      div.appendChild(label);\n      const progress = document.createElement('progress');\n      progress.max = size;\n      div.appendChild(progress);\n      document.body.appendChild(div);\n\n      const buffers = [];\n      let downloaded = 0;\n\n      const channel = await google.colab.kernel.comms.open(id);\n      // Send a message to notify the kernel that we're ready.\n      channel.send({})\n\n      for await (const message of channel.messages) {\n        // Send a message to notify the kernel that we're ready.\n        channel.send({})\n        if (message.buffers) {\n          for (const buffer of message.buffers) {\n            buffers.push(buffer);\n            downloaded += buffer.byteLength;\n            progress.value = downloaded;\n          }\n        }\n      }\n      const blob = new Blob(buffers, {type: 'application/binary'});\n      const a = document.createElement('a');\n      a.href = window.URL.createObjectURL(blob);\n      a.download = filename;\n      div.appendChild(a);\n      a.click();\n      div.remove();\n    }\n  ",
            "text/plain": [
              "<IPython.core.display.Javascript object>"
            ]
          },
          "metadata": {},
          "output_type": "display_data"
        },
        {
          "data": {
            "application/javascript": "download(\"download_e219b000-5479-431a-822e-66e16d7f9eb9\", \"PigDataset.zip\", 24710294)",
            "text/plain": [
              "<IPython.core.display.Javascript object>"
            ]
          },
          "metadata": {},
          "output_type": "display_data"
        }
      ],
      "source": [
        "files.download('PigDataset.zip')"
      ]
    },
    {
      "cell_type": "code",
      "execution_count": 31,
      "metadata": {
        "id": "5fuFMmGC9mct"
      },
      "outputs": [],
      "source": []
    }
  ],
  "metadata": {
    "colab": {
      "provenance": []
    },
    "kernelspec": {
      "display_name": "Python 3",
      "name": "python3"
    },
    "language_info": {
      "name": "python"
    }
  },
  "nbformat": 4,
  "nbformat_minor": 0
}
