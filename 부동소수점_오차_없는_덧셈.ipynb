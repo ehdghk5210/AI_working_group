{
  "cells": [
    {
      "cell_type": "markdown",
      "id": "06c0b52c",
      "metadata": {
        "id": "06c0b52c"
      },
      "source": [
        "# 부동소수점 오차 없이 0.1 + 0.2 계산하기\n",
        "`0.1 + 0.2`는 파이썬에서 `0.30000000000000004`로 출력됩니다. 이는 부동소수점 오차 때문입니다. 이 노트북에서는 오차 없이 정확히 계산하는 방법들을 소개합니다."
      ]
    },
    {
      "cell_type": "markdown",
      "id": "a6c1d1cf",
      "metadata": {
        "id": "a6c1d1cf"
      },
      "source": [
        "## ✅ 방법 1: `round()` 함수 사용하기"
      ]
    },
    {
      "cell_type": "code",
      "execution_count": null,
      "id": "968d26e9",
      "metadata": {
        "id": "968d26e9"
      },
      "outputs": [],
      "source": [
        "print(0.1 + 0.2)          # 결과: 0.30000000000000004\n",
        "print(round(0.1 + 0.2, 1))  # 결과: 0.3"
      ]
    },
    {
      "cell_type": "markdown",
      "id": "82eef3b7",
      "metadata": {
        "id": "82eef3b7"
      },
      "source": [
        "## ✅ 방법 2: `decimal` 모듈 사용 (정확한 10진수 계산)"
      ]
    },
    {
      "cell_type": "code",
      "execution_count": null,
      "id": "612ce040",
      "metadata": {
        "id": "612ce040"
      },
      "outputs": [],
      "source": [
        "from decimal import Decimal, getcontext\n",
        "\n",
        "getcontext().prec = 10  # 소수점 정밀도 설정\n",
        "\n",
        "a = Decimal('0.1')\n",
        "b = Decimal('0.2')\n",
        "result = a + b\n",
        "\n",
        "print(result)  # 결과: 0.3"
      ]
    },
    {
      "cell_type": "markdown",
      "id": "9a8680e6",
      "metadata": {
        "id": "9a8680e6"
      },
      "source": [
        "## ✅ 방법 3: `fractions` 모듈 사용 (분수로 계산)"
      ]
    },
    {
      "cell_type": "code",
      "execution_count": null,
      "id": "fc71471c",
      "metadata": {
        "id": "fc71471c"
      },
      "outputs": [],
      "source": [
        "from fractions import Fraction\n",
        "\n",
        "a = Fraction(1, 10)\n",
        "b = Fraction(2, 10)\n",
        "result = a + b\n",
        "\n",
        "print(result)         # 결과: 3/10\n",
        "print(float(result))  # 결과: 0.3"
      ]
    },
    {
      "cell_type": "markdown",
      "id": "945343ce",
      "metadata": {
        "id": "945343ce"
      },
      "source": [
        "---\n",
        "이처럼 `round`, `decimal`, `fractions` 모듈을 활용하면 부동소수점 오차를 효과적으로 처리할 수 있습니다."
      ]
    }
  ],
  "metadata": {
    "colab": {
      "provenance": []
    }
  },
  "nbformat": 4,
  "nbformat_minor": 5
}