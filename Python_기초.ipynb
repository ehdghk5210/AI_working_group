{
  "cells": [
    {
      "cell_type": "markdown",
      "metadata": {
        "id": "tuLvWwwzk-1x"
      },
      "source": [
        "# **Python 기초**"
      ]
    },
    {
      "cell_type": "markdown",
      "metadata": {
        "id": "kbHHzZQR1O50"
      },
      "source": [
        "## 손풀기\n",
        "\n",
        "파이썬을 시작하기에 앞서 간단하게 손을 풀어봅시다."
      ]
    },
    {
      "cell_type": "markdown",
      "metadata": {
        "id": "uaPdxrcl7ogV"
      },
      "source": [
        "### 사칙연산\n",
        "**덧셈**"
      ]
    },
    {
      "cell_type": "code",
      "execution_count": null,
      "metadata": {
        "colab": {
          "base_uri": "https://localhost:8080/"
        },
        "id": "NCQ-GT9_7mO0",
        "outputId": "cca2e5cd-fba5-42ce-a65a-7aa696816daf"
      },
      "outputs": [
        {
          "data": {
            "text/plain": [
              "3"
            ]
          },
          "execution_count": 1,
          "metadata": {},
          "output_type": "execute_result"
        }
      ],
      "source": [
        "1 + 2"
      ]
    },
    {
      "cell_type": "markdown",
      "metadata": {
        "id": "ofGQYHI87y9v"
      },
      "source": [
        "**뺄셈**"
      ]
    },
    {
      "cell_type": "code",
      "execution_count": null,
      "metadata": {
        "colab": {
          "base_uri": "https://localhost:8080/"
        },
        "id": "uLo65ZZd7vqA",
        "outputId": "f8d6cede-2a74-4a1d-d63e-4551c9b25a0c"
      },
      "outputs": [
        {
          "data": {
            "text/plain": [
              "78"
            ]
          },
          "execution_count": 4,
          "metadata": {},
          "output_type": "execute_result"
        }
      ],
      "source": [
        "100 - 22"
      ]
    },
    {
      "cell_type": "markdown",
      "metadata": {
        "id": "R-XBl_-n70zR"
      },
      "source": [
        "**곱셈**"
      ]
    },
    {
      "cell_type": "code",
      "execution_count": null,
      "metadata": {
        "colab": {
          "base_uri": "https://localhost:8080/"
        },
        "id": "J01BMEfs70cE",
        "outputId": "a166223b-f92b-4030-db91-c71afa8efdaa"
      },
      "outputs": [
        {
          "data": {
            "text/plain": [
              "56088"
            ]
          },
          "execution_count": 6,
          "metadata": {},
          "output_type": "execute_result"
        }
      ],
      "source": [
        "123 * 456"
      ]
    },
    {
      "cell_type": "markdown",
      "metadata": {
        "id": "VJg0mPLz75lu"
      },
      "source": [
        "**나눗셈**\n",
        "\n",
        "`/` 우리가 아는 일반적인 나누기입니다.\n",
        "\n",
        "`//` 나눗셈의 몫만 구하는 연산자입니다."
      ]
    },
    {
      "cell_type": "code",
      "execution_count": null,
      "metadata": {
        "colab": {
          "base_uri": "https://localhost:8080/"
        },
        "id": "ahDjpPPX77KQ",
        "outputId": "da496da2-ebbd-4f05-ab91-8a277837fdfa"
      },
      "outputs": [
        {
          "data": {
            "text/plain": [
              "333.3333333333333"
            ]
          },
          "execution_count": 7,
          "metadata": {},
          "output_type": "execute_result"
        }
      ],
      "source": [
        "1000 / 3"
      ]
    },
    {
      "cell_type": "code",
      "execution_count": null,
      "metadata": {
        "colab": {
          "base_uri": "https://localhost:8080/"
        },
        "id": "pnAYwvE28CVl",
        "outputId": "a663f54b-03b2-4e8f-cad7-cd0164aaa0ad"
      },
      "outputs": [
        {
          "data": {
            "text/plain": [
              "333"
            ]
          },
          "execution_count": 9,
          "metadata": {},
          "output_type": "execute_result"
        }
      ],
      "source": [
        "# 몫만\n",
        "1000 // 3"
      ]
    },
    {
      "cell_type": "markdown",
      "metadata": {
        "id": "bzC_sbfq8Jp8"
      },
      "source": [
        "**나머지**\n",
        "\n",
        "`%` 연산자를 사용합니다."
      ]
    },
    {
      "cell_type": "code",
      "execution_count": null,
      "metadata": {
        "colab": {
          "base_uri": "https://localhost:8080/"
        },
        "id": "b0MvYkmO8LZw",
        "outputId": "4fc28993-974b-4d09-aa1c-7a0961f27ff6"
      },
      "outputs": [
        {
          "data": {
            "text/plain": [
              "1"
            ]
          },
          "execution_count": 10,
          "metadata": {},
          "output_type": "execute_result"
        }
      ],
      "source": [
        "1000 % 3"
      ]
    },
    {
      "cell_type": "markdown",
      "metadata": {
        "id": "XFot9A-q8p6S"
      },
      "source": [
        "### 출력하기\n",
        "`print()` 함수를 이용합니다."
      ]
    },
    {
      "cell_type": "code",
      "execution_count": null,
      "metadata": {
        "colab": {
          "base_uri": "https://localhost:8080/"
        },
        "id": "w6MN47qh8pu6",
        "outputId": "dba40190-5b39-4db2-94db-2d1edbfd569c"
      },
      "outputs": [
        {
          "name": "stdout",
          "output_type": "stream",
          "text": [
            "Hello, world!\n"
          ]
        }
      ],
      "source": [
        "print(\"Hello, world!\")"
      ]
    },
    {
      "cell_type": "code",
      "execution_count": null,
      "metadata": {
        "colab": {
          "base_uri": "https://localhost:8080/"
        },
        "id": "xgY95TY080NC",
        "outputId": "3c11c19f-afb1-438c-935c-9878ac5e3fb3"
      },
      "outputs": [
        {
          "name": "stdout",
          "output_type": "stream",
          "text": [
            "1\n"
          ]
        }
      ],
      "source": [
        "print(1)"
      ]
    },
    {
      "cell_type": "code",
      "execution_count": null,
      "metadata": {
        "colab": {
          "base_uri": "https://localhost:8080/"
        },
        "id": "U96HnXFS83FP",
        "outputId": "b4936284-9230-4986-b813-83722ae126a2"
      },
      "outputs": [
        {
          "name": "stdout",
          "output_type": "stream",
          "text": [
            "1\n"
          ]
        }
      ],
      "source": [
        "a = 1\n",
        "print(a)"
      ]
    },
    {
      "cell_type": "markdown",
      "metadata": {
        "id": "_SuurozC87NL"
      },
      "source": [
        "* `a`는 뒤에서 배울 변수(variable)입니다."
      ]
    },
    {
      "cell_type": "markdown",
      "metadata": {
        "id": "tfuzRuL-ZQYL"
      },
      "source": [
        "## **변수(Variable)**"
      ]
    },
    {
      "cell_type": "markdown",
      "metadata": {
        "id": "LUQpSs7WZY1e"
      },
      "source": [
        "**변수**는 **값을 저장하는 상자**입니다. 값을 넣고 다시 불러와 사용할 수 있습니다.\n",
        "\n",
        "아래 코드를실행해보세요."
      ]
    },
    {
      "cell_type": "code",
      "execution_count": 1,
      "metadata": {
        "colab": {
          "base_uri": "https://localhost:8080/"
        },
        "id": "G95z4mlFZ2RH",
        "outputId": "ca4ecc21-0880-4ff5-9765-f334e55f9501"
      },
      "outputs": [
        {
          "name": "stdout",
          "output_type": "stream",
          "text": [
            "3\n",
            "RDA\n"
          ]
        }
      ],
      "source": [
        "x = 3\n",
        "name = \"RDA\"\n",
        "\n",
        "print(x)\n",
        "print(name)"
      ]
    },
    {
      "cell_type": "markdown",
      "metadata": {
        "id": "gEkEmteQaCno"
      },
      "source": [
        "\n",
        "\n",
        "* `x`는 변수의 **이름**이고, 3은 저장된 **값**입니다.\n",
        "* `name`이라는 변수에는 \"RDA\"라는 문자열이 저장되어 있습니다.\n",
        "* `=` 기호는 값을 변수에 **할당(assignment)**하는 역할을 합니다.\n",
        "\n",
        "\n"
      ]
    },
    {
      "cell_type": "markdown",
      "metadata": {
        "id": "Ju5vTO5bcJxy"
      },
      "source": [
        "변수는 값을 덮어쓸 수 있습니다. 가장 최근에 할당한 값이 저장됩니다."
      ]
    },
    {
      "cell_type": "code",
      "execution_count": null,
      "metadata": {
        "colab": {
          "base_uri": "https://localhost:8080/"
        },
        "id": "ztKTFeTxcJM9",
        "outputId": "dab8da25-08b2-45f9-a835-0200d890231d"
      },
      "outputs": [
        {
          "name": "stdout",
          "output_type": "stream",
          "text": [
            "3\n",
            "10\n"
          ]
        }
      ],
      "source": [
        "x = 3\n",
        "print(x)  # 3\n",
        "\n",
        "x = 10\n",
        "print(x)  # 10"
      ]
    },
    {
      "cell_type": "markdown",
      "metadata": {
        "id": "gIA2nXlRcoYQ"
      },
      "source": [
        "변수는 숫자뿐 아니라 다양한 종류의 값을 저장할 수 있습니다."
      ]
    },
    {
      "cell_type": "code",
      "execution_count": null,
      "metadata": {
        "id": "XOr_bQFgcqOU"
      },
      "outputs": [],
      "source": [
        "a = 3         # 정수\n",
        "b = 3.14      # 실수\n",
        "c = \"hello\"   # 문자열\n",
        "flag = True   # 불(boolean)"
      ]
    },
    {
      "cell_type": "code",
      "execution_count": null,
      "metadata": {
        "colab": {
          "base_uri": "https://localhost:8080/"
        },
        "id": "4VBAfXGPcu_7",
        "outputId": "b9a853c1-2f82-4f2e-f488-2953d40bcf38"
      },
      "outputs": [
        {
          "name": "stdout",
          "output_type": "stream",
          "text": [
            "3 3.14 hello True\n"
          ]
        }
      ],
      "source": [
        "print(a, b, c, flag)"
      ]
    },
    {
      "cell_type": "markdown",
      "metadata": {
        "id": "wLlu0BWwd081"
      },
      "source": [
        "변수 이름은 다음 규칙을 지켜서 만들어야 합니다.\n",
        "* 숫자로 시작 X (`0name`)\n",
        "* 공백 X (`my name`) --> 공백표현은 언더바`_`를 이용하세요.\n",
        "* 대소문자 구분(`Name`≠`name`)\n",
        "* 예약어 X (`def`)\n",
        "\n",
        "\n",
        "*예약어(Keywords)란?*\n",
        "\n",
        "- 파이썬 언어 자체가 이미 사용하는 단어입니다.\n",
        "\n",
        "- 예: `if`, `for`, `def`, `class`, `True`, `False`, `None`, `return`, ...\n",
        "\n",
        "- 변수 이름으로 예약어를 사용하면 오류가 발생하거나 의도하지 않은 결과가 생길 수 있기 때문에 주의해야합니다."
      ]
    },
    {
      "cell_type": "markdown",
      "metadata": {
        "id": "hl-amWMlfb-r"
      },
      "source": [
        "코드에서 자주 보이는 단어가 아니라면 예약어일 가능성이 낮지만, 이름을 확인하고 싶다면 다음 코드를 사용하세요."
      ]
    },
    {
      "cell_type": "code",
      "execution_count": null,
      "metadata": {
        "colab": {
          "base_uri": "https://localhost:8080/"
        },
        "id": "KlZ9f-XAfZjG",
        "outputId": "caa718d7-f4f7-40ac-e867-7f7352629cf1"
      },
      "outputs": [
        {
          "name": "stdout",
          "output_type": "stream",
          "text": [
            "True\n",
            "False\n"
          ]
        }
      ],
      "source": [
        "# 예약어 확인 방법\n",
        "import keyword\n",
        "print(keyword.iskeyword('for'))    # True\n",
        "print(keyword.iskeyword('my_name'))  # False"
      ]
    },
    {
      "cell_type": "markdown",
      "metadata": {
        "id": "5MtPLLvUcVzs"
      },
      "source": [
        "주의사항\n",
        "\n",
        "❗colab에서는 **세션이 유지되는 동안 변수도 유지**됩니다.\n",
        "\n",
        "❗세션을 종료되거나 다시 시작되면 변수가 사라지므로 변수 선언 코드를 다시 실행해야 합니다."
      ]
    },
    {
      "cell_type": "markdown",
      "metadata": {
        "id": "ndpQh582dLG0"
      },
      "source": [
        "다음에서 다양한 종류의 값을 자세히 알아보겠습니다."
      ]
    },
    {
      "cell_type": "markdown",
      "metadata": {
        "id": "L3Eo5jg2wDjG"
      },
      "source": [
        "## **자료형(Data type)**\n"
      ]
    },
    {
      "cell_type": "markdown",
      "metadata": {
        "id": "V9nEPHIDwJvz"
      },
      "source": [
        "파이썬은 자료형을 자동으로 지정해주지만, 데이터와 변수를 잘 다루려면 자료형을 알아야 합니다.\n",
        "\n",
        "* 자료형: 데이터(data)의 종류(type)\n",
        "* 파이썬에서 자주 쓰는 자료형: 정수(integer), 실수(float), 문자열(string), 리스트(list), 튜플(tuple), 딕셔너리(dictionary), 집합(set), 불(bool)\n",
        "* `type()` 함수로 자료형 확인"
      ]
    },
    {
      "cell_type": "markdown",
      "metadata": {
        "id": "S4eojo0nc2lW"
      },
      "source": [
        "위에서 선언한 변수들의 자료형을 살펴봅시다."
      ]
    },
    {
      "cell_type": "code",
      "execution_count": null,
      "metadata": {
        "colab": {
          "base_uri": "https://localhost:8080/"
        },
        "id": "p9i5m4U4cx_a",
        "outputId": "3e061ec1-5222-495d-9702-af5856de8a6c"
      },
      "outputs": [
        {
          "name": "stdout",
          "output_type": "stream",
          "text": [
            "<class 'int'> <class 'float'> <class 'str'> <class 'bool'>\n"
          ]
        }
      ],
      "source": [
        "print(type(a),type(b),type(c),type(flag))"
      ]
    },
    {
      "cell_type": "code",
      "execution_count": null,
      "metadata": {
        "colab": {
          "base_uri": "https://localhost:8080/"
        },
        "id": "MxqyHpQixOyW",
        "outputId": "8306f686-b7dd-4b0a-db62-b74e9e6a92b1"
      },
      "outputs": [
        {
          "data": {
            "text/plain": [
              "int"
            ]
          },
          "execution_count": 6,
          "metadata": {},
          "output_type": "execute_result"
        }
      ],
      "source": [
        "type(1)"
      ]
    },
    {
      "cell_type": "code",
      "execution_count": null,
      "metadata": {
        "colab": {
          "base_uri": "https://localhost:8080/"
        },
        "id": "E5upRRHrxWI3",
        "outputId": "8c3c3888-bfd3-48ae-b9bd-1c80e575b5c1"
      },
      "outputs": [
        {
          "data": {
            "text/plain": [
              "str"
            ]
          },
          "execution_count": 5,
          "metadata": {},
          "output_type": "execute_result"
        }
      ],
      "source": [
        "type('hello')"
      ]
    },
    {
      "cell_type": "code",
      "execution_count": null,
      "metadata": {
        "colab": {
          "base_uri": "https://localhost:8080/"
        },
        "id": "Ywr63xRHxY7v",
        "outputId": "260a96d0-731c-459a-8dfb-c24228d11e23"
      },
      "outputs": [
        {
          "data": {
            "text/plain": [
              "list"
            ]
          },
          "execution_count": 4,
          "metadata": {},
          "output_type": "execute_result"
        }
      ],
      "source": [
        "type(['a','b','c',1,2,3])"
      ]
    },
    {
      "cell_type": "markdown",
      "metadata": {
        "id": "A4J2ixsxw0G-"
      },
      "source": [
        "### 숫자형\n",
        "\n",
        "숫자를 나타내는 자료형에는 **정수(`int`)**, **실수(`float`)**, 복소수(`complex`)가 있습니다.\n",
        "\n",
        "\n"
      ]
    },
    {
      "cell_type": "markdown",
      "metadata": {
        "id": "V3_ZSfvQAgnS"
      },
      "source": [
        "**int**`int`\n",
        "\n",
        "`int`는 정수(integer)를 나타냅니다."
      ]
    },
    {
      "cell_type": "code",
      "execution_count": null,
      "metadata": {
        "colab": {
          "base_uri": "https://localhost:8080/"
        },
        "id": "3yEKeSsKAuFy",
        "outputId": "d12e3953-2d15-417f-feb5-46636318b40c"
      },
      "outputs": [
        {
          "data": {
            "text/plain": [
              "int"
            ]
          },
          "execution_count": 15,
          "metadata": {},
          "output_type": "execute_result"
        }
      ],
      "source": [
        "type(123)"
      ]
    },
    {
      "cell_type": "markdown",
      "metadata": {
        "id": "_TSCXx8BAwSZ"
      },
      "source": [
        "**float**`float`\n",
        "\n",
        "`float`은 floating point number의 약자로  부동소수점수를 말합니다. 이 노트북에서는 편의상 실수로 생각하겠습니다."
      ]
    },
    {
      "cell_type": "code",
      "execution_count": null,
      "metadata": {
        "colab": {
          "base_uri": "https://localhost:8080/"
        },
        "id": "bqw8jnlqA1a1",
        "outputId": "0ec620d3-44d1-420d-8e71-74a0ce003572"
      },
      "outputs": [
        {
          "data": {
            "text/plain": [
              "float"
            ]
          },
          "execution_count": 16,
          "metadata": {},
          "output_type": "execute_result"
        }
      ],
      "source": [
        "type(1.23)"
      ]
    },
    {
      "cell_type": "markdown",
      "metadata": {
        "id": "84aWUH2gA4_N"
      },
      "source": [
        "파이썬에서는 정수와 실수 연산이 자유롭습니다."
      ]
    },
    {
      "cell_type": "code",
      "execution_count": null,
      "metadata": {
        "colab": {
          "base_uri": "https://localhost:8080/"
        },
        "id": "AbNVd5YeBMrB",
        "outputId": "ba5aeca6-de58-44ad-cdd3-e0521e2c4dc2"
      },
      "outputs": [
        {
          "name": "stdout",
          "output_type": "stream",
          "text": [
            "1.2\n",
            "3.3333333333333335\n"
          ]
        }
      ],
      "source": [
        "print(1 + 0.2) # 정수 + 실수\n",
        "print(10 / 3) # 정수 / 정수 = 실수"
      ]
    },
    {
      "cell_type": "markdown",
      "metadata": {
        "id": "mqKha6pXBYZ9"
      },
      "source": [
        "`float`은 실수(real number) 전체가 아닌 실수를 근사한 표현이기 때문에 부동소수점 오차가 발생할 수 있습니다.\n",
        "\n"
      ]
    },
    {
      "cell_type": "code",
      "execution_count": null,
      "metadata": {
        "colab": {
          "base_uri": "https://localhost:8080/"
        },
        "id": "4DKZD-gY9pfZ",
        "outputId": "77d0a628-0d0b-43e9-dcfe-26f7f63e89d4"
      },
      "outputs": [
        {
          "name": "stdout",
          "output_type": "stream",
          "text": [
            "0.30000000000000004\n"
          ]
        }
      ],
      "source": [
        "print(0.1+0.2)"
      ]
    },
    {
      "cell_type": "markdown",
      "metadata": {
        "id": "r8CtKS8yCdbF"
      },
      "source": [
        "딥러닝 모델은 패턴 학습이고 반복 학습(epoch) 과정에서 오차가 보정되기 때문에 부동소수점 오차는 무시해도 될 정도로 미미합니다.\n",
        "\n",
        "또한, 딥러닝 모델은 수백만 개의 연산을 수행하기 때문에 속도와 메모리 최적화가 중요하고, `float`은 GPU/TPU에서 빠르게 처리되는 기본 자료형이며, python에서 정밀하게 계산하는 방법은 느리고 비효율적입니다.\n",
        "\n",
        "때문에 `float`을 사용합니다.\n",
        "\n",
        "- 부동소수점 오차 없이 계산하는 방법은 [여기](https://colab.research.google.com/drive/1fEn3XjOGNjh3njX-w_Vuq14mGNZ2dkBo)를 클릭하세요.\n",
        "\n",
        "  (금융 계산, 천문학 계산 등에서는 정밀한 계산 방법을 이용합니다.)"
      ]
    },
    {
      "cell_type": "markdown",
      "metadata": {
        "id": "WAdOWBRaVzTf"
      },
      "source": [
        "### 문자열(string)\n",
        "\n",
        "문자열은 문자로 구성된 데이터를 말합니다. 작은따옴표`'`나 큰따옴표`\"`로 표현됩니다."
      ]
    },
    {
      "cell_type": "code",
      "execution_count": null,
      "metadata": {
        "colab": {
          "base_uri": "https://localhost:8080/"
        },
        "id": "eWuMRx3SW8Hm",
        "outputId": "71a9419a-d1d2-4138-fb70-7feeeb7c2734"
      },
      "outputs": [
        {
          "data": {
            "text/plain": [
              "str"
            ]
          },
          "execution_count": 30,
          "metadata": {},
          "output_type": "execute_result"
        }
      ],
      "source": [
        "type('abc')"
      ]
    },
    {
      "cell_type": "markdown",
      "metadata": {
        "id": "1GhnjWyVXEUE"
      },
      "source": [
        "숫자도 `'1'`처럼 표현하면 문자열로 정의됩니다.\n"
      ]
    },
    {
      "cell_type": "code",
      "execution_count": null,
      "metadata": {
        "colab": {
          "base_uri": "https://localhost:8080/"
        },
        "id": "GikrBifqW1xF",
        "outputId": "537c2ed0-4b5d-48a1-ccbe-7ce03437fbd5"
      },
      "outputs": [
        {
          "data": {
            "text/plain": [
              "str"
            ]
          },
          "execution_count": 29,
          "metadata": {},
          "output_type": "execute_result"
        }
      ],
      "source": [
        "type('1')"
      ]
    },
    {
      "cell_type": "code",
      "execution_count": null,
      "metadata": {
        "colab": {
          "base_uri": "https://localhost:8080/"
        },
        "id": "nC64Nk1kW-XU",
        "outputId": "cdd0ee0f-471a-41f3-bc4f-6b18983abcd0"
      },
      "outputs": [
        {
          "name": "stdout",
          "output_type": "stream",
          "text": [
            "False\n"
          ]
        }
      ],
      "source": [
        "print(1=='1') # `==`은 변수가 동일한지 비교해주는 연산자"
      ]
    },
    {
      "cell_type": "markdown",
      "metadata": {
        "id": "BzFBwsjhg69V"
      },
      "source": [
        "### 리스트(list)\n",
        "\n",
        "리스트는 여러 값을 순서대로 저장하는 자료형입니다.\n",
        "\n",
        "대괄호 `[]`를 사용하여 생성하고, 숫자·문자 등 다양한 값을 함께 저장할 수 있습니다.\n",
        "\n",
        "**파이썬에서 가장 특징적인 자료형**입니다."
      ]
    },
    {
      "cell_type": "code",
      "execution_count": null,
      "metadata": {
        "colab": {
          "base_uri": "https://localhost:8080/"
        },
        "id": "BE_0nSNJhGub",
        "outputId": "9b3503e5-5435-4a1c-a9f1-36e776615994"
      },
      "outputs": [
        {
          "name": "stdout",
          "output_type": "stream",
          "text": [
            "['apple', 'banana', 'cherry']\n",
            "<class 'list'>\n"
          ]
        }
      ],
      "source": [
        "fruits = ['apple', 'banana', 'cherry']\n",
        "print(fruits)         # apple\n",
        "print(type(fruits))      # <class 'list'>"
      ]
    },
    {
      "cell_type": "markdown",
      "metadata": {
        "id": "m7pOs8peiCaT"
      },
      "source": [
        "`list()` 내장함수를 사용해 만들 수도 있습니다."
      ]
    },
    {
      "cell_type": "code",
      "execution_count": null,
      "metadata": {
        "colab": {
          "base_uri": "https://localhost:8080/"
        },
        "id": "iWFxeCVkiGDv",
        "outputId": "fd0dd163-8014-4888-8050-bfa4c2b86bc6"
      },
      "outputs": [
        {
          "name": "stdout",
          "output_type": "stream",
          "text": [
            "[1, 2, 3, 4, 5]\n",
            "<class 'list'>\n"
          ]
        }
      ],
      "source": [
        "arr = list((1,2,3,4,5))\n",
        "print(arr)\n",
        "print(type(arr))"
      ]
    },
    {
      "cell_type": "markdown",
      "metadata": {
        "id": "-MNUhCd3iQuh"
      },
      "source": [
        "문자열을 리스트로 선언하면 어떻게 될까요?"
      ]
    },
    {
      "cell_type": "code",
      "execution_count": null,
      "metadata": {
        "colab": {
          "base_uri": "https://localhost:8080/"
        },
        "id": "BX_nRNNWiQeZ",
        "outputId": "6d499395-5e78-4e3e-a0d9-37d6172a3afe"
      },
      "outputs": [
        {
          "name": "stdout",
          "output_type": "stream",
          "text": [
            "['h', 'e', 'l', 'l', 'o']\n"
          ]
        }
      ],
      "source": [
        "arr = list('hello')\n",
        "print(arr)"
      ]
    },
    {
      "cell_type": "markdown",
      "metadata": {
        "id": "ftK8Yk4zj2bB"
      },
      "source": [
        "파이썬은 다양한 자료형을 하나의 리스트 안에 저장할 수 있습니다."
      ]
    },
    {
      "cell_type": "code",
      "execution_count": null,
      "metadata": {
        "colab": {
          "base_uri": "https://localhost:8080/"
        },
        "id": "uVcqqsyQj47S",
        "outputId": "11d08645-d26a-462c-cba8-e08adb96e544"
      },
      "outputs": [
        {
          "name": "stdout",
          "output_type": "stream",
          "text": [
            "[1, 2, 3, 'apple', 'banana', 'cherry']\n"
          ]
        }
      ],
      "source": [
        "nums_and_fruits = [1, 2, 3, 'apple', 'banana', 'cherry']\n",
        "print(nums_and_fruits)"
      ]
    },
    {
      "cell_type": "markdown",
      "metadata": {
        "id": "oIIYWVa7hqN8"
      },
      "source": [
        "리스트 안에 리스트도 넣을 수 있습니다."
      ]
    },
    {
      "cell_type": "code",
      "execution_count": null,
      "metadata": {
        "colab": {
          "base_uri": "https://localhost:8080/"
        },
        "id": "W05j02CthwCM",
        "outputId": "bca8ec4c-a207-4e73-edc0-1ef8cbf026be"
      },
      "outputs": [
        {
          "name": "stdout",
          "output_type": "stream",
          "text": [
            "[[1, 2, 3], [4, 5, 6], [7, 8, 9]]\n"
          ]
        }
      ],
      "source": [
        "list_in_list = [[1, 2, 3], [4, 5, 6], [7, 8, 9]]\n",
        "print(list_in_list)"
      ]
    },
    {
      "cell_type": "markdown",
      "metadata": {
        "id": "1AAhkXKqiaSL"
      },
      "source": [
        "#### **리스트 인덱싱**\n",
        "\n",
        "파이썬의 리스트 각 원소의 인덱스 번호는 **0부터 시작**합니다.\n",
        "\n",
        "대괄호`[인덱스번호]`를 사용하여 리스트의 원소를 불러올 수 있습니다."
      ]
    },
    {
      "cell_type": "code",
      "execution_count": null,
      "metadata": {
        "colab": {
          "base_uri": "https://localhost:8080/"
        },
        "id": "XXPDfp_oiyd-",
        "outputId": "3e8f05db-1ed1-4edf-c984-36fab3ef1354"
      },
      "outputs": [
        {
          "name": "stdout",
          "output_type": "stream",
          "text": [
            "['apple', 'banana', 'cherry']\n",
            "banana\n"
          ]
        }
      ],
      "source": [
        "print(fruits)\n",
        "print(fruits[1]) # banana"
      ]
    },
    {
      "cell_type": "markdown",
      "metadata": {
        "id": "6HzjcU6ulIiT"
      },
      "source": [
        "인덱스를 음수로 표현하면 마지막부터 카운트됩니다."
      ]
    },
    {
      "cell_type": "code",
      "execution_count": null,
      "metadata": {
        "colab": {
          "base_uri": "https://localhost:8080/"
        },
        "id": "TqG6BJVvmWAg",
        "outputId": "5abf4e07-8976-410b-82b1-149c43484076"
      },
      "outputs": [
        {
          "name": "stdout",
          "output_type": "stream",
          "text": [
            "cherry\n",
            "5\n",
            "3\n"
          ]
        }
      ],
      "source": [
        "print(fruits[-1]) # cherry\n",
        "print(arr[-1])\n",
        "print(arr[-3])"
      ]
    },
    {
      "cell_type": "markdown",
      "metadata": {
        "id": "hqlkwPNrlfg_"
      },
      "source": [
        "리스트의 범위를 초과하는 인덱스는 오류가 발생합니다.\n",
        "\n",
        "리스트의 길이는 `len()` 함수로 확인할 수 있습니다.\n",
        "\n",
        "위에서 `[1,2,3,4,5]`를 저장한 `arr` 리스트를 활용하겠습니다."
      ]
    },
    {
      "cell_type": "code",
      "execution_count": null,
      "metadata": {
        "id": "z51fWV9Rl03j"
      },
      "outputs": [],
      "source": [
        "print(arr)"
      ]
    },
    {
      "cell_type": "code",
      "execution_count": null,
      "metadata": {
        "colab": {
          "base_uri": "https://localhost:8080/"
        },
        "id": "jqr74Wx5lm-w",
        "outputId": "22d0b9b8-8e41-4e64-ae03-83f94943f458"
      },
      "outputs": [
        {
          "data": {
            "text/plain": [
              "5"
            ]
          },
          "execution_count": 62,
          "metadata": {},
          "output_type": "execute_result"
        }
      ],
      "source": [
        "len(arr)"
      ]
    },
    {
      "cell_type": "code",
      "execution_count": null,
      "metadata": {
        "colab": {
          "base_uri": "https://localhost:8080/",
          "height": 141
        },
        "id": "Qbhcw93qmARZ",
        "outputId": "e50369fe-2cdb-4741-d2bf-595195e2fb1c"
      },
      "outputs": [
        {
          "ename": "IndexError",
          "evalue": "list index out of range",
          "output_type": "error",
          "traceback": [
            "\u001b[0;31m---------------------------------------------------------------------------\u001b[0m",
            "\u001b[0;31mIndexError\u001b[0m                                Traceback (most recent call last)",
            "\u001b[0;32m<ipython-input-65-c08f66e6e98d>\u001b[0m in \u001b[0;36m<cell line: 0>\u001b[0;34m()\u001b[0m\n\u001b[0;32m----> 1\u001b[0;31m \u001b[0mprint\u001b[0m\u001b[0;34m(\u001b[0m\u001b[0marr\u001b[0m\u001b[0;34m[\u001b[0m\u001b[0;36m6\u001b[0m\u001b[0;34m]\u001b[0m\u001b[0;34m)\u001b[0m\u001b[0;34m\u001b[0m\u001b[0;34m\u001b[0m\u001b[0m\n\u001b[0m",
            "\u001b[0;31mIndexError\u001b[0m: list index out of range"
          ]
        }
      ],
      "source": [
        "print(arr[6])"
      ]
    },
    {
      "cell_type": "code",
      "execution_count": null,
      "metadata": {
        "id": "U67C6aESmB-H"
      },
      "outputs": [],
      "source": [
        "print(arr[-6])"
      ]
    },
    {
      "cell_type": "markdown",
      "metadata": {
        "id": "3iXCI9NOjaRu"
      },
      "source": [
        "#### **리스트 슬라이싱**\n",
        "\n",
        "`:`를 사용하여 리스트의 일부분을 슬라이싱할 수 있습니다.\n",
        "```\n",
        "(시작 인덱스):(끝 인덱스)\n",
        "```\n",
        "(시작 인덱스)부터 (끝 인덱스-1)번째까지 슬라이싱됩니다.\n",
        "\n",
        "위에서 `[1,2,3,4,5]`를 저장한 `arr` 리스트를 이용해서 슬라이싱을 알아봅시다."
      ]
    },
    {
      "cell_type": "code",
      "execution_count": null,
      "metadata": {
        "colab": {
          "base_uri": "https://localhost:8080/"
        },
        "id": "mp08CmoOkD7d",
        "outputId": "cb5dd2dd-d074-4d93-9f78-ea80e5fccc90"
      },
      "outputs": [
        {
          "name": "stdout",
          "output_type": "stream",
          "text": [
            "[1, 2, 3, 4, 5]\n"
          ]
        }
      ],
      "source": [
        "print(arr)"
      ]
    },
    {
      "cell_type": "code",
      "execution_count": null,
      "metadata": {
        "colab": {
          "base_uri": "https://localhost:8080/"
        },
        "id": "6Gzd9m7wkS0s",
        "outputId": "2915b627-d595-48de-af8f-461c4193e811"
      },
      "outputs": [
        {
          "name": "stdout",
          "output_type": "stream",
          "text": [
            "[1, 2, 3]\n",
            "[1, 2, 3]\n",
            "[4, 5]\n",
            "[1, 2, 3, 4, 5]\n"
          ]
        }
      ],
      "source": [
        "print(arr[0:3])\n",
        "print(arr[:3])\n",
        "print(arr[3:])\n",
        "print(arr[:])"
      ]
    },
    {
      "cell_type": "code",
      "execution_count": null,
      "metadata": {
        "colab": {
          "base_uri": "https://localhost:8080/"
        },
        "id": "5ysaUhlWlNB3",
        "outputId": "b2c5d925-50e3-4a20-b415-2c748f3e113c"
      },
      "outputs": [
        {
          "name": "stdout",
          "output_type": "stream",
          "text": [
            "5\n",
            "[3, 4, 5]\n",
            "[1, 2, 3, 4]\n",
            "1\n"
          ]
        }
      ],
      "source": [
        "print(arr[-1])\n",
        "print(arr[-3:])\n",
        "print(arr[:-1])\n",
        "print(arr[-5])"
      ]
    },
    {
      "cell_type": "markdown",
      "metadata": {
        "id": "D1wzqCWGhWMF"
      },
      "source": [
        "### 튜플(tuple)\n",
        "\n",
        "튜플도 리스트처럼 여러 값을 순서대로 저장하지만, 한 번 정하면 바꿀 수 없습니다.\n",
        "\n",
        "소괄호 `()`를 사용하며, 값을 고정하고 싶을 때 사용합니다."
      ]
    },
    {
      "cell_type": "code",
      "execution_count": null,
      "metadata": {
        "colab": {
          "base_uri": "https://localhost:8080/"
        },
        "id": "-psxFNSChgnW",
        "outputId": "a02ae91b-4aee-4897-826b-50f2ecb1b704"
      },
      "outputs": [
        {
          "name": "stdout",
          "output_type": "stream",
          "text": [
            "('red', 'green', 'blue')\n",
            "<class 'tuple'>\n"
          ]
        }
      ],
      "source": [
        "colors = ('red', 'green', 'blue')\n",
        "print(colors)         # green\n",
        "print(type(colors))      # <class 'tuple'>"
      ]
    },
    {
      "cell_type": "markdown",
      "metadata": {
        "id": "sbQ7ug7kXzZS"
      },
      "source": [
        "## **연산자**\n",
        "\n",
        "파이썬에서 알아두면 좋은 연산자는 다음과 같습니다.\n",
        "\n",
        "\n",
        "| 분류         | 대표 연산자                              | 설명                 |\n",
        "| ---------- | ----------------------------------- | ------------------ |\n",
        "| 산술 연산자 | `+`, `-`, `*`, `/`, `//`, `%`, `**` | 숫자 계산에 사용          |\n",
        "| 비교 연산자 | `==`, `!=`, `>`, `<`, `>=`, `<=`    | 참/거짓 비교            |\n",
        "| 논리 연산자 | `and`, `or`, `not`                  | 여러 조건을 조합          |\n",
        "| 대입 연산자 | `=`, `+=`, `-=`, `*=`, `/=` 등       | 변수에 값 할당 및 누적      |\n",
        "| 멤버 연산자 | `in`, `not in`                      | 리스트나 문자열에 포함 여부    |\n",
        "| 식별 연산자 | `is`, `is not`                      | 같은 객체인지 확인 (주소 비교) |\n"
      ]
    },
    {
      "cell_type": "markdown",
      "metadata": {
        "id": "9vMqnlcVvbOq"
      },
      "source": [
        "## **print** `print`\n",
        "\n",
        "```\n",
        "print(출력값)\n",
        "```\n",
        "문자열 혹은 변수의 값 등을 출력합니다"
      ]
    },
    {
      "cell_type": "markdown",
      "metadata": {
        "id": "wcqhvx2kv6Z3"
      },
      "source": [
        "* 문자열 출력"
      ]
    },
    {
      "cell_type": "code",
      "execution_count": null,
      "metadata": {
        "colab": {
          "base_uri": "https://localhost:8080/"
        },
        "id": "rgkOcF7-muC9",
        "outputId": "1a223466-8758-4491-ccca-cb5b4e67e956"
      },
      "outputs": [
        {
          "name": "stdout",
          "output_type": "stream",
          "text": [
            "Hello, world!\n"
          ]
        }
      ],
      "source": [
        "print(\"Hello, world!\")"
      ]
    }
  ],
  "metadata": {
    "colab": {
      "collapsed_sections": [
        "kbHHzZQR1O50"
      ],
      "provenance": [],
      "toc_visible": true
    },
    "kernelspec": {
      "display_name": "Python 3",
      "name": "python3"
    },
    "language_info": {
      "name": "python"
    }
  },
  "nbformat": 4,
  "nbformat_minor": 0
}
