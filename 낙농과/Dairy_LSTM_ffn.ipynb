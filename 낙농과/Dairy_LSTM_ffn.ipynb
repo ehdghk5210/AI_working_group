{
  "nbformat": 4,
  "nbformat_minor": 0,
  "metadata": {
    "colab": {
      "provenance": [],
      "gpuType": "T4"
    },
    "kernelspec": {
      "name": "python3",
      "display_name": "Python 3"
    },
    "language_info": {
      "name": "python"
    },
    "accelerator": "GPU"
  },
  "cells": [
    {
      "cell_type": "markdown",
      "source": [
        "# 파일 업로드"
      ],
      "metadata": {
        "id": "XFUDoQrgXMLI"
      }
    },
    {
      "cell_type": "code",
      "source": [
        "from google.colab import files\n",
        "\n",
        "uploaded = files.upload()\n",
        "\n",
        "for fn in uploaded.keys():\n",
        "  print('User uploaded file \"{name}\" with length {length} bytes'.format(\n",
        "      name=fn, length=len(uploaded[fn])))"
      ],
      "metadata": {
        "id": "iDUrOnx5HQG_"
      },
      "execution_count": null,
      "outputs": []
    },
    {
      "cell_type": "code",
      "source": [
        "!unzip -q cow_csv.zip # 압축파일 이름 확인"
      ],
      "metadata": {
        "id": "qXE4kOPpmGl8"
      },
      "execution_count": null,
      "outputs": []
    },
    {
      "cell_type": "code",
      "source": [
        "!ls"
      ],
      "metadata": {
        "id": "BTY7cCJTnh1Z"
      },
      "execution_count": null,
      "outputs": []
    },
    {
      "cell_type": "code",
      "source": [
        "!ls cow"
      ],
      "metadata": {
        "id": "sgrVhkAYnh3Q"
      },
      "execution_count": null,
      "outputs": []
    },
    {
      "cell_type": "code",
      "source": [
        "# -*- coding: utf-8 -*-\n",
        "import pandas as pd, numpy as np, glob, torch, torch.nn as nn\n",
        "from torch.utils.data import Dataset, DataLoader\n",
        "from sklearn.preprocessing import StandardScaler\n",
        "from sklearn.metrics import classification_report, precision_recall_curve, auc, confusion_matrix\n",
        "\n",
        "DEVICE = 'cuda' if torch.cuda.is_available() else 'cpu'\n",
        "SEQ_LEN = 24\n",
        "BATCH   = 128\n",
        "EPOCHS  = 30\n",
        "LR      = 1e-3\n",
        "POS_THRESH = 25.0  # 라벨 기준 (검증에서 임계값 재튜닝)\n",
        "\n",
        "# 1) 데이터 로드 (이미 cow_data.csv로 정제돼있다면 그걸 바로 사용)\n",
        "# data = pd.read_csv('cow_data.csv')\n",
        "# 또는 원시 csv 폴더가 있다면 병합\n",
        "csv_list = glob.glob('./cow/*.csv')\n",
        "dfs = []\n",
        "for p in csv_list:\n",
        "    df = pd.read_csv(p, low_memory=False)\n",
        "    if '시간' in df.columns: df.rename(columns={'시간':'시간(시:분)'}, inplace=True)\n",
        "    cols = ['개체 번호','날짜','시간(시:분)','활동량','전체 반추 시간(분)','발정 확률']\n",
        "    df = df[cols].dropna()\n",
        "    df['datetime'] = pd.to_datetime(df['날짜'] + ' ' + df['시간(시:분)'])\n",
        "    df = df[['개체 번호','datetime','활동량','전체 반추 시간(분)','발정 확률']]\n",
        "    dfs.append(df)\n",
        "data = pd.concat(dfs, ignore_index=True)\n",
        "data.sort_values(['개체 번호','datetime'], inplace=True)\n",
        "\n",
        "# 2) 시퀀스 생성 (개체별)\n",
        "FEATURES = ['활동량','전체 반추 시간(분)']\n",
        "def make_sequences_by_cow(df, seq_len=24):\n",
        "    Xs, ys, cows = [], [], []\n",
        "    for cid, g in df.groupby('개체 번호'):\n",
        "        g = g.sort_values('datetime')\n",
        "        vals = g[FEATURES + ['발정 확률']].to_numpy()\n",
        "        if len(vals) <= seq_len: continue\n",
        "        # 개체별 스케일링: 입력(2개 feature)만 표준화. 타깃은 원스케일 유지.\n",
        "        scaler = StandardScaler()\n",
        "        feats = scaler.fit_transform(vals[:, :2])\n",
        "        prob  = vals[:, 2]\n",
        "        for i in range(len(vals) - seq_len):\n",
        "            x = feats[i:i+seq_len, :]             # (seq, 2)\n",
        "            y_next_prob = prob[i+seq_len]         # 다음 시점 확률\n",
        "            y = 1.0 if y_next_prob >= POS_THRESH else 0.0\n",
        "            Xs.append(x); ys.append(y); cows.append(cid)\n",
        "    return np.array(Xs, dtype=np.float32), np.array(ys, dtype=np.float32), np.array(cows)\n",
        "\n",
        "X, y, cows = make_sequences_by_cow(data, SEQ_LEN)\n",
        "\n",
        "# 3) 개체 단위 Train/Val split (누수 방지)\n",
        "unique_ids = np.random.permutation(np.unique(cows))\n",
        "n_train = int(len(unique_ids)*0.8)\n",
        "train_ids, val_ids = set(unique_ids[:n_train]), set(unique_ids[n_train:])\n",
        "\n",
        "train_mask = np.isin(cows, list(train_ids))\n",
        "val_mask   = np.isin(cows, list(val_ids))\n",
        "\n",
        "X_train, y_train = X[train_mask], y[train_mask]\n",
        "X_val,   y_val   = X[val_mask],   y[val_mask]\n",
        "\n",
        "class CowDS(Dataset):\n",
        "    def __init__(self, X, y):\n",
        "        self.X = torch.from_numpy(X)        # (N, seq, 2)\n",
        "        self.y = torch.from_numpy(y).unsqueeze(1)  # (N, 1)\n",
        "    def __len__(self): return len(self.X)\n",
        "    def __getitem__(self, i): return self.X[i], self.y[i]\n",
        "\n",
        "train_loader = DataLoader(CowDS(X_train, y_train), batch_size=BATCH, shuffle=True, drop_last=True)\n",
        "val_loader   = DataLoader(CowDS(X_val,   y_val),   batch_size=BATCH, shuffle=False)\n",
        "\n",
        "# 4) LSTM 분류기\n",
        "class LSTMClassifier(nn.Module):\n",
        "    def __init__(self, input_size=2, hidden=64, layers=2, dropout=0.2):\n",
        "        super().__init__()\n",
        "        self.lstm = nn.LSTM(input_size, hidden, layers, batch_first=True, dropout=dropout)\n",
        "        self.fc   = nn.Linear(hidden, 1)\n",
        "    def forward(self, x):\n",
        "        out, _ = self.lstm(x)          # (B, T, H)\n",
        "        last = out[:, -1, :]           # 마지막 타임스텝\n",
        "        logit = self.fc(last)          # (B, 1)\n",
        "        return logit                   # 로짓 출력\n",
        "\n",
        "model = LSTMClassifier().to(DEVICE)\n",
        "criterion = nn.BCEWithLogitsLoss()     # 이진 분류\n",
        "optimizer = torch.optim.Adam(model.parameters(), lr=LR)\n",
        "\n",
        "def run_epoch(loader, train=True):\n",
        "    model.train() if train else model.eval()\n",
        "    total = 0.0\n",
        "    with torch.set_grad_enabled(train):\n",
        "        for xb, yb in loader:\n",
        "            xb, yb = xb.to(DEVICE), yb.to(DEVICE)\n",
        "            if train: optimizer.zero_grad()\n",
        "            logit = model(xb)\n",
        "            loss = criterion(logit, yb)\n",
        "            if train:\n",
        "                loss.backward()\n",
        "                optimizer.step()\n",
        "            total += loss.item()\n",
        "    return total / len(loader)\n",
        "\n",
        "train_hist, val_hist = [], []\n",
        "\n",
        "for ep in range(1, EPOCHS+1):\n",
        "    tr = run_epoch(train_loader, True)\n",
        "    va = run_epoch(val_loader, False)\n",
        "    train_hist.append(tr); val_hist.append(va)\n",
        "    print(f\"Epoch {ep:02d} | train={tr:.4f}  val={va:.4f}\")\n",
        "\n",
        "model.eval()\n",
        "import numpy as np\n",
        "from sklearn.metrics import classification_report, precision_recall_curve, auc, confusion_matrix, roc_curve, roc_auc_score\n",
        "\n",
        "all_logits, all_y = [], []\n",
        "with torch.no_grad():\n",
        "    for xb, yb in val_loader:\n",
        "        lg = model(xb.to(DEVICE)).cpu().numpy().ravel()\n",
        "        all_logits.append(lg); all_y.append(yb.numpy().ravel())\n",
        "logits = np.concatenate(all_logits)\n",
        "y_true = np.concatenate(all_y)\n",
        "y_prob = 1/(1+np.exp(-logits))  # 시그모이드\n",
        "\n",
        "# PR 곡선 & 최적 임계값(F1 기준)\n",
        "prec, rec, ths = precision_recall_curve(y_true, y_prob)\n",
        "f1s = 2*prec*rec/(prec+rec+1e-9)\n",
        "best_idx = int(np.nanargmax(f1s))\n",
        "best_thr = ths[best_idx] if best_idx < len(ths) else 0.5\n",
        "pr_auc = auc(rec, prec)\n",
        "\n",
        "# ROC (참고용)\n",
        "fpr, tpr, roct = roc_curve(y_true, y_prob)\n",
        "roc_auc = roc_auc_score(y_true, y_prob)\n",
        "\n",
        "y_pred = (y_prob >= best_thr).astype(int)\n",
        "cm = confusion_matrix(y_true, y_pred)\n",
        "report = classification_report(y_true, y_pred, target_names=['No Estrus','Estrus'], digits=4)\n",
        "\n",
        "print(f\"[VAL] PR-AUC = {pr_auc:.4f} | ROC-AUC = {roc_auc:.4f}\")\n",
        "print(f\"[VAL] Best F1 = {f1s[best_idx]:.4f} @ thr = {best_thr:.3f}\")\n",
        "print(\"Confusion matrix:\\n\", cm)\n",
        "print(report)\n",
        "\n",
        "# ====== (C) 시각화 (matplotlib만 사용; 각 그림은 별도 figure) ======\n",
        "import matplotlib.pyplot as plt\n",
        "\n",
        "# (1) 학습 곡선\n",
        "plt.figure()\n",
        "plt.plot(range(1, len(train_hist)+1), train_hist, label=\"Train loss\")\n",
        "plt.plot(range(1, len(val_hist)+1),   val_hist,   label=\"Val loss\")\n",
        "plt.xlabel(\"Epoch\"); plt.ylabel(\"BCEWithLogits Loss\"); plt.title(\"Training curves\")\n",
        "plt.legend(); plt.grid(True, alpha=0.3)\n",
        "plt.show()\n",
        "\n",
        "# (2) Precision-Recall 곡선 + 최고 F1 지점 표시\n",
        "plt.figure()\n",
        "plt.plot(rec, prec, label=f\"PR curve (AUC={pr_auc:.3f})\")\n",
        "# 최고 F1 지점 annotation\n",
        "plt.scatter(rec[best_idx], prec[best_idx])\n",
        "plt.text(rec[best_idx], prec[best_idx], f\"  F1* @thr={best_thr:.2f}\", va='bottom')\n",
        "plt.xlabel(\"Recall\"); plt.ylabel(\"Precision\"); plt.title(\"Precision-Recall\")\n",
        "plt.grid(True, alpha=0.3); plt.legend()\n",
        "plt.show()\n",
        "\n",
        "# (3) ROC 곡선\n",
        "plt.figure()\n",
        "plt.plot([0,1],[0,1], linestyle=\"--\")\n",
        "plt.plot(fpr, tpr, label=f\"ROC (AUC={roc_auc:.3f})\")\n",
        "plt.xlabel(\"FPR\"); plt.ylabel(\"TPR\"); plt.title(\"ROC Curve\")\n",
        "plt.grid(True, alpha=0.3); plt.legend()\n",
        "plt.show()\n",
        "\n",
        "# (4) 혼동행렬(문자열 주석 포함)\n",
        "def plot_confusion_matrix(cm, class_names=('No Estrus','Estrus')):\n",
        "    plt.figure()\n",
        "    ax = plt.gca()\n",
        "    im = ax.imshow(cm, interpolation='nearest')\n",
        "    plt.title(\"Confusion Matrix\")\n",
        "    plt.xlabel(\"Predicted\"); plt.ylabel(\"True\")\n",
        "    ax.set_xticks([0,1]); ax.set_yticks([0,1])\n",
        "    ax.set_xticklabels(class_names); ax.set_yticklabels(class_names)\n",
        "\n",
        "    # 셀 값 주석\n",
        "    for i in range(cm.shape[0]):\n",
        "        for j in range(cm.shape[1]):\n",
        "            ax.text(j, i, str(cm[i, j]), ha=\"center\", va=\"center\")\n",
        "    plt.colorbar(im)\n",
        "    plt.show()\n",
        "\n",
        "plot_confusion_matrix(cm)\n",
        "\n",
        "# (5) 임계값-정밀도/재현율 곡선 (튜닝 참고)\n",
        "# precision_recall_curve의 thresholds 길이는 n-1이므로 정렬 주의\n",
        "plt.figure()\n",
        "x = ths if len(ths)>0 else np.array([0.5])\n",
        "prec_for_th = prec[:-1] if len(prec)==len(rec) and len(ths)==len(prec)-1 else prec[1:]\n",
        "rec_for_th  = rec[:-1]  if len(rec)==len(prec) and len(ths)==len(rec)-1  else rec[1:]\n",
        "\n",
        "plt.plot(x, prec_for_th, label=\"Precision\")\n",
        "plt.plot(x, rec_for_th,  label=\"Recall\")\n",
        "plt.axvline(best_thr, linestyle=\"--\")\n",
        "plt.xlabel(\"Threshold\"); plt.ylabel(\"Score\"); plt.title(\"Precision/Recall vs Threshold\")\n",
        "plt.grid(True, alpha=0.3); plt.legend()\n",
        "plt.show()\n"
      ],
      "metadata": {
        "colab": {
          "base_uri": "https://localhost:8080/",
          "height": 1000
        },
        "id": "nbCXX2HVD7rV",
        "outputId": "f7162f53-b95f-4b65-c42a-52ad29fd4d23"
      },
      "execution_count": 39,
      "outputs": [
        {
          "output_type": "stream",
          "name": "stdout",
          "text": [
            "Epoch 01 | train=0.0323  val=0.0232\n",
            "Epoch 02 | train=0.0235  val=0.0218\n",
            "Epoch 03 | train=0.0225  val=0.0200\n",
            "Epoch 04 | train=0.0212  val=0.0209\n",
            "Epoch 05 | train=0.0208  val=0.0197\n",
            "Epoch 06 | train=0.0203  val=0.0202\n",
            "Epoch 07 | train=0.0199  val=0.0193\n",
            "Epoch 08 | train=0.0194  val=0.0202\n",
            "Epoch 09 | train=0.0190  val=0.0209\n",
            "Epoch 10 | train=0.0187  val=0.0195\n",
            "Epoch 11 | train=0.0183  val=0.0199\n",
            "Epoch 12 | train=0.0181  val=0.0194\n",
            "Epoch 13 | train=0.0177  val=0.0207\n",
            "Epoch 14 | train=0.0173  val=0.0203\n",
            "Epoch 15 | train=0.0171  val=0.0199\n",
            "Epoch 16 | train=0.0168  val=0.0196\n",
            "Epoch 17 | train=0.0165  val=0.0200\n",
            "Epoch 18 | train=0.0160  val=0.0210\n",
            "Epoch 19 | train=0.0157  val=0.0212\n",
            "Epoch 20 | train=0.0154  val=0.0210\n",
            "Epoch 21 | train=0.0153  val=0.0216\n",
            "Epoch 22 | train=0.0147  val=0.0212\n",
            "Epoch 23 | train=0.0144  val=0.0228\n",
            "Epoch 24 | train=0.0143  val=0.0211\n",
            "Epoch 25 | train=0.0138  val=0.0235\n",
            "Epoch 26 | train=0.0134  val=0.0232\n",
            "Epoch 27 | train=0.0134  val=0.0234\n",
            "Epoch 28 | train=0.0129  val=0.0225\n",
            "Epoch 29 | train=0.0127  val=0.0243\n",
            "Epoch 30 | train=0.0124  val=0.0231\n",
            "[VAL] PR-AUC = 0.6579 | ROC-AUC = 0.9742\n",
            "[VAL] Best F1 = 0.6381 @ thr = 0.470\n",
            "Confusion matrix:\n",
            " [[108983    282]\n",
            " [   419    618]]\n",
            "              precision    recall  f1-score   support\n",
            "\n",
            "   No Estrus     0.9962    0.9974    0.9968    109265\n",
            "      Estrus     0.6867    0.5959    0.6381      1037\n",
            "\n",
            "    accuracy                         0.9936    110302\n",
            "   macro avg     0.8414    0.7967    0.8174    110302\n",
            "weighted avg     0.9933    0.9936    0.9934    110302\n",
            "\n"
          ]
        },
        {
          "output_type": "display_data",
          "data": {
            "text/plain": [
              "<Figure size 640x480 with 1 Axes>"
            ],
            "image/png": "[encoded data removed]"
          },
          "metadata": {}
        },
        {
          "output_type": "display_data",
          "data": {
            "text/plain": [
              "<Figure size 640x480 with 1 Axes>"
            ],
            "image/png": "[encoded data removed]"
          },
          "metadata": {}
        },
        {
          "output_type": "display_data",
          "data": {
            "text/plain": [
              "<Figure size 640x480 with 1 Axes>"
            ],
            "image/png": "[encoded data removed]"
          },
          "metadata": {}
        },
        {
          "output_type": "display_data",
          "data": {
            "text/plain": [
              "<Figure size 640x480 with 2 Axes>"
            ],
            "image/png": "[encoded data removed]"
          },
          "metadata": {}
        },
        {
          "output_type": "display_data",
          "data": {
            "text/plain": [
              "<Figure size 640x480 with 1 Axes>"
            ],
            "image/png": "[encoded data removed]"
          },
          "metadata": {}
        },
        {
          "output_type": "stream",
          "name": "stderr",
          "text": [
            "/tmp/ipython-input-3685248889.py:223: MatplotlibDeprecationWarning: The 'labels' parameter of boxplot() has been renamed 'tick_labels' since Matplotlib 3.9; support for the old name will be dropped in 3.11.\n",
            "  plt.boxplot(recalls, vert=True, labels=['Recall'])\n"
          ]
        },
        {
          "output_type": "display_data",
          "data": {
            "text/plain": [
              "<Figure size 640x480 with 1 Axes>"
            ],
            "image/png": "[encoded data removed]"
          },
          "metadata": {}
        }
      ]
    },
    {
      "cell_type": "code",
      "source": [
        "여기부터"
      ],
      "metadata": {
        "id": "W4_QbD-OHCP9"
      },
      "execution_count": null,
      "outputs": []
    },
    {
      "cell_type": "code",
      "source": [
        "from google.colab import files\n",
        "\n",
        "uploaded = files.upload()\n",
        "\n",
        "for fn in uploaded.keys():\n",
        "  print('User uploaded file \"{name}\" with length {length} bytes'.format(\n",
        "      name=fn, length=len(uploaded[fn])))"
      ],
      "metadata": {
        "colab": {
          "base_uri": "https://localhost:8080/",
          "height": 96
        },
        "id": "gKu7q7hyVUQu",
        "outputId": "2eb6fed0-b3c3-434c-d3f0-3cc97af4bac2"
      },
      "execution_count": 2,
      "outputs": [
        {
          "output_type": "display_data",
          "data": {
            "text/plain": [
              "<IPython.core.display.HTML object>"
            ],
            "text/html": [
              "\n",
              "     <input type=\"file\" id=\"files-990ea22d-7c21-4197-bdf9-9f9df7900cf0\" name=\"files[]\" multiple disabled\n",
              "        style=\"border:none\" />\n",
              "     <output id=\"result-990ea22d-7c21-4197-bdf9-9f9df7900cf0\">\n",
              "      Upload widget is only available when the cell has been executed in the\n",
              "      current browser session. Please rerun this cell to enable.\n",
              "      </output>\n",
              "      <script>// Copyright 2017 Google LLC\n",
              "//\n",
              "// Licensed under the Apache License, Version 2.0 (the \"License\");\n",
              "// you may not use this file except in compliance with the License.\n",
              "// You may obtain a copy of the License at\n",
              "//\n",
              "//      http://www.apache.org/licenses/LICENSE-2.0\n",
              "//\n",
              "// Unless required by applicable law or agreed to in writing, software\n",
              "// distributed under the License is distributed on an \"AS IS\" BASIS,\n",
              "// WITHOUT WARRANTIES OR CONDITIONS OF ANY KIND, either express or implied.\n",
              "// See the License for the specific language governing permissions and\n",
              "// limitations under the License.\n",
              "\n",
              "/**\n",
              " * @fileoverview Helpers for google.colab Python module.\n",
              " */\n",
              "(function(scope) {\n",
              "function span(text, styleAttributes = {}) {\n",
              "  const element = document.createElement('span');\n",
              "  element.textContent = text;\n",
              "  for (const key of Object.keys(styleAttributes)) {\n",
              "    element.style[key] = styleAttributes[key];\n",
              "  }\n",
              "  return element;\n",
              "}\n",
              "\n",
              "// Max number of bytes which will be uploaded at a time.\n",
              "const MAX_PAYLOAD_SIZE = 100 * 1024;\n",
              "\n",
              "function _uploadFiles(inputId, outputId) {\n",
              "  const steps = uploadFilesStep(inputId, outputId);\n",
              "  const outputElement = document.getElementById(outputId);\n",
              "  // Cache steps on the outputElement to make it available for the next call\n",
              "  // to uploadFilesContinue from Python.\n",
              "  outputElement.steps = steps;\n",
              "\n",
              "  return _uploadFilesContinue(outputId);\n",
              "}\n",
              "\n",
              "// This is roughly an async generator (not supported in the browser yet),\n",
              "// where there are multiple asynchronous steps and the Python side is going\n",
              "// to poll for completion of each step.\n",
              "// This uses a Promise to block the python side on completion of each step,\n",
              "// then passes the result of the previous step as the input to the next step.\n",
              "function _uploadFilesContinue(outputId) {\n",
              "  const outputElement = document.getElementById(outputId);\n",
              "  const steps = outputElement.steps;\n",
              "\n",
              "  const next = steps.next(outputElement.lastPromiseValue);\n",
              "  return Promise.resolve(next.value.promise).then((value) => {\n",
              "    // Cache the last promise value to make it available to the next\n",
              "    // step of the generator.\n",
              "    outputElement.lastPromiseValue = value;\n",
              "    return next.value.response;\n",
              "  });\n",
              "}\n",
              "\n",
              "/**\n",
              " * Generator function which is called between each async step of the upload\n",
              " * process.\n",
              " * @param {string} inputId Element ID of the input file picker element.\n",
              " * @param {string} outputId Element ID of the output display.\n",
              " * @return {!Iterable<!Object>} Iterable of next steps.\n",
              " */\n",
              "function* uploadFilesStep(inputId, outputId) {\n",
              "  const inputElement = document.getElementById(inputId);\n",
              "  inputElement.disabled = false;\n",
              "\n",
              "  const outputElement = document.getElementById(outputId);\n",
              "  outputElement.innerHTML = '';\n",
              "\n",
              "  const pickedPromise = new Promise((resolve) => {\n",
              "    inputElement.addEventListener('change', (e) => {\n",
              "      resolve(e.target.files);\n",
              "    });\n",
              "  });\n",
              "\n",
              "  const cancel = document.createElement('button');\n",
              "  inputElement.parentElement.appendChild(cancel);\n",
              "  cancel.textContent = 'Cancel upload';\n",
              "  const cancelPromise = new Promise((resolve) => {\n",
              "    cancel.onclick = () => {\n",
              "      resolve(null);\n",
              "    };\n",
              "  });\n",
              "\n",
              "  // Wait for the user to pick the files.\n",
              "  const files = yield {\n",
              "    promise: Promise.race([pickedPromise, cancelPromise]),\n",
              "    response: {\n",
              "      action: 'starting',\n",
              "    }\n",
              "  };\n",
              "\n",
              "  cancel.remove();\n",
              "\n",
              "  // Disable the input element since further picks are not allowed.\n",
              "  inputElement.disabled = true;\n",
              "\n",
              "  if (!files) {\n",
              "    return {\n",
              "      response: {\n",
              "        action: 'complete',\n",
              "      }\n",
              "    };\n",
              "  }\n",
              "\n",
              "  for (const file of files) {\n",
              "    const li = document.createElement('li');\n",
              "    li.append(span(file.name, {fontWeight: 'bold'}));\n",
              "    li.append(span(\n",
              "        `(${file.type || 'n/a'}) - ${file.size} bytes, ` +\n",
              "        `last modified: ${\n",
              "            file.lastModifiedDate ? file.lastModifiedDate.toLocaleDateString() :\n",
              "                                    'n/a'} - `));\n",
              "    const percent = span('0% done');\n",
              "    li.appendChild(percent);\n",
              "\n",
              "    outputElement.appendChild(li);\n",
              "\n",
              "    const fileDataPromise = new Promise((resolve) => {\n",
              "      const reader = new FileReader();\n",
              "      reader.onload = (e) => {\n",
              "        resolve(e.target.result);\n",
              "      };\n",
              "      reader.readAsArrayBuffer(file);\n",
              "    });\n",
              "    // Wait for the data to be ready.\n",
              "    let fileData = yield {\n",
              "      promise: fileDataPromise,\n",
              "      response: {\n",
              "        action: 'continue',\n",
              "      }\n",
              "    };\n",
              "\n",
              "    // Use a chunked sending to avoid message size limits. See b/62115660.\n",
              "    let position = 0;\n",
              "    do {\n",
              "      const length = Math.min(fileData.byteLength - position, MAX_PAYLOAD_SIZE);\n",
              "      const chunk = new Uint8Array(fileData, position, length);\n",
              "      position += length;\n",
              "\n",
              "      const base64 = btoa(String.fromCharCode.apply(null, chunk));\n",
              "      yield {\n",
              "        response: {\n",
              "          action: 'append',\n",
              "          file: file.name,\n",
              "          data: base64,\n",
              "        },\n",
              "      };\n",
              "\n",
              "      let percentDone = fileData.byteLength === 0 ?\n",
              "          100 :\n",
              "          Math.round((position / fileData.byteLength) * 100);\n",
              "      percent.textContent = `${percentDone}% done`;\n",
              "\n",
              "    } while (position < fileData.byteLength);\n",
              "  }\n",
              "\n",
              "  // All done.\n",
              "  yield {\n",
              "    response: {\n",
              "      action: 'complete',\n",
              "    }\n",
              "  };\n",
              "}\n",
              "\n",
              "scope.google = scope.google || {};\n",
              "scope.google.colab = scope.google.colab || {};\n",
              "scope.google.colab._files = {\n",
              "  _uploadFiles,\n",
              "  _uploadFilesContinue,\n",
              "};\n",
              "})(self);\n",
              "</script> "
            ]
          },
          "metadata": {}
        },
        {
          "output_type": "stream",
          "name": "stdout",
          "text": [
            "Saving cow_csv.zip to cow_csv.zip\n",
            "User uploaded file \"cow_csv.zip\" with length 8685509 bytes\n"
          ]
        }
      ]
    },
    {
      "cell_type": "markdown",
      "source": [
        "업로드한 파일의 압축을 해제합니다."
      ],
      "metadata": {
        "id": "oSkllPGZXkSs"
      }
    },
    {
      "cell_type": "code",
      "source": [
        "!unzip -q cow_csv.zip # 압축파일 이름 확인"
      ],
      "metadata": {
        "id": "k80jWPDhYWqT"
      },
      "execution_count": 3,
      "outputs": []
    },
    {
      "cell_type": "code",
      "source": [
        "!ls"
      ],
      "metadata": {
        "colab": {
          "base_uri": "https://localhost:8080/"
        },
        "id": "DfxTCgishi1L",
        "outputId": "d4d33110-0797-47bb-e305-4e7cd607ad58"
      },
      "execution_count": 4,
      "outputs": [
        {
          "output_type": "stream",
          "name": "stdout",
          "text": [
            "cow  cow_csv.zip  sample_data\n"
          ]
        }
      ]
    },
    {
      "cell_type": "code",
      "source": [
        "!ls cow"
      ],
      "metadata": {
        "colab": {
          "base_uri": "https://localhost:8080/"
        },
        "id": "1m5S5AI4hqmF",
        "outputId": "2e21628d-157f-4da1-d03f-639339dc9249"
      },
      "execution_count": 5,
      "outputs": [
        {
          "output_type": "stream",
          "name": "stdout",
          "text": [
            "'월별 lely 활동량 (24.01).csv'\t'월별 lely 활동량 (24.07).csv'\n",
            "'월별 lely 활동량 (24.02).csv'\t'월별 lely 활동량 (24.08).csv'\n",
            "'월별 lely 활동량 (24.03).csv'\t'월별 lely 활동량 (24.09).csv'\n",
            "'월별 lely 활동량 (24.04).csv'\t'월별 lely 활동량 (24.10).csv'\n",
            "'월별 lely 활동량 (24.05).csv'\t'월별 lely 활동량 (24.11).csv'\n",
            "'월별 lely 활동량 (24.06).csv'\t'월별 lely 활동량 (24.12)~12.22.csv'\n"
          ]
        }
      ]
    },
    {
      "cell_type": "markdown",
      "source": [
        "# 데이터셋"
      ],
      "metadata": {
        "id": "l6XHk0wmkIFi"
      }
    },
    {
      "cell_type": "markdown",
      "source": [
        "## 1. 데이터 전처리\n",
        "\n"
      ],
      "metadata": {
        "id": "0F2i92Txm0Jg"
      }
    },
    {
      "cell_type": "code",
      "source": [
        "import glob\n",
        "import pandas as pd\n",
        "import numpy as np"
      ],
      "metadata": {
        "id": "hAkFiegUjxhF"
      },
      "execution_count": 6,
      "outputs": []
    },
    {
      "cell_type": "code",
      "source": [
        "csv_list = glob.glob('./cow/*.csv')\n",
        "csv_list.sort()\n",
        "\n",
        "tmp = [] # 데이터를 임시저장할  빈 리스트\n",
        "for csvfile in csv_list:\n",
        "    try:\n",
        "        print(csvfile)\n",
        "        df = pd.read_csv(csvfile, low_memory=False)\n",
        "\n",
        "        if '시간' in df.columns:\n",
        "            df.rename(columns={'시간': '시간(시:분)'}, inplace=True)\n",
        "\n",
        "        selected_cols = ['개체 번호', '날짜', '시간(시:분)', '활동량', '전체 반추 시간(분)', '발정 확률']\n",
        "        df = df[selected_cols]\n",
        "\n",
        "        df = df.dropna(axis=0, inplace=False)\n",
        "\n",
        "        tmp.append(df)\n",
        "    except Exception as e:\n",
        "        print(f\"{csvfile} 처리 중 오류 발생:\", e)\n",
        "\n",
        "data = pd.concat(tmp, ignore_index=True)"
      ],
      "metadata": {
        "colab": {
          "base_uri": "https://localhost:8080/"
        },
        "id": "uYo7ZJiZlvyS",
        "outputId": "3d1d6b03-675b-4530-8156-26053343e783"
      },
      "execution_count": 7,
      "outputs": [
        {
          "output_type": "stream",
          "name": "stdout",
          "text": [
            "./cow/월별 lely 활동량 (24.01).csv\n",
            "./cow/월별 lely 활동량 (24.02).csv\n",
            "./cow/월별 lely 활동량 (24.03).csv\n",
            "./cow/월별 lely 활동량 (24.04).csv\n",
            "./cow/월별 lely 활동량 (24.05).csv\n",
            "./cow/월별 lely 활동량 (24.06).csv\n",
            "./cow/월별 lely 활동량 (24.07).csv\n",
            "./cow/월별 lely 활동량 (24.08).csv\n",
            "./cow/월별 lely 활동량 (24.09).csv\n",
            "./cow/월별 lely 활동량 (24.10).csv\n",
            "./cow/월별 lely 활동량 (24.11).csv\n",
            "./cow/월별 lely 활동량 (24.12)~12.22.csv\n"
          ]
        }
      ]
    },
    {
      "cell_type": "code",
      "source": [
        "# 날짜와 시간 합쳐서 datetime\n",
        "data['datetime'] = pd.to_datetime(data['날짜'] + ' ' + data['시간(시:분)'])\n",
        "# 필요한 컬럼만 추출\n",
        "data = data[['개체 번호', 'datetime', '활동량', '전체 반추 시간(분)', '발정 확률']]\n",
        "data.sort_values(['개체 번호', 'datetime'], inplace=True)\n",
        "data.head()"
      ],
      "metadata": {
        "colab": {
          "base_uri": "https://localhost:8080/",
          "height": 206
        },
        "id": "6YwDw1tSl-g0",
        "outputId": "342119ae-4f1b-4a04-ac87-22875691079c"
      },
      "execution_count": 8,
      "outputs": [
        {
          "output_type": "execute_result",
          "data": {
            "text/plain": [
              "     개체 번호            datetime   활동량  전체 반추 시간(분)  발정 확률\n",
              "87       1 2024-01-01 00:00:00  53.0        465.0   -2.0\n",
              "225      1 2024-01-01 02:00:00  37.0        483.0   -2.0\n",
              "363      1 2024-01-01 04:00:00  34.0        469.0   -3.0\n",
              "501      1 2024-01-01 06:00:00  45.0        486.0   -4.0\n",
              "639      1 2024-01-01 08:00:00  47.0        468.0   -7.0"
            ],
            "text/html": [
              "\n",
              "  <div id=\"df-8735d8bd-edde-43df-a5eb-7ca9a2c8c975\" class=\"colab-df-container\">\n",
              "    <div>\n",
              "<style scoped>\n",
              "    .dataframe tbody tr th:only-of-type {\n",
              "        vertical-align: middle;\n",
              "    }\n",
              "\n",
              "    .dataframe tbody tr th {\n",
              "        vertical-align: top;\n",
              "    }\n",
              "\n",
              "    .dataframe thead th {\n",
              "        text-align: right;\n",
              "    }\n",
              "</style>\n",
              "<table border=\"1\" class=\"dataframe\">\n",
              "  <thead>\n",
              "    <tr style=\"text-align: right;\">\n",
              "      <th></th>\n",
              "      <th>개체 번호</th>\n",
              "      <th>datetime</th>\n",
              "      <th>활동량</th>\n",
              "      <th>전체 반추 시간(분)</th>\n",
              "      <th>발정 확률</th>\n",
              "    </tr>\n",
              "  </thead>\n",
              "  <tbody>\n",
              "    <tr>\n",
              "      <th>87</th>\n",
              "      <td>1</td>\n",
              "      <td>2024-01-01 00:00:00</td>\n",
              "      <td>53.0</td>\n",
              "      <td>465.0</td>\n",
              "      <td>-2.0</td>\n",
              "    </tr>\n",
              "    <tr>\n",
              "      <th>225</th>\n",
              "      <td>1</td>\n",
              "      <td>2024-01-01 02:00:00</td>\n",
              "      <td>37.0</td>\n",
              "      <td>483.0</td>\n",
              "      <td>-2.0</td>\n",
              "    </tr>\n",
              "    <tr>\n",
              "      <th>363</th>\n",
              "      <td>1</td>\n",
              "      <td>2024-01-01 04:00:00</td>\n",
              "      <td>34.0</td>\n",
              "      <td>469.0</td>\n",
              "      <td>-3.0</td>\n",
              "    </tr>\n",
              "    <tr>\n",
              "      <th>501</th>\n",
              "      <td>1</td>\n",
              "      <td>2024-01-01 06:00:00</td>\n",
              "      <td>45.0</td>\n",
              "      <td>486.0</td>\n",
              "      <td>-4.0</td>\n",
              "    </tr>\n",
              "    <tr>\n",
              "      <th>639</th>\n",
              "      <td>1</td>\n",
              "      <td>2024-01-01 08:00:00</td>\n",
              "      <td>47.0</td>\n",
              "      <td>468.0</td>\n",
              "      <td>-7.0</td>\n",
              "    </tr>\n",
              "  </tbody>\n",
              "</table>\n",
              "</div>\n",
              "    <div class=\"colab-df-buttons\">\n",
              "\n",
              "  <div class=\"colab-df-container\">\n",
              "    <button class=\"colab-df-convert\" onclick=\"convertToInteractive('df-8735d8bd-edde-43df-a5eb-7ca9a2c8c975')\"\n",
              "            title=\"Convert this dataframe to an interactive table.\"\n",
              "            style=\"display:none;\">\n",
              "\n",
              "  <svg xmlns=\"http://www.w3.org/2000/svg\" height=\"24px\" viewBox=\"0 -960 960 960\">\n",
              "    <path d=\"M120-120v-720h720v720H120Zm60-500h600v-160H180v160Zm220 220h160v-160H400v160Zm0 220h160v-160H400v160ZM180-400h160v-160H180v160Zm440 0h160v-160H620v160ZM180-180h160v-160H180v160Zm440 0h160v-160H620v160Z\"/>\n",
              "  </svg>\n",
              "    </button>\n",
              "\n",
              "  <style>\n",
              "    .colab-df-container {\n",
              "      display:flex;\n",
              "      gap: 12px;\n",
              "    }\n",
              "\n",
              "    .colab-df-convert {\n",
              "      background-color: #E8F0FE;\n",
              "      border: none;\n",
              "      border-radius: 50%;\n",
              "      cursor: pointer;\n",
              "      display: none;\n",
              "      fill: #1967D2;\n",
              "      height: 32px;\n",
              "      padding: 0 0 0 0;\n",
              "      width: 32px;\n",
              "    }\n",
              "\n",
              "    .colab-df-convert:hover {\n",
              "      background-color: #E2EBFA;\n",
              "      box-shadow: 0px 1px 2px rgba(60, 64, 67, 0.3), 0px 1px 3px 1px rgba(60, 64, 67, 0.15);\n",
              "      fill: #174EA6;\n",
              "    }\n",
              "\n",
              "    .colab-df-buttons div {\n",
              "      margin-bottom: 4px;\n",
              "    }\n",
              "\n",
              "    [theme=dark] .colab-df-convert {\n",
              "      background-color: #3B4455;\n",
              "      fill: #D2E3FC;\n",
              "    }\n",
              "\n",
              "    [theme=dark] .colab-df-convert:hover {\n",
              "      background-color: #434B5C;\n",
              "      box-shadow: 0px 1px 3px 1px rgba(0, 0, 0, 0.15);\n",
              "      filter: drop-shadow(0px 1px 2px rgba(0, 0, 0, 0.3));\n",
              "      fill: #FFFFFF;\n",
              "    }\n",
              "  </style>\n",
              "\n",
              "    <script>\n",
              "      const buttonEl =\n",
              "        document.querySelector('#df-8735d8bd-edde-43df-a5eb-7ca9a2c8c975 button.colab-df-convert');\n",
              "      buttonEl.style.display =\n",
              "        google.colab.kernel.accessAllowed ? 'block' : 'none';\n",
              "\n",
              "      async function convertToInteractive(key) {\n",
              "        const element = document.querySelector('#df-8735d8bd-edde-43df-a5eb-7ca9a2c8c975');\n",
              "        const dataTable =\n",
              "          await google.colab.kernel.invokeFunction('convertToInteractive',\n",
              "                                                    [key], {});\n",
              "        if (!dataTable) return;\n",
              "\n",
              "        const docLinkHtml = 'Like what you see? Visit the ' +\n",
              "          '<a target=\"_blank\" href=https://colab.research.google.com/notebooks/data_table.ipynb>data table notebook</a>'\n",
              "          + ' to learn more about interactive tables.';\n",
              "        element.innerHTML = '';\n",
              "        dataTable['output_type'] = 'display_data';\n",
              "        await google.colab.output.renderOutput(dataTable, element);\n",
              "        const docLink = document.createElement('div');\n",
              "        docLink.innerHTML = docLinkHtml;\n",
              "        element.appendChild(docLink);\n",
              "      }\n",
              "    </script>\n",
              "  </div>\n",
              "\n",
              "\n",
              "    <div id=\"df-692062c7-d550-4efa-b515-6a53a31fc597\">\n",
              "      <button class=\"colab-df-quickchart\" onclick=\"quickchart('df-692062c7-d550-4efa-b515-6a53a31fc597')\"\n",
              "                title=\"Suggest charts\"\n",
              "                style=\"display:none;\">\n",
              "\n",
              "<svg xmlns=\"http://www.w3.org/2000/svg\" height=\"24px\"viewBox=\"0 0 24 24\"\n",
              "     width=\"24px\">\n",
              "    <g>\n",
              "        <path d=\"M19 3H5c-1.1 0-2 .9-2 2v14c0 1.1.9 2 2 2h14c1.1 0 2-.9 2-2V5c0-1.1-.9-2-2-2zM9 17H7v-7h2v7zm4 0h-2V7h2v10zm4 0h-2v-4h2v4z\"/>\n",
              "    </g>\n",
              "</svg>\n",
              "      </button>\n",
              "\n",
              "<style>\n",
              "  .colab-df-quickchart {\n",
              "      --bg-color: #E8F0FE;\n",
              "      --fill-color: #1967D2;\n",
              "      --hover-bg-color: #E2EBFA;\n",
              "      --hover-fill-color: #174EA6;\n",
              "      --disabled-fill-color: #AAA;\n",
              "      --disabled-bg-color: #DDD;\n",
              "  }\n",
              "\n",
              "  [theme=dark] .colab-df-quickchart {\n",
              "      --bg-color: #3B4455;\n",
              "      --fill-color: #D2E3FC;\n",
              "      --hover-bg-color: #434B5C;\n",
              "      --hover-fill-color: #FFFFFF;\n",
              "      --disabled-bg-color: #3B4455;\n",
              "      --disabled-fill-color: #666;\n",
              "  }\n",
              "\n",
              "  .colab-df-quickchart {\n",
              "    background-color: var(--bg-color);\n",
              "    border: none;\n",
              "    border-radius: 50%;\n",
              "    cursor: pointer;\n",
              "    display: none;\n",
              "    fill: var(--fill-color);\n",
              "    height: 32px;\n",
              "    padding: 0;\n",
              "    width: 32px;\n",
              "  }\n",
              "\n",
              "  .colab-df-quickchart:hover {\n",
              "    background-color: var(--hover-bg-color);\n",
              "    box-shadow: 0 1px 2px rgba(60, 64, 67, 0.3), 0 1px 3px 1px rgba(60, 64, 67, 0.15);\n",
              "    fill: var(--button-hover-fill-color);\n",
              "  }\n",
              "\n",
              "  .colab-df-quickchart-complete:disabled,\n",
              "  .colab-df-quickchart-complete:disabled:hover {\n",
              "    background-color: var(--disabled-bg-color);\n",
              "    fill: var(--disabled-fill-color);\n",
              "    box-shadow: none;\n",
              "  }\n",
              "\n",
              "  .colab-df-spinner {\n",
              "    border: 2px solid var(--fill-color);\n",
              "    border-color: transparent;\n",
              "    border-bottom-color: var(--fill-color);\n",
              "    animation:\n",
              "      spin 1s steps(1) infinite;\n",
              "  }\n",
              "\n",
              "  @keyframes spin {\n",
              "    0% {\n",
              "      border-color: transparent;\n",
              "      border-bottom-color: var(--fill-color);\n",
              "      border-left-color: var(--fill-color);\n",
              "    }\n",
              "    20% {\n",
              "      border-color: transparent;\n",
              "      border-left-color: var(--fill-color);\n",
              "      border-top-color: var(--fill-color);\n",
              "    }\n",
              "    30% {\n",
              "      border-color: transparent;\n",
              "      border-left-color: var(--fill-color);\n",
              "      border-top-color: var(--fill-color);\n",
              "      border-right-color: var(--fill-color);\n",
              "    }\n",
              "    40% {\n",
              "      border-color: transparent;\n",
              "      border-right-color: var(--fill-color);\n",
              "      border-top-color: var(--fill-color);\n",
              "    }\n",
              "    60% {\n",
              "      border-color: transparent;\n",
              "      border-right-color: var(--fill-color);\n",
              "    }\n",
              "    80% {\n",
              "      border-color: transparent;\n",
              "      border-right-color: var(--fill-color);\n",
              "      border-bottom-color: var(--fill-color);\n",
              "    }\n",
              "    90% {\n",
              "      border-color: transparent;\n",
              "      border-bottom-color: var(--fill-color);\n",
              "    }\n",
              "  }\n",
              "</style>\n",
              "\n",
              "      <script>\n",
              "        async function quickchart(key) {\n",
              "          const quickchartButtonEl =\n",
              "            document.querySelector('#' + key + ' button');\n",
              "          quickchartButtonEl.disabled = true;  // To prevent multiple clicks.\n",
              "          quickchartButtonEl.classList.add('colab-df-spinner');\n",
              "          try {\n",
              "            const charts = await google.colab.kernel.invokeFunction(\n",
              "                'suggestCharts', [key], {});\n",
              "          } catch (error) {\n",
              "            console.error('Error during call to suggestCharts:', error);\n",
              "          }\n",
              "          quickchartButtonEl.classList.remove('colab-df-spinner');\n",
              "          quickchartButtonEl.classList.add('colab-df-quickchart-complete');\n",
              "        }\n",
              "        (() => {\n",
              "          let quickchartButtonEl =\n",
              "            document.querySelector('#df-692062c7-d550-4efa-b515-6a53a31fc597 button');\n",
              "          quickchartButtonEl.style.display =\n",
              "            google.colab.kernel.accessAllowed ? 'block' : 'none';\n",
              "        })();\n",
              "      </script>\n",
              "    </div>\n",
              "\n",
              "    </div>\n",
              "  </div>\n"
            ],
            "application/vnd.google.colaboratory.intrinsic+json": {
              "type": "dataframe",
              "variable_name": "data"
            }
          },
          "metadata": {},
          "execution_count": 8
        }
      ]
    },
    {
      "cell_type": "code",
      "source": [
        "print(data.shape) # (504678, 5)\n",
        "print(\"개체 수:\", data['개체 번호'].nunique())\n",
        "print(\"기간:\", data['datetime'].min(), \"→\", data['datetime'].max())\n",
        "print(\"예시 1두 샘플 간격:\", data.sort_values('datetime').groupby('개체 번호')['datetime'].diff().median())"
      ],
      "metadata": {
        "colab": {
          "base_uri": "https://localhost:8080/"
        },
        "id": "bG3SQg06TWQr",
        "outputId": "aa79c23f-3fd6-4d55-8f72-9685fe092bb8"
      },
      "execution_count": 9,
      "outputs": [
        {
          "output_type": "stream",
          "name": "stdout",
          "text": [
            "(504678, 5)\n",
            "개체 수: 185\n",
            "기간: 2024-01-01 00:00:00 → 2024-12-22 22:00:00\n",
            "예시 1두 샘플 간격: 0 days 02:00:00\n"
          ]
        }
      ]
    },
    {
      "cell_type": "code",
      "source": [
        "data['개체 번호'].unique()"
      ],
      "metadata": {
        "colab": {
          "base_uri": "https://localhost:8080/"
        },
        "id": "kT5CWYFUsP8B",
        "outputId": "5ad443c1-6e25-424a-bfcf-fa7541292b57"
      },
      "execution_count": 10,
      "outputs": [
        {
          "output_type": "execute_result",
          "data": {
            "text/plain": [
              "array([  1,   2,   3,   4,   5,   6,   7,   8,   9,  10,  11,  12,  13,\n",
              "        14,  15,  16,  17,  18,  19,  20,  21,  22,  23,  24,  25,  26,\n",
              "        27,  28,  29,  30,  31,  32,  33,  34,  35,  36,  37,  38,  39,\n",
              "        40,  41,  42,  43,  44,  45,  46,  47,  48,  50,  51,  52,  53,\n",
              "        54,  55,  56,  57,  58,  59,  60,  61,  62,  63,  64,  65,  66,\n",
              "        67,  68,  69,  70,  71,  72,  73,  75,  76,  77,  78,  79,  80,\n",
              "        81,  82,  83,  84,  85,  86,  87,  88,  89,  90,  91,  92,  93,\n",
              "        94,  95,  96,  97,  98,  99, 101, 102, 104, 105, 106, 107, 108,\n",
              "       110, 111, 112, 113, 114, 116, 117, 118, 121, 122, 124, 125, 128,\n",
              "       129, 131, 132, 133, 136, 137, 138, 139, 140, 143, 144, 145, 146,\n",
              "       149, 150, 151, 153, 155, 156, 157, 158, 159, 161, 162, 163, 164,\n",
              "       166, 167, 170, 199, 201, 203, 204, 205, 208, 211, 214, 215, 216,\n",
              "       218, 219, 220, 221, 222, 223, 224, 225, 226, 227, 228, 229, 230,\n",
              "       231, 232, 233, 234, 235, 236, 237, 238, 239, 240, 615, 659, 660,\n",
              "       661, 662, 690])"
            ]
          },
          "metadata": {},
          "execution_count": 10
        }
      ]
    },
    {
      "cell_type": "markdown",
      "source": [
        "정제한 데이터를 저장하고 싶다면,"
      ],
      "metadata": {
        "id": "TLD-cRwxLe9B"
      }
    },
    {
      "cell_type": "code",
      "source": [
        "data.to_csv('cow_data.csv', encoding='utf-8-sig', index=False)"
      ],
      "metadata": {
        "id": "gfbkSUJGLj6I"
      },
      "execution_count": 24,
      "outputs": []
    },
    {
      "cell_type": "code",
      "source": [
        "files.download('cow_data.csv')"
      ],
      "metadata": {
        "colab": {
          "base_uri": "https://localhost:8080/",
          "height": 17
        },
        "id": "7xoh5YdWL5th",
        "outputId": "a20807bc-cfa2-4162-fcbb-44b9cffcce8a"
      },
      "execution_count": 25,
      "outputs": [
        {
          "output_type": "display_data",
          "data": {
            "text/plain": [
              "<IPython.core.display.Javascript object>"
            ],
            "application/javascript": [
              "\n",
              "    async function download(id, filename, size) {\n",
              "      if (!google.colab.kernel.accessAllowed) {\n",
              "        return;\n",
              "      }\n",
              "      const div = document.createElement('div');\n",
              "      const label = document.createElement('label');\n",
              "      label.textContent = `Downloading \"${filename}\": `;\n",
              "      div.appendChild(label);\n",
              "      const progress = document.createElement('progress');\n",
              "      progress.max = size;\n",
              "      div.appendChild(progress);\n",
              "      document.body.appendChild(div);\n",
              "\n",
              "      const buffers = [];\n",
              "      let downloaded = 0;\n",
              "\n",
              "      const channel = await google.colab.kernel.comms.open(id);\n",
              "      // Send a message to notify the kernel that we're ready.\n",
              "      channel.send({})\n",
              "\n",
              "      for await (const message of channel.messages) {\n",
              "        // Send a message to notify the kernel that we're ready.\n",
              "        channel.send({})\n",
              "        if (message.buffers) {\n",
              "          for (const buffer of message.buffers) {\n",
              "            buffers.push(buffer);\n",
              "            downloaded += buffer.byteLength;\n",
              "            progress.value = downloaded;\n",
              "          }\n",
              "        }\n",
              "      }\n",
              "      const blob = new Blob(buffers, {type: 'application/binary'});\n",
              "      const a = document.createElement('a');\n",
              "      a.href = window.URL.createObjectURL(blob);\n",
              "      a.download = filename;\n",
              "      div.appendChild(a);\n",
              "      a.click();\n",
              "      div.remove();\n",
              "    }\n",
              "  "
            ]
          },
          "metadata": {}
        },
        {
          "output_type": "display_data",
          "data": {
            "text/plain": [
              "<IPython.core.display.Javascript object>"
            ],
            "application/javascript": [
              "download(\"download_5c64b832-32c7-4989-8dfd-20d34c575744\", \"cow_data.csv\", 19710064)"
            ]
          },
          "metadata": {}
        }
      ]
    },
    {
      "cell_type": "markdown",
      "source": [
        "===============================================================\n",
        "\n",
        "\n",
        "***TIP:***\n",
        "\n",
        "세션 재시작 시 위 과정을 반복하지 말고 저장한 csv 파일만 간편하게 불러오세요!"
      ],
      "metadata": {
        "id": "Y8WJaR39MWtK"
      }
    },
    {
      "cell_type": "code",
      "source": [
        "files.upload()"
      ],
      "metadata": {
        "id": "pv8fxB4cMimO"
      },
      "execution_count": null,
      "outputs": []
    },
    {
      "cell_type": "code",
      "source": [
        "import pandas as pd\n",
        "import numpy as np\n",
        "\n",
        "data = pd.read_csv('dairy_data.csv', low_memory=False)"
      ],
      "metadata": {
        "id": "Mg79BmgRMnfs"
      },
      "execution_count": null,
      "outputs": []
    },
    {
      "cell_type": "markdown",
      "source": [
        "==============================================================="
      ],
      "metadata": {
        "id": "z_1az4wjM4QC"
      }
    },
    {
      "cell_type": "markdown",
      "source": [
        "## 2. 시퀀스 정의"
      ],
      "metadata": {
        "id": "fGvjvDXFVnCK"
      }
    },
    {
      "cell_type": "code",
      "source": [
        "# 시퀀스 파라미터 (point 전용)\n",
        "SEQ_LEN        = 12        # 입력으로 볼 과거 스텝 수 (예: 12→지난 24시간)\n",
        "HORIZON_STEPS  = 1         # 정확히 몇 스텝 뒤를 예측할지\n",
        "POS_THRESH     = 25.0      # 발정 확률 임계값(>=25 → 1)\n",
        "FEATURES       = ['활동량','전체 반추 시간(분)']\n",
        "\n",
        "print(\"SEQ_LEN:\", SEQ_LEN, \"| HORIZON_STEPS:\", HORIZON_STEPS, \"| POS_THRESH:\", POS_THRESH)\n"
      ],
      "metadata": {
        "id": "wbsERzx3VoP-",
        "colab": {
          "base_uri": "https://localhost:8080/"
        },
        "outputId": "75a9edc3-e84b-4b8b-8c12-a8fb25275e9f"
      },
      "execution_count": 11,
      "outputs": [
        {
          "output_type": "stream",
          "name": "stdout",
          "text": [
            "SEQ_LEN: 12 | HORIZON_STEPS: 1 | POS_THRESH: 25.0\n"
          ]
        }
      ]
    },
    {
      "cell_type": "code",
      "source": [
        "# 스텝 간격(시간) 추정: 개체별 시계열 간격의 중앙값들을 모아 전체 중앙값\n",
        "hours_per_step = (data.sort_values(['개체 번호','datetime'])\n",
        "                    .groupby('개체 번호')['datetime'].diff()\n",
        "                    .dropna()\n",
        "                    .dt.total_seconds().median()) / 3600\n",
        "print(f\"추정 간격 ≈ {hours_per_step:.2f} 시간/스텝\")\n",
        "\n",
        "# 자주 나오는 간격(분)도 같이 확인(이상치/결측 체크)\n",
        "gap_counts = (data.sort_values(['개체 번호','datetime'])\n",
        "                .groupby('개체 번호')['datetime'].diff()\n",
        "                .dropna()\n",
        "                .dt.total_seconds().div(60).round().astype(int)\n",
        "\n",
        "                .value_counts().sort_index())\n",
        "print(\"상위 간격(분) 빈도:\\n\", gap_counts.head(5))\n",
        "print(gap_counts[(gap_counts.index >= 240) & (gap_counts.index <= 360)].sum())"
      ],
      "metadata": {
        "colab": {
          "base_uri": "https://localhost:8080/"
        },
        "id": "f4QQG2ePwngA",
        "outputId": "04e6a8b4-b2fa-445a-cfe1-aad9f3503fd3"
      },
      "execution_count": 17,
      "outputs": [
        {
          "output_type": "stream",
          "name": "stdout",
          "text": [
            "추정 간격 ≈ 2.00 시간/스텝\n",
            "상위 간격(분) 빈도:\n",
            " datetime\n",
            "120    504237\n",
            "240         4\n",
            "360        11\n",
            "480        10\n",
            "600        21\n",
            "Name: count, dtype: int64\n",
            "15\n"
          ]
        }
      ]
    },
    {
      "cell_type": "markdown",
      "source": [
        "2시간 간격이 아닌 개체가 존재한다!!\n",
        "긴 공백은 6804시간...?"
      ],
      "metadata": {
        "id": "8RuXijRr314U"
      }
    },
    {
      "cell_type": "code",
      "source": [
        "import numpy as np\n",
        "import pandas as pd\n",
        "\n",
        "FEATURES = ['활동량','전체 반추 시간(분)']\n",
        "TARGET   = '발정 확률'\n",
        "\n",
        "try:\n",
        "    STEP_MIN = int(round(hours_per_step * 60))  # 2h 스텝이면 120\n",
        "except NameError:\n",
        "    STEP_MIN = 120\n",
        "\n",
        "SHORT_GAP_MAX = 360  # ≤6h만 보간\n",
        "\n",
        "# 스텝 길이(분) 확보\n",
        "try:\n",
        "    STEP_MIN = int(round(hours_per_step * 60))\n",
        "except NameError:\n",
        "    STEP_MIN = 120  # 2시간\n",
        "\n",
        "SHORT_GAP_MAX = 360   # ≤6h 보간 허용\n",
        "LONG_GAP_CUT  = 360   # >6h면 세그먼트 분리\n",
        "\n",
        "df = data.sort_values(['개체 번호','datetime']).copy()\n",
        "\n",
        "df['gap_min'] = (\n",
        "    df.groupby('개체 번호', sort=False)['datetime']\n",
        "      .diff().dt.total_seconds().div(60)\n",
        ")\n",
        "\n",
        "# 2) 세그먼트 ID 생성 (index 보존 방식) ─ apply 대신 transform / boolean cumsum\n",
        "# 방법 A: transform + cumsum\n",
        "df['segment_id'] = (\n",
        "    df.groupby('개체 번호', sort=False)['gap_min']\n",
        "      .transform(lambda s: s.fillna(0).gt(LONG_GAP_CUT).cumsum())\n",
        "      .astype('int64')\n",
        ")\n",
        "\n",
        "print(\"세그먼트 수(개체*세그먼트 조합):\",\n",
        "      df.groupby(['개체 번호','segment_id']).size().shape[0])\n",
        "df[['개체 번호','datetime','gap_min','segment_id']].head(8)\n"
      ],
      "metadata": {
        "colab": {
          "base_uri": "https://localhost:8080/",
          "height": 318
        },
        "id": "DTxhdSxPwsyr",
        "outputId": "9dc31c7f-60b7-4110-fe50-68cc1e006f03"
      },
      "execution_count": 22,
      "outputs": [
        {
          "output_type": "stream",
          "name": "stdout",
          "text": [
            "세그먼트 수(개체*세그먼트 조합): 426\n"
          ]
        },
        {
          "output_type": "execute_result",
          "data": {
            "text/plain": [
              "      개체 번호            datetime  gap_min  segment_id\n",
              "87        1 2024-01-01 00:00:00      NaN           0\n",
              "225       1 2024-01-01 02:00:00    120.0           0\n",
              "363       1 2024-01-01 04:00:00    120.0           0\n",
              "501       1 2024-01-01 06:00:00    120.0           0\n",
              "639       1 2024-01-01 08:00:00    120.0           0\n",
              "777       1 2024-01-01 10:00:00    120.0           0\n",
              "915       1 2024-01-01 12:00:00    120.0           0\n",
              "1053      1 2024-01-01 14:00:00    120.0           0"
            ],
            "text/html": [
              "\n",
              "  <div id=\"df-e3b8848a-90ef-4c72-909b-10214acd8486\" class=\"colab-df-container\">\n",
              "    <div>\n",
              "<style scoped>\n",
              "    .dataframe tbody tr th:only-of-type {\n",
              "        vertical-align: middle;\n",
              "    }\n",
              "\n",
              "    .dataframe tbody tr th {\n",
              "        vertical-align: top;\n",
              "    }\n",
              "\n",
              "    .dataframe thead th {\n",
              "        text-align: right;\n",
              "    }\n",
              "</style>\n",
              "<table border=\"1\" class=\"dataframe\">\n",
              "  <thead>\n",
              "    <tr style=\"text-align: right;\">\n",
              "      <th></th>\n",
              "      <th>개체 번호</th>\n",
              "      <th>datetime</th>\n",
              "      <th>gap_min</th>\n",
              "      <th>segment_id</th>\n",
              "    </tr>\n",
              "  </thead>\n",
              "  <tbody>\n",
              "    <tr>\n",
              "      <th>87</th>\n",
              "      <td>1</td>\n",
              "      <td>2024-01-01 00:00:00</td>\n",
              "      <td>NaN</td>\n",
              "      <td>0</td>\n",
              "    </tr>\n",
              "    <tr>\n",
              "      <th>225</th>\n",
              "      <td>1</td>\n",
              "      <td>2024-01-01 02:00:00</td>\n",
              "      <td>120.0</td>\n",
              "      <td>0</td>\n",
              "    </tr>\n",
              "    <tr>\n",
              "      <th>363</th>\n",
              "      <td>1</td>\n",
              "      <td>2024-01-01 04:00:00</td>\n",
              "      <td>120.0</td>\n",
              "      <td>0</td>\n",
              "    </tr>\n",
              "    <tr>\n",
              "      <th>501</th>\n",
              "      <td>1</td>\n",
              "      <td>2024-01-01 06:00:00</td>\n",
              "      <td>120.0</td>\n",
              "      <td>0</td>\n",
              "    </tr>\n",
              "    <tr>\n",
              "      <th>639</th>\n",
              "      <td>1</td>\n",
              "      <td>2024-01-01 08:00:00</td>\n",
              "      <td>120.0</td>\n",
              "      <td>0</td>\n",
              "    </tr>\n",
              "    <tr>\n",
              "      <th>777</th>\n",
              "      <td>1</td>\n",
              "      <td>2024-01-01 10:00:00</td>\n",
              "      <td>120.0</td>\n",
              "      <td>0</td>\n",
              "    </tr>\n",
              "    <tr>\n",
              "      <th>915</th>\n",
              "      <td>1</td>\n",
              "      <td>2024-01-01 12:00:00</td>\n",
              "      <td>120.0</td>\n",
              "      <td>0</td>\n",
              "    </tr>\n",
              "    <tr>\n",
              "      <th>1053</th>\n",
              "      <td>1</td>\n",
              "      <td>2024-01-01 14:00:00</td>\n",
              "      <td>120.0</td>\n",
              "      <td>0</td>\n",
              "    </tr>\n",
              "  </tbody>\n",
              "</table>\n",
              "</div>\n",
              "    <div class=\"colab-df-buttons\">\n",
              "\n",
              "  <div class=\"colab-df-container\">\n",
              "    <button class=\"colab-df-convert\" onclick=\"convertToInteractive('df-e3b8848a-90ef-4c72-909b-10214acd8486')\"\n",
              "            title=\"Convert this dataframe to an interactive table.\"\n",
              "            style=\"display:none;\">\n",
              "\n",
              "  <svg xmlns=\"http://www.w3.org/2000/svg\" height=\"24px\" viewBox=\"0 -960 960 960\">\n",
              "    <path d=\"M120-120v-720h720v720H120Zm60-500h600v-160H180v160Zm220 220h160v-160H400v160Zm0 220h160v-160H400v160ZM180-400h160v-160H180v160Zm440 0h160v-160H620v160ZM180-180h160v-160H180v160Zm440 0h160v-160H620v160Z\"/>\n",
              "  </svg>\n",
              "    </button>\n",
              "\n",
              "  <style>\n",
              "    .colab-df-container {\n",
              "      display:flex;\n",
              "      gap: 12px;\n",
              "    }\n",
              "\n",
              "    .colab-df-convert {\n",
              "      background-color: #E8F0FE;\n",
              "      border: none;\n",
              "      border-radius: 50%;\n",
              "      cursor: pointer;\n",
              "      display: none;\n",
              "      fill: #1967D2;\n",
              "      height: 32px;\n",
              "      padding: 0 0 0 0;\n",
              "      width: 32px;\n",
              "    }\n",
              "\n",
              "    .colab-df-convert:hover {\n",
              "      background-color: #E2EBFA;\n",
              "      box-shadow: 0px 1px 2px rgba(60, 64, 67, 0.3), 0px 1px 3px 1px rgba(60, 64, 67, 0.15);\n",
              "      fill: #174EA6;\n",
              "    }\n",
              "\n",
              "    .colab-df-buttons div {\n",
              "      margin-bottom: 4px;\n",
              "    }\n",
              "\n",
              "    [theme=dark] .colab-df-convert {\n",
              "      background-color: #3B4455;\n",
              "      fill: #D2E3FC;\n",
              "    }\n",
              "\n",
              "    [theme=dark] .colab-df-convert:hover {\n",
              "      background-color: #434B5C;\n",
              "      box-shadow: 0px 1px 3px 1px rgba(0, 0, 0, 0.15);\n",
              "      filter: drop-shadow(0px 1px 2px rgba(0, 0, 0, 0.3));\n",
              "      fill: #FFFFFF;\n",
              "    }\n",
              "  </style>\n",
              "\n",
              "    <script>\n",
              "      const buttonEl =\n",
              "        document.querySelector('#df-e3b8848a-90ef-4c72-909b-10214acd8486 button.colab-df-convert');\n",
              "      buttonEl.style.display =\n",
              "        google.colab.kernel.accessAllowed ? 'block' : 'none';\n",
              "\n",
              "      async function convertToInteractive(key) {\n",
              "        const element = document.querySelector('#df-e3b8848a-90ef-4c72-909b-10214acd8486');\n",
              "        const dataTable =\n",
              "          await google.colab.kernel.invokeFunction('convertToInteractive',\n",
              "                                                    [key], {});\n",
              "        if (!dataTable) return;\n",
              "\n",
              "        const docLinkHtml = 'Like what you see? Visit the ' +\n",
              "          '<a target=\"_blank\" href=https://colab.research.google.com/notebooks/data_table.ipynb>data table notebook</a>'\n",
              "          + ' to learn more about interactive tables.';\n",
              "        element.innerHTML = '';\n",
              "        dataTable['output_type'] = 'display_data';\n",
              "        await google.colab.output.renderOutput(dataTable, element);\n",
              "        const docLink = document.createElement('div');\n",
              "        docLink.innerHTML = docLinkHtml;\n",
              "        element.appendChild(docLink);\n",
              "      }\n",
              "    </script>\n",
              "  </div>\n",
              "\n",
              "\n",
              "    <div id=\"df-0dd3efc7-4750-48f2-9678-8cbec107f261\">\n",
              "      <button class=\"colab-df-quickchart\" onclick=\"quickchart('df-0dd3efc7-4750-48f2-9678-8cbec107f261')\"\n",
              "                title=\"Suggest charts\"\n",
              "                style=\"display:none;\">\n",
              "\n",
              "<svg xmlns=\"http://www.w3.org/2000/svg\" height=\"24px\"viewBox=\"0 0 24 24\"\n",
              "     width=\"24px\">\n",
              "    <g>\n",
              "        <path d=\"M19 3H5c-1.1 0-2 .9-2 2v14c0 1.1.9 2 2 2h14c1.1 0 2-.9 2-2V5c0-1.1-.9-2-2-2zM9 17H7v-7h2v7zm4 0h-2V7h2v10zm4 0h-2v-4h2v4z\"/>\n",
              "    </g>\n",
              "</svg>\n",
              "      </button>\n",
              "\n",
              "<style>\n",
              "  .colab-df-quickchart {\n",
              "      --bg-color: #E8F0FE;\n",
              "      --fill-color: #1967D2;\n",
              "      --hover-bg-color: #E2EBFA;\n",
              "      --hover-fill-color: #174EA6;\n",
              "      --disabled-fill-color: #AAA;\n",
              "      --disabled-bg-color: #DDD;\n",
              "  }\n",
              "\n",
              "  [theme=dark] .colab-df-quickchart {\n",
              "      --bg-color: #3B4455;\n",
              "      --fill-color: #D2E3FC;\n",
              "      --hover-bg-color: #434B5C;\n",
              "      --hover-fill-color: #FFFFFF;\n",
              "      --disabled-bg-color: #3B4455;\n",
              "      --disabled-fill-color: #666;\n",
              "  }\n",
              "\n",
              "  .colab-df-quickchart {\n",
              "    background-color: var(--bg-color);\n",
              "    border: none;\n",
              "    border-radius: 50%;\n",
              "    cursor: pointer;\n",
              "    display: none;\n",
              "    fill: var(--fill-color);\n",
              "    height: 32px;\n",
              "    padding: 0;\n",
              "    width: 32px;\n",
              "  }\n",
              "\n",
              "  .colab-df-quickchart:hover {\n",
              "    background-color: var(--hover-bg-color);\n",
              "    box-shadow: 0 1px 2px rgba(60, 64, 67, 0.3), 0 1px 3px 1px rgba(60, 64, 67, 0.15);\n",
              "    fill: var(--button-hover-fill-color);\n",
              "  }\n",
              "\n",
              "  .colab-df-quickchart-complete:disabled,\n",
              "  .colab-df-quickchart-complete:disabled:hover {\n",
              "    background-color: var(--disabled-bg-color);\n",
              "    fill: var(--disabled-fill-color);\n",
              "    box-shadow: none;\n",
              "  }\n",
              "\n",
              "  .colab-df-spinner {\n",
              "    border: 2px solid var(--fill-color);\n",
              "    border-color: transparent;\n",
              "    border-bottom-color: var(--fill-color);\n",
              "    animation:\n",
              "      spin 1s steps(1) infinite;\n",
              "  }\n",
              "\n",
              "  @keyframes spin {\n",
              "    0% {\n",
              "      border-color: transparent;\n",
              "      border-bottom-color: var(--fill-color);\n",
              "      border-left-color: var(--fill-color);\n",
              "    }\n",
              "    20% {\n",
              "      border-color: transparent;\n",
              "      border-left-color: var(--fill-color);\n",
              "      border-top-color: var(--fill-color);\n",
              "    }\n",
              "    30% {\n",
              "      border-color: transparent;\n",
              "      border-left-color: var(--fill-color);\n",
              "      border-top-color: var(--fill-color);\n",
              "      border-right-color: var(--fill-color);\n",
              "    }\n",
              "    40% {\n",
              "      border-color: transparent;\n",
              "      border-right-color: var(--fill-color);\n",
              "      border-top-color: var(--fill-color);\n",
              "    }\n",
              "    60% {\n",
              "      border-color: transparent;\n",
              "      border-right-color: var(--fill-color);\n",
              "    }\n",
              "    80% {\n",
              "      border-color: transparent;\n",
              "      border-right-color: var(--fill-color);\n",
              "      border-bottom-color: var(--fill-color);\n",
              "    }\n",
              "    90% {\n",
              "      border-color: transparent;\n",
              "      border-bottom-color: var(--fill-color);\n",
              "    }\n",
              "  }\n",
              "</style>\n",
              "\n",
              "      <script>\n",
              "        async function quickchart(key) {\n",
              "          const quickchartButtonEl =\n",
              "            document.querySelector('#' + key + ' button');\n",
              "          quickchartButtonEl.disabled = true;  // To prevent multiple clicks.\n",
              "          quickchartButtonEl.classList.add('colab-df-spinner');\n",
              "          try {\n",
              "            const charts = await google.colab.kernel.invokeFunction(\n",
              "                'suggestCharts', [key], {});\n",
              "          } catch (error) {\n",
              "            console.error('Error during call to suggestCharts:', error);\n",
              "          }\n",
              "          quickchartButtonEl.classList.remove('colab-df-spinner');\n",
              "          quickchartButtonEl.classList.add('colab-df-quickchart-complete');\n",
              "        }\n",
              "        (() => {\n",
              "          let quickchartButtonEl =\n",
              "            document.querySelector('#df-0dd3efc7-4750-48f2-9678-8cbec107f261 button');\n",
              "          quickchartButtonEl.style.display =\n",
              "            google.colab.kernel.accessAllowed ? 'block' : 'none';\n",
              "        })();\n",
              "      </script>\n",
              "    </div>\n",
              "\n",
              "    </div>\n",
              "  </div>\n"
            ],
            "application/vnd.google.colaboratory.intrinsic+json": {
              "type": "dataframe",
              "summary": "{\n  \"name\": \"df[['\\uac1c\\uccb4 \\ubc88\\ud638','datetime','gap_min','segment_id']]\",\n  \"rows\": 8,\n  \"fields\": [\n    {\n      \"column\": \"\\uac1c\\uccb4 \\ubc88\\ud638\",\n      \"properties\": {\n        \"dtype\": \"number\",\n        \"std\": 0,\n        \"min\": 1,\n        \"max\": 1,\n        \"num_unique_values\": 1,\n        \"samples\": [\n          1\n        ],\n        \"semantic_type\": \"\",\n        \"description\": \"\"\n      }\n    },\n    {\n      \"column\": \"datetime\",\n      \"properties\": {\n        \"dtype\": \"date\",\n        \"min\": \"2024-01-01 00:00:00\",\n        \"max\": \"2024-01-01 14:00:00\",\n        \"num_unique_values\": 8,\n        \"samples\": [\n          \"2024-01-01 02:00:00\"\n        ],\n        \"semantic_type\": \"\",\n        \"description\": \"\"\n      }\n    },\n    {\n      \"column\": \"gap_min\",\n      \"properties\": {\n        \"dtype\": \"number\",\n        \"std\": 0.0,\n        \"min\": 120.0,\n        \"max\": 120.0,\n        \"num_unique_values\": 1,\n        \"samples\": [\n          120.0\n        ],\n        \"semantic_type\": \"\",\n        \"description\": \"\"\n      }\n    },\n    {\n      \"column\": \"segment_id\",\n      \"properties\": {\n        \"dtype\": \"number\",\n        \"std\": 0,\n        \"min\": 0,\n        \"max\": 0,\n        \"num_unique_values\": 1,\n        \"samples\": [\n          0\n        ],\n        \"semantic_type\": \"\",\n        \"description\": \"\"\n      }\n    }\n  ]\n}"
            }
          },
          "metadata": {},
          "execution_count": 22
        }
      ]
    },
    {
      "cell_type": "code",
      "source": [
        "def _fill_short_gaps(seg: pd.DataFrame, cid, sid) -> pd.DataFrame:\n",
        "    seg = seg.set_index('datetime').sort_index()\n",
        "\n",
        "    # 2h 그리드\n",
        "    full_idx = pd.date_range(seg.index.min(), seg.index.max(), freq=f'{STEP_MIN}min')\n",
        "    seg = seg.reindex(full_idx)\n",
        "\n",
        "    # 입력 특성만 선형보간 (≤6h만 보간되도록 limit=3step)\n",
        "    limit_steps = int(SHORT_GAP_MAX // STEP_MIN)  # 360/120=3\n",
        "    for c in FEATURES:\n",
        "        seg[c] = pd.to_numeric(seg[c], errors='coerce').interpolate(\n",
        "            method='linear', limit=limit_steps, limit_direction='both'\n",
        "        )\n",
        "\n",
        "    # 타깃은 보간 금지\n",
        "    seg[TARGET] = pd.to_numeric(seg[TARGET], errors='coerce')\n",
        "\n",
        "    # 그룹 키 명시적으로 부여 (향후 pandas 변경에도 안전)\n",
        "    seg['개체 번호'] = cid\n",
        "    seg['segment_id'] = sid\n",
        "\n",
        "    return seg.reset_index().rename(columns={'index':'datetime'})\n",
        "\n",
        "    parts = []\n",
        "for (cid, sid), g in df.groupby(['개체 번호','segment_id'], sort=False):\n",
        "    parts.append(_fill_short_gaps(g, cid, sid))\n",
        "\n",
        "data_seg = (pd.concat(parts, ignore_index=True)\n",
        "              .sort_values(['개체 번호','datetime'])\n",
        "              .reset_index(drop=True))\n",
        "\n",
        "# (선택) 필요한 열만 유지\n",
        "cols_keep = ['개체 번호','datetime'] + FEATURES + [TARGET,'segment_id']\n",
        "data_seg = data_seg[cols_keep]\n",
        "\n",
        "print(\"보간 후 크기:\", data_seg.shape)\n"
      ],
      "metadata": {
        "colab": {
          "base_uri": "https://localhost:8080/"
        },
        "id": "ZnL2OKTyA2h1",
        "outputId": "95b05f43-73fa-4918-f994-48ae20a55316"
      },
      "execution_count": 27,
      "outputs": [
        {
          "output_type": "stream",
          "name": "stdout",
          "text": [
            "보간 후 크기: (504704, 6)\n"
          ]
        }
      ]
    },
    {
      "cell_type": "code",
      "source": [
        "from sklearn.preprocessing import StandardScaler\n",
        "\n",
        "def make_sequences_point_segmented(df, seq_len, horizon_steps, pos_thresh):\n",
        "    X, y, cows, ends = [], [], [], []\n",
        "    skipped_no_label = 0\n",
        "\n",
        "    for (cid, sid), g in df.groupby(['개체 번호','segment_id']):\n",
        "        g = g.sort_values('datetime')\n",
        "        if len(g) <= seq_len + horizon_steps - 1:\n",
        "            continue\n",
        "\n",
        "        feats = g[FEATURES].to_numpy(np.float32)              # 입력(보간됨)\n",
        "        prob  = g[TARGET].to_numpy(np.float32)                # 타깃(실측만 남음; NaN 가능)\n",
        "        tms   = g['datetime'].to_numpy()\n",
        "\n",
        "        # 세그먼트 단위 표준화(입력만)\n",
        "        feats = StandardScaler().fit_transform(feats).astype(np.float32)\n",
        "\n",
        "        last_start = len(g) - seq_len - horizon_steps + 1\n",
        "        for i in range(last_start):\n",
        "            tgt = i + seq_len + horizon_steps - 1\n",
        "            if np.isnan(prob[tgt]):              # 라벨 시점 실측 없으면 스킵\n",
        "                skipped_no_label += 1\n",
        "                continue\n",
        "\n",
        "            X.append(feats[i:i+seq_len, :])\n",
        "            y.append(1.0 if prob[tgt] >= pos_thresh else 0.0)\n",
        "            cows.append(cid)\n",
        "            ends.append(tms[i+seq_len-1])\n",
        "\n",
        "    return (np.asarray(X, np.float32),\n",
        "            np.asarray(y, np.float32),\n",
        "            np.asarray(cows),\n",
        "            np.asarray(ends),\n",
        "            skipped_no_label)\n",
        "\n",
        "X, y, cows, seq_end_times, skipped = make_sequences_point_segmented(\n",
        "    data_seg, SEQ_LEN, HORIZON_STEPS, POS_THRESH\n",
        ")\n",
        "\n",
        "print(f\"X: {X.shape} | y: {y.shape}\")\n",
        "print(f\"스킵(라벨 실측 없음): {skipped:,}개\")\n",
        "\n"
      ],
      "metadata": {
        "colab": {
          "base_uri": "https://localhost:8080/"
        },
        "id": "5OqfnMt_QDK5",
        "outputId": "942157f9-a34a-4c32-96bb-9ebc71845747"
      },
      "execution_count": 31,
      "outputs": [
        {
          "output_type": "stream",
          "name": "stdout",
          "text": [
            "X: (500324, 12, 2) | y: (500324,)\n",
            "스킵(라벨 실측 없음): 17개\n"
          ]
        }
      ]
    },
    {
      "cell_type": "markdown",
      "source": [
        "## 3. 데이터 분류"
      ],
      "metadata": {
        "id": "QCoYROiiNldS"
      }
    },
    {
      "cell_type": "markdown",
      "source": [
        "일반화 성능을 보기 위해 train과 val을 개체 별로 나눔"
      ],
      "metadata": {
        "id": "0XGtE55mNpY9"
      }
    },
    {
      "cell_type": "code",
      "source": [
        "import numpy as np\n",
        "\n",
        "def split_by_cow(cows, train_ratio=0.8, seed=42):\n",
        "    rng = np.random.default_rng(seed)\n",
        "    uniq = np.unique(cows)\n",
        "    rng.shuffle(uniq)\n",
        "    n_tr = int(len(uniq) * train_ratio)\n",
        "    tr_ids = set(uniq[:n_tr])\n",
        "    tr = np.isin(cows, list(tr_ids))\n",
        "    va = ~tr\n",
        "    return tr, va\n",
        "\n",
        "train_mask, val_mask = split_by_cow(cows, train_ratio=0.8, seed=42)\n",
        "\n",
        "X_train, y_train = X[train_mask], y[train_mask]\n",
        "X_val,   y_val   = X[val_mask],   y[val_mask]\n",
        "\n",
        "print(\"Train:\", X_train.shape, \" Val:\", X_val.shape)\n",
        "print(\"양성비율(Train, Val):\", float(y_train.mean()).__round__(4), float(y_val.mean()).__round__(4))"
      ],
      "metadata": {
        "id": "pZAcgGvAgW6g",
        "colab": {
          "base_uri": "https://localhost:8080/"
        },
        "outputId": "2affad59-99b4-484f-d911-fbcdf5a9b07b"
      },
      "execution_count": 34,
      "outputs": [
        {
          "output_type": "stream",
          "name": "stdout",
          "text": [
            "Train: (392550, 12, 2)  Val: (107774, 12, 2)\n",
            "양성비율(Train, Val): 0.0119 0.0114\n"
          ]
        }
      ]
    },
    {
      "cell_type": "code",
      "source": [
        "import torch\n",
        "from torch.utils.data import Dataset, DataLoader\n",
        "\n",
        "DEVICE = 'cuda' if torch.cuda.is_available() else 'cpu'\n",
        "\n",
        "class SeqDS(Dataset):\n",
        "    def __init__(self, X, y):\n",
        "        self.X = torch.from_numpy(X)                    # (N, T, F)\n",
        "        self.y = torch.from_numpy(y).float().unsqueeze(1)  # (N, 1)\n",
        "    def __len__(self): return len(self.X)\n",
        "    def __getitem__(self, i): return self.X[i], self.y[i]\n",
        "\n",
        "train_loader = DataLoader(SeqDS(X_train, y_train), batch_size=32, shuffle=True,  drop_last=True)\n",
        "val_loader   = DataLoader(SeqDS(X_val,   y_val),   batch_size=32, shuffle=False)\n",
        "print(DEVICE)\n"
      ],
      "metadata": {
        "colab": {
          "base_uri": "https://localhost:8080/"
        },
        "id": "k_0sX2BgOAb-",
        "outputId": "461185ea-d6ee-4e45-98c5-fe252a32e353"
      },
      "execution_count": 35,
      "outputs": [
        {
          "output_type": "stream",
          "name": "stdout",
          "text": [
            "cpu\n"
          ]
        }
      ]
    },
    {
      "cell_type": "code",
      "source": [
        "import torch.nn as nn\n",
        "\n",
        "class LSTMClassifier(nn.Module):\n",
        "    def __init__(self, input_size=2, hidden=64, layers=2, dropout=0.2):\n",
        "        super().__init__()\n",
        "        self.lstm = nn.LSTM(input_size, hidden, num_layers=layers,\n",
        "                            batch_first=True, dropout=dropout)\n",
        "        self.fc   = nn.Linear(hidden, 1)\n",
        "    def forward(self, x):\n",
        "        out, _ = self.lstm(x)      # (B, T, H)\n",
        "        last = out[:, -1, :]       # 마지막 타임스텝\n",
        "        return self.fc(last)       # 로짓(시그모이드 이전)\n",
        "\n",
        "model = LSTMClassifier(input_size=len(FEATURES)).to(DEVICE)\n",
        "\n",
        "# 불균형 대응: pos_weight = (음성 수 / 양성 수)\n",
        "pos = float(y_train.sum())\n",
        "neg = float(len(y_train) - pos)\n",
        "pos_weight = torch.tensor(neg / max(1.0, pos), device=DEVICE)\n",
        "\n",
        "criterion = nn.BCEWithLogitsLoss(pos_weight=pos_weight)\n",
        "optimizer = torch.optim.Adam(model.parameters(), lr=1e-3)\n"
      ],
      "metadata": {
        "id": "JHFvRl3QOPei"
      },
      "execution_count": 36,
      "outputs": []
    },
    {
      "cell_type": "code",
      "source": [
        "import torch.nn as nn\n",
        "\n",
        "class LSTMClassifier(nn.Module):\n",
        "    def __init__(self, input_size=2, hidden=64, layers=2, dropout=0.2):\n",
        "        super().__init__()\n",
        "        self.lstm = nn.LSTM(input_size, hidden, num_layers=layers,\n",
        "                            batch_first=True, dropout=dropout)\n",
        "        self.fc   = nn.Linear(hidden, 1)\n",
        "    def forward(self, x):\n",
        "        out, _ = self.lstm(x)      # (B, T, H)\n",
        "        last = out[:, -1, :]       # 마지막 타임스텝\n",
        "        return self.fc(last)       # 로짓(시그모이드 이전)\n",
        "\n",
        "model = LSTMClassifier(input_size=len(FEATURES)).to(DEVICE)\n",
        "\n",
        "# 불균형 대응: pos_weight = (음성 수 / 양성 수)\n",
        "pos = float(y_train.sum())\n",
        "neg = float(len(y_train) - pos)\n",
        "pos_weight = torch.tensor(neg / max(1.0, pos), device=DEVICE)\n",
        "\n",
        "criterion = nn.BCEWithLogitsLoss(pos_weight=pos_weight)\n",
        "optimizer = torch.optim.Adam(model.parameters(), lr=1e-3)\n"
      ],
      "metadata": {
        "id": "jIMYHCH9OSa6"
      },
      "execution_count": 37,
      "outputs": []
    },
    {
      "cell_type": "code",
      "source": [
        "import numpy as np\n",
        "import matplotlib.pyplot as plt\n",
        "torch.manual_seed(0)\n",
        "\n",
        "def run_epoch(loader, train=True):\n",
        "    model.train() if train else model.eval()\n",
        "    tot = 0.0\n",
        "    with torch.set_grad_enabled(train):\n",
        "        for xb, yb in loader:\n",
        "            xb, yb = xb.to(DEVICE), yb.to(DEVICE)\n",
        "            logit = model(xb)\n",
        "            loss = criterion(logit, yb)\n",
        "            if train:\n",
        "                optimizer.zero_grad()\n",
        "                loss.backward()\n",
        "                optimizer.step()\n",
        "            tot += loss.item()\n",
        "    return tot / len(loader)\n",
        "\n",
        "EPOCHS = 20\n",
        "tr_hist, va_hist = [], []\n",
        "for ep in range(1, EPOCHS+1):\n",
        "    tr = run_epoch(train_loader, True)\n",
        "    va = run_epoch(val_loader,   False)\n",
        "    tr_hist.append(tr); va_hist.append(va)\n",
        "    print(f\"Epoch {ep:02d} | train={tr:.4f}  val={va:.4f}\")\n",
        "\n",
        "plt.figure()\n",
        "plt.plot(tr_hist, label='train'); plt.plot(va_hist, label='val')\n",
        "plt.title('Loss'); plt.legend(); plt.grid(True, alpha=0.3); plt.show()\n"
      ],
      "metadata": {
        "colab": {
          "base_uri": "https://localhost:8080/"
        },
        "id": "iJn4nMdHOWPX",
        "outputId": "46887622-8712-4b58-b481-0eb5f949706c"
      },
      "execution_count": null,
      "outputs": [
        {
          "output_type": "stream",
          "name": "stdout",
          "text": [
            "Epoch 01 | train=0.5889  val=0.4455\n",
            "Epoch 02 | train=0.5075  val=0.4274\n",
            "Epoch 03 | train=0.4763  val=0.4110\n",
            "Epoch 04 | train=0.4543  val=0.4513\n",
            "Epoch 05 | train=0.4368  val=0.3965\n"
          ]
        }
      ]
    },
    {
      "cell_type": "code",
      "source": [
        "from sklearn.metrics import precision_recall_curve, roc_curve, roc_auc_score, auc, classification_report, confusion_matrix\n",
        "\n",
        "# 검증 예측 확률\n",
        "model.eval()\n",
        "all_logits, all_y = [], []\n",
        "with torch.no_grad():\n",
        "    for xb, yb in val_loader:\n",
        "        lg = model(xb.to(DEVICE)).cpu().numpy().ravel()\n",
        "        all_logits.append(lg); all_y.append(yb.numpy().ravel())\n",
        "logits = np.concatenate(all_logits)\n",
        "y_true = np.concatenate(all_y)\n",
        "y_prob = 1/(1+np.exp(-logits))\n",
        "\n",
        "# PR/ROC, 임계값 튜닝(F1)\n",
        "prec, rec, ths = precision_recall_curve(y_true, y_prob)\n",
        "f1s = 2*prec*rec/(prec+rec+1e-9)\n",
        "best_idx = int(np.nanargmax(f1s))\n",
        "best_thr = ths[best_idx] if best_idx < len(ths) else 0.5\n",
        "pr_auc = auc(rec, prec)\n",
        "roc_auc = roc_auc_score(y_true, y_prob)\n",
        "y_pred = (y_prob >= best_thr).astype(int)\n",
        "cm = confusion_matrix(y_true, y_pred)\n",
        "\n",
        "print(f\"[VAL] PR-AUC={pr_auc:.4f}  ROC-AUC={roc_auc:.4f}  BestF1={f1s[best_idx]:.4f} @thr={best_thr:.3f}\")\n",
        "print(classification_report(y_true, y_pred, target_names=['No Estrus','Estrus'], digits=4))\n",
        "print(\"Confusion matrix:\\n\", cm)\n",
        "\n",
        "# 시각화\n",
        "plt.figure(); plt.plot(rec, prec, label=f\"PR (AUC={pr_auc:.3f})\")\n",
        "plt.scatter(rec[best_idx], prec[best_idx]); plt.xlabel('Recall'); plt.ylabel('Precision')\n",
        "plt.grid(True, alpha=0.3); plt.legend(); plt.show()\n",
        "\n",
        "fpr, tpr, _ = roc_curve(y_true, y_prob)\n",
        "plt.figure(); plt.plot([0,1],[0,1],'--'); plt.plot(fpr, tpr, label=f\"ROC (AUC={roc_auc:.3f})\")\n",
        "plt.xlabel('FPR'); plt.ylabel('TPR'); plt.grid(True, alpha=0.3); plt.legend(); plt.show()\n"
      ],
      "metadata": {
        "id": "a0518fbkOWq0"
      },
      "execution_count": null,
      "outputs": []
    }
  ]
}