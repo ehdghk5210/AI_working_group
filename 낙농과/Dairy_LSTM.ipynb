{
  "nbformat": 4,
  "nbformat_minor": 0,
  "metadata": {
    "colab": {
      "provenance": [],
      "gpuType": "T4"
    },
    "kernelspec": {
      "name": "python3",
      "display_name": "Python 3"
    },
    "language_info": {
      "name": "python"
    },
    "accelerator": "GPU"
  },
  "cells": [
    {
      "cell_type": "markdown",
      "source": [
        "# 파일 업로드"
      ],
      "metadata": {
        "id": "XFUDoQrgXMLI"
      }
    },
    {
      "cell_type": "markdown",
      "source": [
        "[링크]에서 만든 csv 데이터 압축 파일을 업로드합니다.\n",
        "\n",
        "왼쪽 파일 탭에서 업로드 하거나 아래의 코드를 실행합니다."
      ],
      "metadata": {
        "id": "qP-teejBXYk9"
      }
    },
    {
      "cell_type": "code",
      "source": [
        "from google.colab import files\n",
        "\n",
        "uploaded = files.upload()\n",
        "\n",
        "for fn in uploaded.keys():\n",
        "  print('User uploaded file \"{name}\" with length {length} bytes'.format(\n",
        "      name=fn, length=len(uploaded[fn])))"
      ],
      "metadata": {
        "colab": {
          "base_uri": "https://localhost:8080/",
          "height": 111
        },
        "id": "gKu7q7hyVUQu",
        "outputId": "308f63e5-d130-43f4-a2fa-62b0847bd564"
      },
      "execution_count": null,
      "outputs": [
        {
          "output_type": "display_data",
          "data": {
            "text/plain": [
              "<IPython.core.display.HTML object>"
            ],
            "text/html": [
              "\n",
              "     <input type=\"file\" id=\"files-0d95dfd1-f54a-4f51-b2ed-099cfb3b9990\" name=\"files[]\" multiple disabled\n",
              "        style=\"border:none\" />\n",
              "     <output id=\"result-0d95dfd1-f54a-4f51-b2ed-099cfb3b9990\">\n",
              "      Upload widget is only available when the cell has been executed in the\n",
              "      current browser session. Please rerun this cell to enable.\n",
              "      </output>\n",
              "      <script>// Copyright 2017 Google LLC\n",
              "//\n",
              "// Licensed under the Apache License, Version 2.0 (the \"License\");\n",
              "// you may not use this file except in compliance with the License.\n",
              "// You may obtain a copy of the License at\n",
              "//\n",
              "//      http://www.apache.org/licenses/LICENSE-2.0\n",
              "//\n",
              "// Unless required by applicable law or agreed to in writing, software\n",
              "// distributed under the License is distributed on an \"AS IS\" BASIS,\n",
              "// WITHOUT WARRANTIES OR CONDITIONS OF ANY KIND, either express or implied.\n",
              "// See the License for the specific language governing permissions and\n",
              "// limitations under the License.\n",
              "\n",
              "/**\n",
              " * @fileoverview Helpers for google.colab Python module.\n",
              " */\n",
              "(function(scope) {\n",
              "function span(text, styleAttributes = {}) {\n",
              "  const element = document.createElement('span');\n",
              "  element.textContent = text;\n",
              "  for (const key of Object.keys(styleAttributes)) {\n",
              "    element.style[key] = styleAttributes[key];\n",
              "  }\n",
              "  return element;\n",
              "}\n",
              "\n",
              "// Max number of bytes which will be uploaded at a time.\n",
              "const MAX_PAYLOAD_SIZE = 100 * 1024;\n",
              "\n",
              "function _uploadFiles(inputId, outputId) {\n",
              "  const steps = uploadFilesStep(inputId, outputId);\n",
              "  const outputElement = document.getElementById(outputId);\n",
              "  // Cache steps on the outputElement to make it available for the next call\n",
              "  // to uploadFilesContinue from Python.\n",
              "  outputElement.steps = steps;\n",
              "\n",
              "  return _uploadFilesContinue(outputId);\n",
              "}\n",
              "\n",
              "// This is roughly an async generator (not supported in the browser yet),\n",
              "// where there are multiple asynchronous steps and the Python side is going\n",
              "// to poll for completion of each step.\n",
              "// This uses a Promise to block the python side on completion of each step,\n",
              "// then passes the result of the previous step as the input to the next step.\n",
              "function _uploadFilesContinue(outputId) {\n",
              "  const outputElement = document.getElementById(outputId);\n",
              "  const steps = outputElement.steps;\n",
              "\n",
              "  const next = steps.next(outputElement.lastPromiseValue);\n",
              "  return Promise.resolve(next.value.promise).then((value) => {\n",
              "    // Cache the last promise value to make it available to the next\n",
              "    // step of the generator.\n",
              "    outputElement.lastPromiseValue = value;\n",
              "    return next.value.response;\n",
              "  });\n",
              "}\n",
              "\n",
              "/**\n",
              " * Generator function which is called between each async step of the upload\n",
              " * process.\n",
              " * @param {string} inputId Element ID of the input file picker element.\n",
              " * @param {string} outputId Element ID of the output display.\n",
              " * @return {!Iterable<!Object>} Iterable of next steps.\n",
              " */\n",
              "function* uploadFilesStep(inputId, outputId) {\n",
              "  const inputElement = document.getElementById(inputId);\n",
              "  inputElement.disabled = false;\n",
              "\n",
              "  const outputElement = document.getElementById(outputId);\n",
              "  outputElement.innerHTML = '';\n",
              "\n",
              "  const pickedPromise = new Promise((resolve) => {\n",
              "    inputElement.addEventListener('change', (e) => {\n",
              "      resolve(e.target.files);\n",
              "    });\n",
              "  });\n",
              "\n",
              "  const cancel = document.createElement('button');\n",
              "  inputElement.parentElement.appendChild(cancel);\n",
              "  cancel.textContent = 'Cancel upload';\n",
              "  const cancelPromise = new Promise((resolve) => {\n",
              "    cancel.onclick = () => {\n",
              "      resolve(null);\n",
              "    };\n",
              "  });\n",
              "\n",
              "  // Wait for the user to pick the files.\n",
              "  const files = yield {\n",
              "    promise: Promise.race([pickedPromise, cancelPromise]),\n",
              "    response: {\n",
              "      action: 'starting',\n",
              "    }\n",
              "  };\n",
              "\n",
              "  cancel.remove();\n",
              "\n",
              "  // Disable the input element since further picks are not allowed.\n",
              "  inputElement.disabled = true;\n",
              "\n",
              "  if (!files) {\n",
              "    return {\n",
              "      response: {\n",
              "        action: 'complete',\n",
              "      }\n",
              "    };\n",
              "  }\n",
              "\n",
              "  for (const file of files) {\n",
              "    const li = document.createElement('li');\n",
              "    li.append(span(file.name, {fontWeight: 'bold'}));\n",
              "    li.append(span(\n",
              "        `(${file.type || 'n/a'}) - ${file.size} bytes, ` +\n",
              "        `last modified: ${\n",
              "            file.lastModifiedDate ? file.lastModifiedDate.toLocaleDateString() :\n",
              "                                    'n/a'} - `));\n",
              "    const percent = span('0% done');\n",
              "    li.appendChild(percent);\n",
              "\n",
              "    outputElement.appendChild(li);\n",
              "\n",
              "    const fileDataPromise = new Promise((resolve) => {\n",
              "      const reader = new FileReader();\n",
              "      reader.onload = (e) => {\n",
              "        resolve(e.target.result);\n",
              "      };\n",
              "      reader.readAsArrayBuffer(file);\n",
              "    });\n",
              "    // Wait for the data to be ready.\n",
              "    let fileData = yield {\n",
              "      promise: fileDataPromise,\n",
              "      response: {\n",
              "        action: 'continue',\n",
              "      }\n",
              "    };\n",
              "\n",
              "    // Use a chunked sending to avoid message size limits. See b/62115660.\n",
              "    let position = 0;\n",
              "    do {\n",
              "      const length = Math.min(fileData.byteLength - position, MAX_PAYLOAD_SIZE);\n",
              "      const chunk = new Uint8Array(fileData, position, length);\n",
              "      position += length;\n",
              "\n",
              "      const base64 = btoa(String.fromCharCode.apply(null, chunk));\n",
              "      yield {\n",
              "        response: {\n",
              "          action: 'append',\n",
              "          file: file.name,\n",
              "          data: base64,\n",
              "        },\n",
              "      };\n",
              "\n",
              "      let percentDone = fileData.byteLength === 0 ?\n",
              "          100 :\n",
              "          Math.round((position / fileData.byteLength) * 100);\n",
              "      percent.textContent = `${percentDone}% done`;\n",
              "\n",
              "    } while (position < fileData.byteLength);\n",
              "  }\n",
              "\n",
              "  // All done.\n",
              "  yield {\n",
              "    response: {\n",
              "      action: 'complete',\n",
              "    }\n",
              "  };\n",
              "}\n",
              "\n",
              "scope.google = scope.google || {};\n",
              "scope.google.colab = scope.google.colab || {};\n",
              "scope.google.colab._files = {\n",
              "  _uploadFiles,\n",
              "  _uploadFilesContinue,\n",
              "};\n",
              "})(self);\n",
              "</script> "
            ]
          },
          "metadata": {}
        },
        {
          "output_type": "stream",
          "name": "stdout",
          "text": [
            "Saving cow_csv.zip to cow_csv.zip\n",
            "User uploaded file \"cow_csv.zip\" with length 8685509 bytes\n"
          ]
        }
      ]
    },
    {
      "cell_type": "markdown",
      "source": [
        "업로드한 파일의 압축을 해제합니다."
      ],
      "metadata": {
        "id": "oSkllPGZXkSs"
      }
    },
    {
      "cell_type": "code",
      "source": [
        "!unzip -q cow_csv.zip # 압축파일 이름 확인"
      ],
      "metadata": {
        "id": "k80jWPDhYWqT"
      },
      "execution_count": null,
      "outputs": []
    },
    {
      "cell_type": "code",
      "source": [
        "!ls"
      ],
      "metadata": {
        "colab": {
          "base_uri": "https://localhost:8080/"
        },
        "id": "DfxTCgishi1L",
        "outputId": "c1c07637-3d31-4de9-eb7f-e2eb326f4e21"
      },
      "execution_count": null,
      "outputs": [
        {
          "output_type": "stream",
          "name": "stdout",
          "text": [
            "cow  cow_csv.zip  sample_data\n"
          ]
        }
      ]
    },
    {
      "cell_type": "code",
      "source": [
        "!ls cow"
      ],
      "metadata": {
        "colab": {
          "base_uri": "https://localhost:8080/"
        },
        "id": "1m5S5AI4hqmF",
        "outputId": "08e61dbd-fde3-4d3b-d224-9f2fea47a6b3"
      },
      "execution_count": null,
      "outputs": [
        {
          "output_type": "stream",
          "name": "stdout",
          "text": [
            "'월별 lely 활동량 (24.01).csv'\t'월별 lely 활동량 (24.07).csv'\n",
            "'월별 lely 활동량 (24.02).csv'\t'월별 lely 활동량 (24.08).csv'\n",
            "'월별 lely 활동량 (24.03).csv'\t'월별 lely 활동량 (24.09).csv'\n",
            "'월별 lely 활동량 (24.04).csv'\t'월별 lely 활동량 (24.10).csv'\n",
            "'월별 lely 활동량 (24.05).csv'\t'월별 lely 활동량 (24.11).csv'\n",
            "'월별 lely 활동량 (24.06).csv'\t'월별 lely 활동량 (24.12)~12.22.csv'\n"
          ]
        }
      ]
    },
    {
      "cell_type": "markdown",
      "source": [
        "# 데이터셋"
      ],
      "metadata": {
        "id": "l6XHk0wmkIFi"
      }
    },
    {
      "cell_type": "markdown",
      "source": [
        "## 1. 데이터 전처리\n",
        "\n"
      ],
      "metadata": {
        "id": "0F2i92Txm0Jg"
      }
    },
    {
      "cell_type": "code",
      "source": [
        "import glob\n",
        "import pandas as pd\n",
        "import numpy as np"
      ],
      "metadata": {
        "id": "hAkFiegUjxhF"
      },
      "execution_count": null,
      "outputs": []
    },
    {
      "cell_type": "code",
      "source": [
        "csv_list = glob.glob('./cow/*.csv')\n",
        "csv_list.sort()\n",
        "\n",
        "tmp = [] # 데이터를 임시저장할  빈 리스트\n",
        "for csvfile in csv_list:\n",
        "    try:\n",
        "        print(csvfile)\n",
        "        df = pd.read_csv(csvfile, low_memory=False)\n",
        "\n",
        "        if '시간' in df.columns:\n",
        "            df.rename(columns={'시간': '시간(시:분)'}, inplace=True)\n",
        "\n",
        "        selected_cols = ['개체 번호', '날짜', '시간(시:분)', '활동량', '전체 반추 시간(분)', '발정 확률']\n",
        "        df = df[selected_cols]\n",
        "\n",
        "        df = df.dropna(axis=0, inplace=False)\n",
        "\n",
        "        tmp.append(df)\n",
        "    except Exception as e:\n",
        "        print(f\"{csvfile} 처리 중 오류 발생:\", e)\n",
        "\n",
        "data = pd.concat(tmp, ignore_index=True)"
      ],
      "metadata": {
        "colab": {
          "base_uri": "https://localhost:8080/"
        },
        "id": "uYo7ZJiZlvyS",
        "outputId": "f189f646-0ad2-4603-9013-3dcca0562a07"
      },
      "execution_count": null,
      "outputs": [
        {
          "output_type": "stream",
          "name": "stdout",
          "text": [
            "./cow/월별 lely 활동량 (24.01).csv\n",
            "./cow/월별 lely 활동량 (24.02).csv\n",
            "./cow/월별 lely 활동량 (24.03).csv\n",
            "./cow/월별 lely 활동량 (24.04).csv\n",
            "./cow/월별 lely 활동량 (24.05).csv\n",
            "./cow/월별 lely 활동량 (24.06).csv\n",
            "./cow/월별 lely 활동량 (24.07).csv\n",
            "./cow/월별 lely 활동량 (24.08).csv\n",
            "./cow/월별 lely 활동량 (24.09).csv\n",
            "./cow/월별 lely 활동량 (24.10).csv\n",
            "./cow/월별 lely 활동량 (24.11).csv\n",
            "./cow/월별 lely 활동량 (24.12)~12.22.csv\n"
          ]
        }
      ]
    },
    {
      "cell_type": "code",
      "source": [
        "# 날짜와 시간 합쳐서 datetime\n",
        "data['datetime'] = pd.to_datetime(data['날짜'] + ' ' + data['시간(시:분)'])\n",
        "# 필요한 컬럼만 추출\n",
        "data = data[['개체 번호', 'datetime', '활동량', '전체 반추 시간(분)', '발정 확률']]\n",
        "data.sort_values(['개체 번호', 'datetime'], inplace=True)\n",
        "data.head()"
      ],
      "metadata": {
        "colab": {
          "base_uri": "https://localhost:8080/",
          "height": 313
        },
        "id": "6YwDw1tSl-g0",
        "outputId": "f7cb846f-e94c-4383-add4-d4bf9e5ad6ed"
      },
      "execution_count": null,
      "outputs": [
        {
          "output_type": "stream",
          "name": "stderr",
          "text": [
            "/tmp/ipython-input-9-2639366942.py:5: SettingWithCopyWarning: \n",
            "A value is trying to be set on a copy of a slice from a DataFrame\n",
            "\n",
            "See the caveats in the documentation: https://pandas.pydata.org/pandas-docs/stable/user_guide/indexing.html#returning-a-view-versus-a-copy\n",
            "  data.sort_values(['개체 번호', 'datetime'], inplace=True)\n"
          ]
        },
        {
          "output_type": "execute_result",
          "data": {
            "text/plain": [
              "     개체 번호            datetime   활동량  전체 반추 시간(분)  발정 확률\n",
              "87       1 2024-01-01 00:00:00  53.0        465.0   -2.0\n",
              "225      1 2024-01-01 02:00:00  37.0        483.0   -2.0\n",
              "363      1 2024-01-01 04:00:00  34.0        469.0   -3.0\n",
              "501      1 2024-01-01 06:00:00  45.0        486.0   -4.0\n",
              "639      1 2024-01-01 08:00:00  47.0        468.0   -7.0"
            ],
            "text/html": [
              "\n",
              "  <div id=\"df-43c90b4d-f8bd-441c-9094-c226ccf59ac6\" class=\"colab-df-container\">\n",
              "    <div>\n",
              "<style scoped>\n",
              "    .dataframe tbody tr th:only-of-type {\n",
              "        vertical-align: middle;\n",
              "    }\n",
              "\n",
              "    .dataframe tbody tr th {\n",
              "        vertical-align: top;\n",
              "    }\n",
              "\n",
              "    .dataframe thead th {\n",
              "        text-align: right;\n",
              "    }\n",
              "</style>\n",
              "<table border=\"1\" class=\"dataframe\">\n",
              "  <thead>\n",
              "    <tr style=\"text-align: right;\">\n",
              "      <th></th>\n",
              "      <th>개체 번호</th>\n",
              "      <th>datetime</th>\n",
              "      <th>활동량</th>\n",
              "      <th>전체 반추 시간(분)</th>\n",
              "      <th>발정 확률</th>\n",
              "    </tr>\n",
              "  </thead>\n",
              "  <tbody>\n",
              "    <tr>\n",
              "      <th>87</th>\n",
              "      <td>1</td>\n",
              "      <td>2024-01-01 00:00:00</td>\n",
              "      <td>53.0</td>\n",
              "      <td>465.0</td>\n",
              "      <td>-2.0</td>\n",
              "    </tr>\n",
              "    <tr>\n",
              "      <th>225</th>\n",
              "      <td>1</td>\n",
              "      <td>2024-01-01 02:00:00</td>\n",
              "      <td>37.0</td>\n",
              "      <td>483.0</td>\n",
              "      <td>-2.0</td>\n",
              "    </tr>\n",
              "    <tr>\n",
              "      <th>363</th>\n",
              "      <td>1</td>\n",
              "      <td>2024-01-01 04:00:00</td>\n",
              "      <td>34.0</td>\n",
              "      <td>469.0</td>\n",
              "      <td>-3.0</td>\n",
              "    </tr>\n",
              "    <tr>\n",
              "      <th>501</th>\n",
              "      <td>1</td>\n",
              "      <td>2024-01-01 06:00:00</td>\n",
              "      <td>45.0</td>\n",
              "      <td>486.0</td>\n",
              "      <td>-4.0</td>\n",
              "    </tr>\n",
              "    <tr>\n",
              "      <th>639</th>\n",
              "      <td>1</td>\n",
              "      <td>2024-01-01 08:00:00</td>\n",
              "      <td>47.0</td>\n",
              "      <td>468.0</td>\n",
              "      <td>-7.0</td>\n",
              "    </tr>\n",
              "  </tbody>\n",
              "</table>\n",
              "</div>\n",
              "    <div class=\"colab-df-buttons\">\n",
              "\n",
              "  <div class=\"colab-df-container\">\n",
              "    <button class=\"colab-df-convert\" onclick=\"convertToInteractive('df-43c90b4d-f8bd-441c-9094-c226ccf59ac6')\"\n",
              "            title=\"Convert this dataframe to an interactive table.\"\n",
              "            style=\"display:none;\">\n",
              "\n",
              "  <svg xmlns=\"http://www.w3.org/2000/svg\" height=\"24px\" viewBox=\"0 -960 960 960\">\n",
              "    <path d=\"M120-120v-720h720v720H120Zm60-500h600v-160H180v160Zm220 220h160v-160H400v160Zm0 220h160v-160H400v160ZM180-400h160v-160H180v160Zm440 0h160v-160H620v160ZM180-180h160v-160H180v160Zm440 0h160v-160H620v160Z\"/>\n",
              "  </svg>\n",
              "    </button>\n",
              "\n",
              "  <style>\n",
              "    .colab-df-container {\n",
              "      display:flex;\n",
              "      gap: 12px;\n",
              "    }\n",
              "\n",
              "    .colab-df-convert {\n",
              "      background-color: #E8F0FE;\n",
              "      border: none;\n",
              "      border-radius: 50%;\n",
              "      cursor: pointer;\n",
              "      display: none;\n",
              "      fill: #1967D2;\n",
              "      height: 32px;\n",
              "      padding: 0 0 0 0;\n",
              "      width: 32px;\n",
              "    }\n",
              "\n",
              "    .colab-df-convert:hover {\n",
              "      background-color: #E2EBFA;\n",
              "      box-shadow: 0px 1px 2px rgba(60, 64, 67, 0.3), 0px 1px 3px 1px rgba(60, 64, 67, 0.15);\n",
              "      fill: #174EA6;\n",
              "    }\n",
              "\n",
              "    .colab-df-buttons div {\n",
              "      margin-bottom: 4px;\n",
              "    }\n",
              "\n",
              "    [theme=dark] .colab-df-convert {\n",
              "      background-color: #3B4455;\n",
              "      fill: #D2E3FC;\n",
              "    }\n",
              "\n",
              "    [theme=dark] .colab-df-convert:hover {\n",
              "      background-color: #434B5C;\n",
              "      box-shadow: 0px 1px 3px 1px rgba(0, 0, 0, 0.15);\n",
              "      filter: drop-shadow(0px 1px 2px rgba(0, 0, 0, 0.3));\n",
              "      fill: #FFFFFF;\n",
              "    }\n",
              "  </style>\n",
              "\n",
              "    <script>\n",
              "      const buttonEl =\n",
              "        document.querySelector('#df-43c90b4d-f8bd-441c-9094-c226ccf59ac6 button.colab-df-convert');\n",
              "      buttonEl.style.display =\n",
              "        google.colab.kernel.accessAllowed ? 'block' : 'none';\n",
              "\n",
              "      async function convertToInteractive(key) {\n",
              "        const element = document.querySelector('#df-43c90b4d-f8bd-441c-9094-c226ccf59ac6');\n",
              "        const dataTable =\n",
              "          await google.colab.kernel.invokeFunction('convertToInteractive',\n",
              "                                                    [key], {});\n",
              "        if (!dataTable) return;\n",
              "\n",
              "        const docLinkHtml = 'Like what you see? Visit the ' +\n",
              "          '<a target=\"_blank\" href=https://colab.research.google.com/notebooks/data_table.ipynb>data table notebook</a>'\n",
              "          + ' to learn more about interactive tables.';\n",
              "        element.innerHTML = '';\n",
              "        dataTable['output_type'] = 'display_data';\n",
              "        await google.colab.output.renderOutput(dataTable, element);\n",
              "        const docLink = document.createElement('div');\n",
              "        docLink.innerHTML = docLinkHtml;\n",
              "        element.appendChild(docLink);\n",
              "      }\n",
              "    </script>\n",
              "  </div>\n",
              "\n",
              "\n",
              "    <div id=\"df-853a7b5b-b9c2-4214-95f4-605196d9865a\">\n",
              "      <button class=\"colab-df-quickchart\" onclick=\"quickchart('df-853a7b5b-b9c2-4214-95f4-605196d9865a')\"\n",
              "                title=\"Suggest charts\"\n",
              "                style=\"display:none;\">\n",
              "\n",
              "<svg xmlns=\"http://www.w3.org/2000/svg\" height=\"24px\"viewBox=\"0 0 24 24\"\n",
              "     width=\"24px\">\n",
              "    <g>\n",
              "        <path d=\"M19 3H5c-1.1 0-2 .9-2 2v14c0 1.1.9 2 2 2h14c1.1 0 2-.9 2-2V5c0-1.1-.9-2-2-2zM9 17H7v-7h2v7zm4 0h-2V7h2v10zm4 0h-2v-4h2v4z\"/>\n",
              "    </g>\n",
              "</svg>\n",
              "      </button>\n",
              "\n",
              "<style>\n",
              "  .colab-df-quickchart {\n",
              "      --bg-color: #E8F0FE;\n",
              "      --fill-color: #1967D2;\n",
              "      --hover-bg-color: #E2EBFA;\n",
              "      --hover-fill-color: #174EA6;\n",
              "      --disabled-fill-color: #AAA;\n",
              "      --disabled-bg-color: #DDD;\n",
              "  }\n",
              "\n",
              "  [theme=dark] .colab-df-quickchart {\n",
              "      --bg-color: #3B4455;\n",
              "      --fill-color: #D2E3FC;\n",
              "      --hover-bg-color: #434B5C;\n",
              "      --hover-fill-color: #FFFFFF;\n",
              "      --disabled-bg-color: #3B4455;\n",
              "      --disabled-fill-color: #666;\n",
              "  }\n",
              "\n",
              "  .colab-df-quickchart {\n",
              "    background-color: var(--bg-color);\n",
              "    border: none;\n",
              "    border-radius: 50%;\n",
              "    cursor: pointer;\n",
              "    display: none;\n",
              "    fill: var(--fill-color);\n",
              "    height: 32px;\n",
              "    padding: 0;\n",
              "    width: 32px;\n",
              "  }\n",
              "\n",
              "  .colab-df-quickchart:hover {\n",
              "    background-color: var(--hover-bg-color);\n",
              "    box-shadow: 0 1px 2px rgba(60, 64, 67, 0.3), 0 1px 3px 1px rgba(60, 64, 67, 0.15);\n",
              "    fill: var(--button-hover-fill-color);\n",
              "  }\n",
              "\n",
              "  .colab-df-quickchart-complete:disabled,\n",
              "  .colab-df-quickchart-complete:disabled:hover {\n",
              "    background-color: var(--disabled-bg-color);\n",
              "    fill: var(--disabled-fill-color);\n",
              "    box-shadow: none;\n",
              "  }\n",
              "\n",
              "  .colab-df-spinner {\n",
              "    border: 2px solid var(--fill-color);\n",
              "    border-color: transparent;\n",
              "    border-bottom-color: var(--fill-color);\n",
              "    animation:\n",
              "      spin 1s steps(1) infinite;\n",
              "  }\n",
              "\n",
              "  @keyframes spin {\n",
              "    0% {\n",
              "      border-color: transparent;\n",
              "      border-bottom-color: var(--fill-color);\n",
              "      border-left-color: var(--fill-color);\n",
              "    }\n",
              "    20% {\n",
              "      border-color: transparent;\n",
              "      border-left-color: var(--fill-color);\n",
              "      border-top-color: var(--fill-color);\n",
              "    }\n",
              "    30% {\n",
              "      border-color: transparent;\n",
              "      border-left-color: var(--fill-color);\n",
              "      border-top-color: var(--fill-color);\n",
              "      border-right-color: var(--fill-color);\n",
              "    }\n",
              "    40% {\n",
              "      border-color: transparent;\n",
              "      border-right-color: var(--fill-color);\n",
              "      border-top-color: var(--fill-color);\n",
              "    }\n",
              "    60% {\n",
              "      border-color: transparent;\n",
              "      border-right-color: var(--fill-color);\n",
              "    }\n",
              "    80% {\n",
              "      border-color: transparent;\n",
              "      border-right-color: var(--fill-color);\n",
              "      border-bottom-color: var(--fill-color);\n",
              "    }\n",
              "    90% {\n",
              "      border-color: transparent;\n",
              "      border-bottom-color: var(--fill-color);\n",
              "    }\n",
              "  }\n",
              "</style>\n",
              "\n",
              "      <script>\n",
              "        async function quickchart(key) {\n",
              "          const quickchartButtonEl =\n",
              "            document.querySelector('#' + key + ' button');\n",
              "          quickchartButtonEl.disabled = true;  // To prevent multiple clicks.\n",
              "          quickchartButtonEl.classList.add('colab-df-spinner');\n",
              "          try {\n",
              "            const charts = await google.colab.kernel.invokeFunction(\n",
              "                'suggestCharts', [key], {});\n",
              "          } catch (error) {\n",
              "            console.error('Error during call to suggestCharts:', error);\n",
              "          }\n",
              "          quickchartButtonEl.classList.remove('colab-df-spinner');\n",
              "          quickchartButtonEl.classList.add('colab-df-quickchart-complete');\n",
              "        }\n",
              "        (() => {\n",
              "          let quickchartButtonEl =\n",
              "            document.querySelector('#df-853a7b5b-b9c2-4214-95f4-605196d9865a button');\n",
              "          quickchartButtonEl.style.display =\n",
              "            google.colab.kernel.accessAllowed ? 'block' : 'none';\n",
              "        })();\n",
              "      </script>\n",
              "    </div>\n",
              "\n",
              "    </div>\n",
              "  </div>\n"
            ],
            "application/vnd.google.colaboratory.intrinsic+json": {
              "type": "dataframe",
              "variable_name": "data"
            }
          },
          "metadata": {},
          "execution_count": 9
        }
      ]
    },
    {
      "cell_type": "code",
      "source": [
        "print(data.shape) # (504678, 5)"
      ],
      "metadata": {
        "colab": {
          "base_uri": "https://localhost:8080/"
        },
        "id": "bG3SQg06TWQr",
        "outputId": "6eae92f6-e02a-459f-ee1a-62692f995de1"
      },
      "execution_count": null,
      "outputs": [
        {
          "output_type": "stream",
          "name": "stdout",
          "text": [
            "(504678, 5)\n"
          ]
        }
      ]
    },
    {
      "cell_type": "markdown",
      "source": [
        "정제한 데이터를 저장하고 싶다면,"
      ],
      "metadata": {
        "id": "TLD-cRwxLe9B"
      }
    },
    {
      "cell_type": "code",
      "source": [
        "data.to_csv('cow_data.csv', encoding='utf-8-sig', index=False)"
      ],
      "metadata": {
        "id": "gfbkSUJGLj6I"
      },
      "execution_count": null,
      "outputs": []
    },
    {
      "cell_type": "code",
      "source": [
        "files.download('cow_data.csv')"
      ],
      "metadata": {
        "colab": {
          "base_uri": "https://localhost:8080/",
          "height": 17
        },
        "id": "7xoh5YdWL5th",
        "outputId": "fa424728-a390-4391-cdf9-914bb8b2a37a"
      },
      "execution_count": null,
      "outputs": [
        {
          "output_type": "display_data",
          "data": {
            "text/plain": [
              "<IPython.core.display.Javascript object>"
            ],
            "application/javascript": [
              "\n",
              "    async function download(id, filename, size) {\n",
              "      if (!google.colab.kernel.accessAllowed) {\n",
              "        return;\n",
              "      }\n",
              "      const div = document.createElement('div');\n",
              "      const label = document.createElement('label');\n",
              "      label.textContent = `Downloading \"${filename}\": `;\n",
              "      div.appendChild(label);\n",
              "      const progress = document.createElement('progress');\n",
              "      progress.max = size;\n",
              "      div.appendChild(progress);\n",
              "      document.body.appendChild(div);\n",
              "\n",
              "      const buffers = [];\n",
              "      let downloaded = 0;\n",
              "\n",
              "      const channel = await google.colab.kernel.comms.open(id);\n",
              "      // Send a message to notify the kernel that we're ready.\n",
              "      channel.send({})\n",
              "\n",
              "      for await (const message of channel.messages) {\n",
              "        // Send a message to notify the kernel that we're ready.\n",
              "        channel.send({})\n",
              "        if (message.buffers) {\n",
              "          for (const buffer of message.buffers) {\n",
              "            buffers.push(buffer);\n",
              "            downloaded += buffer.byteLength;\n",
              "            progress.value = downloaded;\n",
              "          }\n",
              "        }\n",
              "      }\n",
              "      const blob = new Blob(buffers, {type: 'application/binary'});\n",
              "      const a = document.createElement('a');\n",
              "      a.href = window.URL.createObjectURL(blob);\n",
              "      a.download = filename;\n",
              "      div.appendChild(a);\n",
              "      a.click();\n",
              "      div.remove();\n",
              "    }\n",
              "  "
            ]
          },
          "metadata": {}
        },
        {
          "output_type": "display_data",
          "data": {
            "text/plain": [
              "<IPython.core.display.Javascript object>"
            ],
            "application/javascript": [
              "download(\"download_81af9735-50bb-4dfb-9bb7-fdac3a80911b\", \"cow_data.csv\", 19710064)"
            ]
          },
          "metadata": {}
        }
      ]
    },
    {
      "cell_type": "markdown",
      "source": [
        "===============================================================\n",
        "\n",
        "\n",
        "***TIP:***\n",
        "\n",
        "세션 재시작 시 위 과정을 반복하지 말고 저장한 csv 파일만 간편하게 불러오세요!"
      ],
      "metadata": {
        "id": "Y8WJaR39MWtK"
      }
    },
    {
      "cell_type": "code",
      "source": [
        "files.upload()"
      ],
      "metadata": {
        "id": "pv8fxB4cMimO"
      },
      "execution_count": null,
      "outputs": []
    },
    {
      "cell_type": "code",
      "source": [
        "import pandas as pd\n",
        "import numpy as np\n",
        "\n",
        "data = pd.read_csv('dairy_data.csv', low_memory=False)"
      ],
      "metadata": {
        "id": "Mg79BmgRMnfs"
      },
      "execution_count": null,
      "outputs": []
    },
    {
      "cell_type": "markdown",
      "source": [
        "==============================================================="
      ],
      "metadata": {
        "id": "z_1az4wjM4QC"
      }
    },
    {
      "cell_type": "markdown",
      "source": [
        "## 2. 데이터셋 구성"
      ],
      "metadata": {
        "id": "nTbldw0TkL0t"
      }
    },
    {
      "cell_type": "markdown",
      "source": [
        "todo:\n",
        "- 개체별 train/val split\n",
        "- 정규화\n",
        "- https://velog.io/@choonsik_mom/pytorch%EB%A1%9C-LSTM-%EA%B5%AC%ED%98%84%ED%95%98%EA%B8%B0 참고하여 다시 작성\n"
      ],
      "metadata": {
        "id": "Tpokcvj1lGh3"
      }
    },
    {
      "cell_type": "markdown",
      "source": [
        "### 데이터 정규화\n",
        "* 정규화 없이 실험해보고, 정규화 적용 후 실험 결과와 비교를 추천합니다.\n",
        "* Min-max 정규화를 적용합니다."
      ],
      "metadata": {
        "id": "Tm5caIf-j11E"
      }
    },
    {
      "cell_type": "code",
      "source": [
        "def min_max_norm(col):\n",
        "    return (col - col.min()) / (col.max() - col.min())"
      ],
      "metadata": {
        "id": "vlpMBAdFOHvm"
      },
      "execution_count": null,
      "outputs": []
    },
    {
      "cell_type": "code",
      "source": [
        "data_norm = data.copy()\n",
        "data_norm['발정 확률'] = min_max_norm(data_norm['발정 확률'])\n",
        "data_norm.head()"
      ],
      "metadata": {
        "colab": {
          "base_uri": "https://localhost:8080/",
          "height": 206
        },
        "id": "haqIV8_SOYiT",
        "outputId": "fed2a05e-db12-4bc7-dd9b-cee09cad3062"
      },
      "execution_count": null,
      "outputs": [
        {
          "output_type": "execute_result",
          "data": {
            "text/plain": [
              "     개체 번호            datetime   활동량  전체 반추 시간(분)     발정 확률\n",
              "87       1 2024-01-01 00:00:00  53.0        465.0  0.500000\n",
              "225      1 2024-01-01 02:00:00  37.0        483.0  0.500000\n",
              "363      1 2024-01-01 04:00:00  34.0        469.0  0.494898\n",
              "501      1 2024-01-01 06:00:00  45.0        486.0  0.489796\n",
              "639      1 2024-01-01 08:00:00  47.0        468.0  0.474490"
            ],
            "text/html": [
              "\n",
              "  <div id=\"df-92c2b18e-1180-48e1-97bf-7cb1445da923\" class=\"colab-df-container\">\n",
              "    <div>\n",
              "<style scoped>\n",
              "    .dataframe tbody tr th:only-of-type {\n",
              "        vertical-align: middle;\n",
              "    }\n",
              "\n",
              "    .dataframe tbody tr th {\n",
              "        vertical-align: top;\n",
              "    }\n",
              "\n",
              "    .dataframe thead th {\n",
              "        text-align: right;\n",
              "    }\n",
              "</style>\n",
              "<table border=\"1\" class=\"dataframe\">\n",
              "  <thead>\n",
              "    <tr style=\"text-align: right;\">\n",
              "      <th></th>\n",
              "      <th>개체 번호</th>\n",
              "      <th>datetime</th>\n",
              "      <th>활동량</th>\n",
              "      <th>전체 반추 시간(분)</th>\n",
              "      <th>발정 확률</th>\n",
              "    </tr>\n",
              "  </thead>\n",
              "  <tbody>\n",
              "    <tr>\n",
              "      <th>87</th>\n",
              "      <td>1</td>\n",
              "      <td>2024-01-01 00:00:00</td>\n",
              "      <td>53.0</td>\n",
              "      <td>465.0</td>\n",
              "      <td>0.500000</td>\n",
              "    </tr>\n",
              "    <tr>\n",
              "      <th>225</th>\n",
              "      <td>1</td>\n",
              "      <td>2024-01-01 02:00:00</td>\n",
              "      <td>37.0</td>\n",
              "      <td>483.0</td>\n",
              "      <td>0.500000</td>\n",
              "    </tr>\n",
              "    <tr>\n",
              "      <th>363</th>\n",
              "      <td>1</td>\n",
              "      <td>2024-01-01 04:00:00</td>\n",
              "      <td>34.0</td>\n",
              "      <td>469.0</td>\n",
              "      <td>0.494898</td>\n",
              "    </tr>\n",
              "    <tr>\n",
              "      <th>501</th>\n",
              "      <td>1</td>\n",
              "      <td>2024-01-01 06:00:00</td>\n",
              "      <td>45.0</td>\n",
              "      <td>486.0</td>\n",
              "      <td>0.489796</td>\n",
              "    </tr>\n",
              "    <tr>\n",
              "      <th>639</th>\n",
              "      <td>1</td>\n",
              "      <td>2024-01-01 08:00:00</td>\n",
              "      <td>47.0</td>\n",
              "      <td>468.0</td>\n",
              "      <td>0.474490</td>\n",
              "    </tr>\n",
              "  </tbody>\n",
              "</table>\n",
              "</div>\n",
              "    <div class=\"colab-df-buttons\">\n",
              "\n",
              "  <div class=\"colab-df-container\">\n",
              "    <button class=\"colab-df-convert\" onclick=\"convertToInteractive('df-92c2b18e-1180-48e1-97bf-7cb1445da923')\"\n",
              "            title=\"Convert this dataframe to an interactive table.\"\n",
              "            style=\"display:none;\">\n",
              "\n",
              "  <svg xmlns=\"http://www.w3.org/2000/svg\" height=\"24px\" viewBox=\"0 -960 960 960\">\n",
              "    <path d=\"M120-120v-720h720v720H120Zm60-500h600v-160H180v160Zm220 220h160v-160H400v160Zm0 220h160v-160H400v160ZM180-400h160v-160H180v160Zm440 0h160v-160H620v160ZM180-180h160v-160H180v160Zm440 0h160v-160H620v160Z\"/>\n",
              "  </svg>\n",
              "    </button>\n",
              "\n",
              "  <style>\n",
              "    .colab-df-container {\n",
              "      display:flex;\n",
              "      gap: 12px;\n",
              "    }\n",
              "\n",
              "    .colab-df-convert {\n",
              "      background-color: #E8F0FE;\n",
              "      border: none;\n",
              "      border-radius: 50%;\n",
              "      cursor: pointer;\n",
              "      display: none;\n",
              "      fill: #1967D2;\n",
              "      height: 32px;\n",
              "      padding: 0 0 0 0;\n",
              "      width: 32px;\n",
              "    }\n",
              "\n",
              "    .colab-df-convert:hover {\n",
              "      background-color: #E2EBFA;\n",
              "      box-shadow: 0px 1px 2px rgba(60, 64, 67, 0.3), 0px 1px 3px 1px rgba(60, 64, 67, 0.15);\n",
              "      fill: #174EA6;\n",
              "    }\n",
              "\n",
              "    .colab-df-buttons div {\n",
              "      margin-bottom: 4px;\n",
              "    }\n",
              "\n",
              "    [theme=dark] .colab-df-convert {\n",
              "      background-color: #3B4455;\n",
              "      fill: #D2E3FC;\n",
              "    }\n",
              "\n",
              "    [theme=dark] .colab-df-convert:hover {\n",
              "      background-color: #434B5C;\n",
              "      box-shadow: 0px 1px 3px 1px rgba(0, 0, 0, 0.15);\n",
              "      filter: drop-shadow(0px 1px 2px rgba(0, 0, 0, 0.3));\n",
              "      fill: #FFFFFF;\n",
              "    }\n",
              "  </style>\n",
              "\n",
              "    <script>\n",
              "      const buttonEl =\n",
              "        document.querySelector('#df-92c2b18e-1180-48e1-97bf-7cb1445da923 button.colab-df-convert');\n",
              "      buttonEl.style.display =\n",
              "        google.colab.kernel.accessAllowed ? 'block' : 'none';\n",
              "\n",
              "      async function convertToInteractive(key) {\n",
              "        const element = document.querySelector('#df-92c2b18e-1180-48e1-97bf-7cb1445da923');\n",
              "        const dataTable =\n",
              "          await google.colab.kernel.invokeFunction('convertToInteractive',\n",
              "                                                    [key], {});\n",
              "        if (!dataTable) return;\n",
              "\n",
              "        const docLinkHtml = 'Like what you see? Visit the ' +\n",
              "          '<a target=\"_blank\" href=https://colab.research.google.com/notebooks/data_table.ipynb>data table notebook</a>'\n",
              "          + ' to learn more about interactive tables.';\n",
              "        element.innerHTML = '';\n",
              "        dataTable['output_type'] = 'display_data';\n",
              "        await google.colab.output.renderOutput(dataTable, element);\n",
              "        const docLink = document.createElement('div');\n",
              "        docLink.innerHTML = docLinkHtml;\n",
              "        element.appendChild(docLink);\n",
              "      }\n",
              "    </script>\n",
              "  </div>\n",
              "\n",
              "\n",
              "    <div id=\"df-ed6a83c9-5def-4867-b59e-c88ad0bea756\">\n",
              "      <button class=\"colab-df-quickchart\" onclick=\"quickchart('df-ed6a83c9-5def-4867-b59e-c88ad0bea756')\"\n",
              "                title=\"Suggest charts\"\n",
              "                style=\"display:none;\">\n",
              "\n",
              "<svg xmlns=\"http://www.w3.org/2000/svg\" height=\"24px\"viewBox=\"0 0 24 24\"\n",
              "     width=\"24px\">\n",
              "    <g>\n",
              "        <path d=\"M19 3H5c-1.1 0-2 .9-2 2v14c0 1.1.9 2 2 2h14c1.1 0 2-.9 2-2V5c0-1.1-.9-2-2-2zM9 17H7v-7h2v7zm4 0h-2V7h2v10zm4 0h-2v-4h2v4z\"/>\n",
              "    </g>\n",
              "</svg>\n",
              "      </button>\n",
              "\n",
              "<style>\n",
              "  .colab-df-quickchart {\n",
              "      --bg-color: #E8F0FE;\n",
              "      --fill-color: #1967D2;\n",
              "      --hover-bg-color: #E2EBFA;\n",
              "      --hover-fill-color: #174EA6;\n",
              "      --disabled-fill-color: #AAA;\n",
              "      --disabled-bg-color: #DDD;\n",
              "  }\n",
              "\n",
              "  [theme=dark] .colab-df-quickchart {\n",
              "      --bg-color: #3B4455;\n",
              "      --fill-color: #D2E3FC;\n",
              "      --hover-bg-color: #434B5C;\n",
              "      --hover-fill-color: #FFFFFF;\n",
              "      --disabled-bg-color: #3B4455;\n",
              "      --disabled-fill-color: #666;\n",
              "  }\n",
              "\n",
              "  .colab-df-quickchart {\n",
              "    background-color: var(--bg-color);\n",
              "    border: none;\n",
              "    border-radius: 50%;\n",
              "    cursor: pointer;\n",
              "    display: none;\n",
              "    fill: var(--fill-color);\n",
              "    height: 32px;\n",
              "    padding: 0;\n",
              "    width: 32px;\n",
              "  }\n",
              "\n",
              "  .colab-df-quickchart:hover {\n",
              "    background-color: var(--hover-bg-color);\n",
              "    box-shadow: 0 1px 2px rgba(60, 64, 67, 0.3), 0 1px 3px 1px rgba(60, 64, 67, 0.15);\n",
              "    fill: var(--button-hover-fill-color);\n",
              "  }\n",
              "\n",
              "  .colab-df-quickchart-complete:disabled,\n",
              "  .colab-df-quickchart-complete:disabled:hover {\n",
              "    background-color: var(--disabled-bg-color);\n",
              "    fill: var(--disabled-fill-color);\n",
              "    box-shadow: none;\n",
              "  }\n",
              "\n",
              "  .colab-df-spinner {\n",
              "    border: 2px solid var(--fill-color);\n",
              "    border-color: transparent;\n",
              "    border-bottom-color: var(--fill-color);\n",
              "    animation:\n",
              "      spin 1s steps(1) infinite;\n",
              "  }\n",
              "\n",
              "  @keyframes spin {\n",
              "    0% {\n",
              "      border-color: transparent;\n",
              "      border-bottom-color: var(--fill-color);\n",
              "      border-left-color: var(--fill-color);\n",
              "    }\n",
              "    20% {\n",
              "      border-color: transparent;\n",
              "      border-left-color: var(--fill-color);\n",
              "      border-top-color: var(--fill-color);\n",
              "    }\n",
              "    30% {\n",
              "      border-color: transparent;\n",
              "      border-left-color: var(--fill-color);\n",
              "      border-top-color: var(--fill-color);\n",
              "      border-right-color: var(--fill-color);\n",
              "    }\n",
              "    40% {\n",
              "      border-color: transparent;\n",
              "      border-right-color: var(--fill-color);\n",
              "      border-top-color: var(--fill-color);\n",
              "    }\n",
              "    60% {\n",
              "      border-color: transparent;\n",
              "      border-right-color: var(--fill-color);\n",
              "    }\n",
              "    80% {\n",
              "      border-color: transparent;\n",
              "      border-right-color: var(--fill-color);\n",
              "      border-bottom-color: var(--fill-color);\n",
              "    }\n",
              "    90% {\n",
              "      border-color: transparent;\n",
              "      border-bottom-color: var(--fill-color);\n",
              "    }\n",
              "  }\n",
              "</style>\n",
              "\n",
              "      <script>\n",
              "        async function quickchart(key) {\n",
              "          const quickchartButtonEl =\n",
              "            document.querySelector('#' + key + ' button');\n",
              "          quickchartButtonEl.disabled = true;  // To prevent multiple clicks.\n",
              "          quickchartButtonEl.classList.add('colab-df-spinner');\n",
              "          try {\n",
              "            const charts = await google.colab.kernel.invokeFunction(\n",
              "                'suggestCharts', [key], {});\n",
              "          } catch (error) {\n",
              "            console.error('Error during call to suggestCharts:', error);\n",
              "          }\n",
              "          quickchartButtonEl.classList.remove('colab-df-spinner');\n",
              "          quickchartButtonEl.classList.add('colab-df-quickchart-complete');\n",
              "        }\n",
              "        (() => {\n",
              "          let quickchartButtonEl =\n",
              "            document.querySelector('#df-ed6a83c9-5def-4867-b59e-c88ad0bea756 button');\n",
              "          quickchartButtonEl.style.display =\n",
              "            google.colab.kernel.accessAllowed ? 'block' : 'none';\n",
              "        })();\n",
              "      </script>\n",
              "    </div>\n",
              "\n",
              "    </div>\n",
              "  </div>\n"
            ],
            "application/vnd.google.colaboratory.intrinsic+json": {
              "type": "dataframe",
              "variable_name": "data_norm"
            }
          },
          "metadata": {},
          "execution_count": 22
        }
      ]
    },
    {
      "cell_type": "markdown",
      "source": [
        "### train/val/test split"
      ],
      "metadata": {
        "id": "zaoVepglP6ia"
      }
    },
    {
      "cell_type": "markdown",
      "source": [
        "train/val을 시기로 나눌 것인가? 개체별로 나눌 것인가?\n",
        "(일반적으로는 시기)"
      ],
      "metadata": {
        "id": "RTck4GiIknuN"
      }
    },
    {
      "cell_type": "markdown",
      "source": [
        "데이터의 `'개체 번호'`를 확인합니다."
      ],
      "metadata": {
        "id": "Z0T3pF1PNC1j"
      }
    },
    {
      "cell_type": "code",
      "source": [
        "data['개체 번호'].unique()"
      ],
      "metadata": {
        "colab": {
          "base_uri": "https://localhost:8080/"
        },
        "id": "zXDRZm5OkUj_",
        "outputId": "3311630a-1ab0-453a-ba79-da586c26c25e"
      },
      "execution_count": null,
      "outputs": [
        {
          "output_type": "execute_result",
          "data": {
            "text/plain": [
              "array([  1,   2,   3,   4,   5,   6,   7,   8,   9,  10,  11,  12,  13,\n",
              "        14,  15,  16,  17,  18,  19,  20,  21,  22,  23,  24,  25,  26,\n",
              "        27,  28,  29,  30,  31,  32,  33,  34,  35,  36,  37,  38,  39,\n",
              "        40,  41,  42,  43,  44,  45,  46,  47,  48,  50,  51,  52,  53,\n",
              "        54,  55,  56,  57,  58,  59,  60,  61,  62,  63,  64,  65,  66,\n",
              "        67,  68,  69,  70,  71,  72,  73,  75,  76,  77,  78,  79,  80,\n",
              "        81,  82,  83,  84,  85,  86,  87,  88,  89,  90,  91,  92,  93,\n",
              "        94,  95,  96,  97,  98,  99, 101, 102, 104, 105, 106, 107, 108,\n",
              "       110, 111, 112, 113, 114, 116, 117, 118, 121, 122, 124, 125, 128,\n",
              "       129, 131, 132, 133, 136, 137, 138, 139, 140, 143, 144, 145, 146,\n",
              "       149, 150, 151, 153, 155, 156, 157, 158, 159, 161, 162, 163, 164,\n",
              "       166, 167, 170, 199, 201, 203, 204, 205, 208, 211, 214, 215, 216,\n",
              "       218, 219, 220, 221, 222, 223, 224, 225, 226, 227, 228, 229, 230,\n",
              "       231, 232, 233, 234, 235, 236, 237, 238, 239, 240, 615, 659, 660,\n",
              "       661, 662, 690])"
            ]
          },
          "metadata": {},
          "execution_count": 14
        }
      ]
    },
    {
      "cell_type": "code",
      "source": [
        "len(data['개체 번호'].unique())"
      ],
      "metadata": {
        "colab": {
          "base_uri": "https://localhost:8080/"
        },
        "id": "_B3zPKItM_Ej",
        "outputId": "5eb1eb31-0598-4311-822b-75a518f6f145"
      },
      "execution_count": null,
      "outputs": [
        {
          "output_type": "execute_result",
          "data": {
            "text/plain": [
              "185"
            ]
          },
          "metadata": {},
          "execution_count": 15
        }
      ]
    },
    {
      "cell_type": "markdown",
      "source": [
        "`'개체 번호'`의 끝 번호는 690이지만, `len(data['개체 번호'].unique())`는 185인 것을 확인했습니다.\n",
        "\n",
        "총 개체 수는 '185' 입니다."
      ],
      "metadata": {
        "id": "VaKCCFF7NJTk"
      }
    },
    {
      "cell_type": "code",
      "source": [
        "num_idx = len(data['개체 번호'].unique())\n",
        "idx_list = np.random.permutation(data['개체 번호'].unique())\n",
        "\n",
        "# train/val\n",
        "train_idx = idx_list[:int(num_idx*0.8)]\n",
        "val_idx   = idx_list[int(num_idx*0.8):]\n",
        "\n",
        "print(f\"train 개체 수: {len(train_idx)}\")\n",
        "print(f\"val 개체 수: {len(val_idx)}\")\n",
        "\n",
        "# # train/val/test\n",
        "# train_idx = idx_list[:int(num_idx*0.8)]\n",
        "# val_idx   = idx_list[int(num_idx*0.8):int(num_idx*0.9)]\n",
        "# test_idx = idx_list[int(num_idx*0.9):]\n",
        "\n",
        "# print(f\"train 개체 수: {len(train_idx)}\")\n",
        "# print(f\"val 개체 수: {len(val_idx)}\")\n",
        "# print(f\"test 개체 수: {len(test_idx)}\")"
      ],
      "metadata": {
        "colab": {
          "base_uri": "https://localhost:8080/"
        },
        "id": "2_RTO4abQRbT",
        "outputId": "629fd517-c6ba-46be-d20a-4bbd625720d5"
      },
      "execution_count": null,
      "outputs": [
        {
          "output_type": "stream",
          "name": "stdout",
          "text": [
            "train 개체 수: 148\n",
            "val 개체 수: 37\n"
          ]
        }
      ]
    },
    {
      "cell_type": "code",
      "source": [
        "print(train_idx)\n",
        "print(val_idx)\n",
        "# print(test_idx)"
      ],
      "metadata": {
        "colab": {
          "base_uri": "https://localhost:8080/"
        },
        "id": "TtP9hKL5RgF3",
        "outputId": "bfd78653-31e8-4c42-f7e1-772e43644f19"
      },
      "execution_count": null,
      "outputs": [
        {
          "output_type": "stream",
          "name": "stdout",
          "text": [
            "[ 25  31  97 208  87 157 132  14 219 221  84 215  66  19 222 229 128  27\n",
            "  69 162  15  65  26 164  44  40 166  45 199 170 138  83  56 167 224  73\n",
            "  96 218  17  35   8  42  18  62 214 149  61  52  92 204 116 659   2  58\n",
            "  11 118  34 690  22 660 153 236 112 227  90 161  68  37   9  94  72  67\n",
            "  41   7 122  21 661  28  99  70 163 121  91 145 159 129  30 108 104 223\n",
            " 144  60  13 158  29 102  39  76  93  63  16 140   4  85 203  86 239   1\n",
            "  33 230  10 125 216 235 232  59  80 106  71 137 136  75 143  82  81  88\n",
            " 231 105 101 228 111 107  47  98 240  54 211 110 139 662  55  23  57 201\n",
            "  89 151  50 205]\n",
            "[ 64 146 113  24   5  43   6 156 238 615   3  77  12  53 233 155  48 234\n",
            "  51  20 124 131 225  36  46 133  38  32 150 226 114  95  79 237  78 117\n",
            " 220]\n"
          ]
        }
      ]
    },
    {
      "cell_type": "markdown",
      "source": [
        "## 2. 시퀀스 정의"
      ],
      "metadata": {
        "id": "fGvjvDXFVnCK"
      }
    },
    {
      "cell_type": "code",
      "source": [
        "def make_sequences(df, seq_len=4):\n",
        "    sequences = []\n",
        "    features = ['활동량', '전체 반추 시간(분)']\n",
        "    for cow_id, group in df.groupby('개체 번호'):\n",
        "        vals = group[features + ['발정 확률']].values\n",
        "        for i in range(len(vals) - seq_len):\n",
        "            seq_x = vals[i:i+seq_len, :2]         # (seq_len, 2)\n",
        "            seq_y = vals[i+seq_len, 2]            # scalar\n",
        "            sequences.append((seq_x, seq_y))\n",
        "    return sequences\n",
        "\n",
        "seq_len = 12 # 데이터 특징과 모델 성능을 고려하여 적절히 조정\n",
        "sequences = make_sequences(data, seq_len)\n",
        "print(f\"총 시퀀스 수: {len(sequences)}\")"
      ],
      "metadata": {
        "id": "wbsERzx3VoP-"
      },
      "execution_count": null,
      "outputs": []
    },
    {
      "cell_type": "markdown",
      "source": [
        "## 3. PyTorch 데이터셋 정의"
      ],
      "metadata": {
        "id": "f-A_2FM1m8Ob"
      }
    },
    {
      "cell_type": "code",
      "source": [
        "import torch\n",
        "from torch.utils.data import Dataset, DataLoader"
      ],
      "metadata": {
        "id": "JPfLz3dKnBrr"
      },
      "execution_count": null,
      "outputs": []
    },
    {
      "cell_type": "markdown",
      "source": [
        "데이터셋 클래스 생성&정의"
      ],
      "metadata": {
        "id": "ddqsI6v-nPXN"
      }
    },
    {
      "cell_type": "code",
      "source": [
        "class CowEstrusDataset(Dataset):\n",
        "    def __init__(self, sequences):\n",
        "        self.sequences = sequences\n",
        "    def __len__(self):\n",
        "        return len(self.sequences)\n",
        "    def __getitem__(self, idx):\n",
        "        x, y = self.sequences[idx]\n",
        "        return torch.FloatTensor(x), torch.FloatTensor([y])\n"
      ],
      "metadata": {
        "id": "feT9LMtXnEVc"
      },
      "execution_count": null,
      "outputs": []
    },
    {
      "cell_type": "markdown",
      "source": [
        "데이터 로더"
      ],
      "metadata": {
        "id": "zoTJk66mnSPw"
      }
    },
    {
      "cell_type": "code",
      "source": [
        "# train/val split\n",
        "split = int(len(sequences) * 0.8)\n",
        "train_ds = CowEstrusDataset(sequences[:split])\n",
        "val_ds   = CowEstrusDataset(sequences[split:])\n",
        "\n",
        "train_loader = DataLoader(train_ds, batch_size=64, shuffle=True)\n",
        "val_loader   = DataLoader(val_ds,   batch_size=64)"
      ],
      "metadata": {
        "id": "3X3WAI10mJYp"
      },
      "execution_count": null,
      "outputs": []
    },
    {
      "cell_type": "markdown",
      "source": [
        "# LSTM 회귀 모델\n",
        "\n",
        "모델 정의"
      ],
      "metadata": {
        "id": "DyHkgrZTcY17"
      }
    },
    {
      "cell_type": "code",
      "source": [
        "import torch.nn as nn"
      ],
      "metadata": {
        "id": "HoWvMbqYchTF"
      },
      "execution_count": null,
      "outputs": []
    },
    {
      "cell_type": "code",
      "source": [
        "class LSTM(nn.Module):\n",
        "    def __init__(self, num_classes, input_size, hidden_size, num_layers, sequence_length):\n"
      ],
      "metadata": {
        "id": "XePtr9zZicUB"
      },
      "execution_count": null,
      "outputs": []
    },
    {
      "cell_type": "code",
      "source": [
        "# class LSTM(nn.Module):\n",
        "#     def __init__(self, input_size=2, hidden_size=32, num_layers=2):\n",
        "#         super().__init__()\n",
        "#         self.lstm = nn.LSTM(input_size, hidden_size, num_layers,\n",
        "#                             batch_first=True)\n",
        "#         self.fc   = nn.Linear(hidden_size, 1)\n",
        "#     def forward(self, x):\n",
        "#         # x: (batch, seq_len, input_size)\n",
        "#         out, _ = self.lstm(x)\n",
        "#         last   = out[:, -1, :]          # 마지막 타임스텝\n",
        "#         return self.fc(last)            # (batch, 1)"
      ],
      "metadata": {
        "id": "YR_T-bOebh4b"
      },
      "execution_count": null,
      "outputs": []
    },
    {
      "cell_type": "markdown",
      "source": [
        "# 학습 및 평가"
      ],
      "metadata": {
        "id": "j_8UbILiclA3"
      }
    },
    {
      "cell_type": "code",
      "source": [
        "device   = 'cuda' if torch.cuda.is_available() else 'cpu'\n",
        "model    = LSTM().to(device)"
      ],
      "metadata": {
        "id": "aJkuC0UOcjaO"
      },
      "execution_count": null,
      "outputs": []
    },
    {
      "cell_type": "code",
      "source": [
        "criterion= nn.MSELoss()\n",
        "optimizer= torch.optim.Adam(model.parameters(), lr=0.005)"
      ],
      "metadata": {
        "id": "nOABwMo1cqxg"
      },
      "execution_count": null,
      "outputs": []
    },
    {
      "cell_type": "code",
      "source": [
        "def train_epoch():\n",
        "    model.train()\n",
        "    total = 0\n",
        "    for x, y in train_loader:\n",
        "        x, y = x.to(device), y.to(device)\n",
        "        optimizer.zero_grad()\n",
        "        pred = model(x)\n",
        "        loss = criterion(pred, y)\n",
        "        loss.backward()\n",
        "        optimizer.step()\n",
        "        total += loss.item()\n",
        "    return total / len(train_loader)"
      ],
      "metadata": {
        "id": "eycradA3cukg"
      },
      "execution_count": null,
      "outputs": []
    },
    {
      "cell_type": "code",
      "source": [
        "def eval_epoch():\n",
        "    model.eval()\n",
        "    total = 0\n",
        "    with torch.no_grad():\n",
        "        for x, y in val_loader:\n",
        "            x, y = x.to(device), y.to(device)\n",
        "            pred = model(x)\n",
        "            total += criterion(pred, y).item()\n",
        "    return total / len(val_loader)"
      ],
      "metadata": {
        "id": "0P1XzG4IcvBZ"
      },
      "execution_count": null,
      "outputs": []
    },
    {
      "cell_type": "code",
      "source": [
        "epochs = 20\n",
        "for ep in range(1, epochs+1):\n",
        "    tr = train_epoch()\n",
        "    va = eval_epoch()\n",
        "    print(f\"Epoch {ep:02d} ▶ train_loss={tr:.4f}, val_loss={va:.4f}\")"
      ],
      "metadata": {
        "id": "Q9q-tuYxcv4B"
      },
      "execution_count": null,
      "outputs": []
    },
    {
      "cell_type": "markdown",
      "source": [
        "# 시각화"
      ],
      "metadata": {
        "id": "vj1I4QO5gS6l"
      }
    },
    {
      "cell_type": "code",
      "source": [
        "import matplotlib.pyplot as plt"
      ],
      "metadata": {
        "id": "OJ_UfjatgZKd"
      },
      "execution_count": null,
      "outputs": []
    },
    {
      "cell_type": "code",
      "source": [
        "# 검증셋에 대해 예측 & 판정\n",
        "model.eval()\n",
        "preds, trues = [], []\n",
        "with torch.no_grad():\n",
        "    for x, y in val_loader:\n",
        "        x = x.to(device)\n",
        "        p = model(x).cpu().squeeze().numpy()\n",
        "        preds.extend(p)\n",
        "        trues.extend(y.squeeze().numpy())\n",
        "\n",
        "# 회귀 예측 곡선\n",
        "plt.figure(figsize=(8,4))\n",
        "plt.plot(trues, label='True')\n",
        "plt.plot(preds, label='Pred')\n",
        "plt.legend()\n",
        "plt.title(\"Estrus Probability: True vs Pred\")\n",
        "plt.show()\n",
        "\n",
        "# 25 이상이면 발정(True), 미만이면 비발정(False)\n",
        "pred_labels = np.array(preds) >= 25\n",
        "true_labels = np.array(trues) >= 25\n",
        "\n",
        "from sklearn.metrics import classification_report\n",
        "print(classification_report(true_labels, pred_labels, target_names=['No Estrus','Estrus']))\n"
      ],
      "metadata": {
        "id": "SvdyCN7mgWnl"
      },
      "execution_count": null,
      "outputs": []
    },
    {
      "cell_type": "code",
      "source": [],
      "metadata": {
        "id": "pZAcgGvAgW6g"
      },
      "execution_count": null,
      "outputs": []
    }
  ]
}